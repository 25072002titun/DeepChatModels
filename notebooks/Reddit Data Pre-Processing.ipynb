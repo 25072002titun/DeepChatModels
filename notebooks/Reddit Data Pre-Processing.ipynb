{
 "cells": [
  {
   "cell_type": "markdown",
   "metadata": {},
   "source": [
    "# Reddit Data Pre-Processing"
   ]
  },
  {
   "cell_type": "code",
   "execution_count": 1,
   "metadata": {
    "collapsed": false
   },
   "outputs": [],
   "source": [
    "import json\n",
    "import os\n",
    "import sys\n",
    "import numpy as np\n",
    "import pandas as pd\n",
    "from pprint import pprint\n",
    "import matplotlib.pyplot as plt\n",
    "import nltk\n",
    "from nltk import sent_tokenize, word_tokenize\n",
    "%matplotlib inline  \n",
    "pd.options.display.max_colwidth = 500"
   ]
  },
  {
   "cell_type": "markdown",
   "metadata": {},
   "source": [
    "### Enter All Directory Info In Cell Below\n",
    "\n",
    "My directory structure (Brandon):\n",
    "```\n",
    "reddit_data\n",
    "    raw_data\n",
    "        2007\n",
    "        ...\n",
    "        2015\n",
    "    processed_data\n",
    "        2007\n",
    "        ...\n",
    "        2015\n",
    "```\n",
    "Only info that needs to be changed to run this notebook is in the cell below."
   ]
  },
  {
   "cell_type": "code",
   "execution_count": 2,
   "metadata": {
    "collapsed": false
   },
   "outputs": [
    {
     "name": "stdout",
     "output_type": "stream",
     "text": [
      "You are currently in /home/brandon/Documents/seq2seq_projects/notebooks \n",
      "\n",
      "['/home/brandon/terabyte/Datasets/reddit_data/raw_data/2007/RC_2007-10',\n",
      " '/home/brandon/terabyte/Datasets/reddit_data/raw_data/2007/RC_2007-11',\n",
      " '/home/brandon/terabyte/Datasets/reddit_data/raw_data/2007/RC_2007-12']\n"
     ]
    }
   ],
   "source": [
    "print(\"You are currently in\", os.getcwd(), \"\\n\")\n",
    "DATA_ROOT = '/home/brandon/terabyte/Datasets/reddit_data'\n",
    "DATA_YEAR = '2007'\n",
    "# Use os.path.join; it will figure out the '/' in between.\n",
    "RAW_DATA_FILES = os.listdir(os.path.join(DATA_ROOT, 'raw_data', DATA_YEAR))\n",
    "# Always work with full pathnames to be safe.\n",
    "RAW_DATA_FILES = [os.path.join(DATA_ROOT, 'raw_data', DATA_YEAR, file) for file in RAW_DATA_FILES]\n",
    "pprint(RAW_DATA_FILES)"
   ]
  },
  {
   "cell_type": "markdown",
   "metadata": {
    "collapsed": true
   },
   "source": [
    "## Load Data and Display Basic Info"
   ]
  },
  {
   "cell_type": "code",
   "execution_count": 3,
   "metadata": {
    "collapsed": false
   },
   "outputs": [
    {
     "name": "stdout",
     "output_type": "stream",
     "text": [
      "Number of lines in raw data file 150429\n",
      "'Column names from raw data file:'\n",
      "Index(['archived', 'author', 'author_flair_css_class', 'author_flair_text',\n",
      "       'body', 'controversiality', 'created_utc', 'distinguished', 'downs',\n",
      "       'edited', 'gilded', 'id', 'link_id', 'name', 'parent_id',\n",
      "       'retrieved_on', 'score', 'score_hidden', 'subreddit', 'subreddit_id',\n",
      "       'ups'],\n",
      "      dtype='object')\n"
     ]
    }
   ],
   "source": [
    "df = pd.read_json(RAW_DATA_FILES[0], lines=True)\n",
    "init_num_rows = len(df)\n",
    "print(\"Number of lines in raw data file\", init_num_rows)\n",
    "pprint(\"Column names from raw data file:\")\n",
    "pprint(df.columns, width=100)"
   ]
  },
  {
   "cell_type": "code",
   "execution_count": 4,
   "metadata": {
    "collapsed": true
   },
   "outputs": [],
   "source": [
    "def show_len_update(df):\n",
    "    print(\"Now there are\", len(df), \"rows.\")\n",
    "    \n",
    "def root_comments(df):\n",
    "    '''Build list determining which rows of df are root comments.\n",
    "    \n",
    "    Returns: \n",
    "        list of length equal to the number of rows in our data frame. \n",
    "    '''\n",
    "    root_value = []\n",
    "    # Iterate over DataFrame rows as namedtuples, with index value as first element of the tuple.\n",
    "    for row in df.itertuples():\n",
    "        root_value.append(row.parent_id == row.link_id)\n",
    "    return root_value\n",
    "\n",
    "def random_rows_generator(num_rows_per_print, num_rows_total):\n",
    "    num_iterations = num_rows_total // num_rows_per_print \n",
    "    shuffled_indices = np.arange(num_rows_per_print * num_iterations)\n",
    "    np.random.shuffle(shuffled_indices)\n",
    "    for batch in shuffled_indices.reshape(num_iterations, num_rows_per_print):\n",
    "        yield batch\n",
    "        \n",
    "#rand_rows = random_rows_generator(4, len(df))"
   ]
  },
  {
   "cell_type": "markdown",
   "metadata": {},
   "source": [
    "### Initial Clean up"
   ]
  },
  {
   "cell_type": "markdown",
   "metadata": {},
   "source": [
    "* Start by removing comments without a body (deleted).\n",
    "* Remove comments larger than 150 words long.\n",
    "* Remove unneccesary columns. \n",
    "* Add a column determining whether a row is a root comment."
   ]
  },
  {
   "cell_type": "code",
   "execution_count": 5,
   "metadata": {
    "collapsed": false
   },
   "outputs": [
    {
     "name": "stdout",
     "output_type": "stream",
     "text": [
      "Now there are 150429 rows.\n"
     ]
    },
    {
     "data": {
      "text/html": [
       "<div>\n",
       "<table border=\"1\" class=\"dataframe\">\n",
       "  <thead>\n",
       "    <tr style=\"text-align: right;\">\n",
       "      <th></th>\n",
       "      <th>author</th>\n",
       "      <th>body</th>\n",
       "      <th>link_id</th>\n",
       "      <th>parent_id</th>\n",
       "      <th>name</th>\n",
       "      <th>root</th>\n",
       "      <th>subreddit</th>\n",
       "    </tr>\n",
       "  </thead>\n",
       "  <tbody>\n",
       "    <tr>\n",
       "      <th>0</th>\n",
       "      <td>bostich</td>\n",
       "      <td>test</td>\n",
       "      <td>t3_5yba3</td>\n",
       "      <td>t3_5yba3</td>\n",
       "      <td>t1_c0299an</td>\n",
       "      <td>True</td>\n",
       "      <td>reddit.com</td>\n",
       "    </tr>\n",
       "    <tr>\n",
       "      <th>1</th>\n",
       "      <td>igiveyoumylife</td>\n",
       "      <td>much smoother.\\r\\n\\r\\nIm just glad reddit is back, #reddit in mIRC was entertaining but I had no idea how addicted I had become. Thanks for making the detox somewhat short.</td>\n",
       "      <td>t3_5yba3</td>\n",
       "      <td>t3_5yba3</td>\n",
       "      <td>t1_c0299ao</td>\n",
       "      <td>True</td>\n",
       "      <td>reddit.com</td>\n",
       "    </tr>\n",
       "    <tr>\n",
       "      <th>2</th>\n",
       "      <td>Arve</td>\n",
       "      <td>Can we please deprecate the word \"Ajax\" now? \\r\\n\\r\\n(But yeah, this _is_ much nicer)</td>\n",
       "      <td>t3_5yba3</td>\n",
       "      <td>t1_c02999p</td>\n",
       "      <td>t1_c0299ap</td>\n",
       "      <td>False</td>\n",
       "      <td>reddit.com</td>\n",
       "    </tr>\n",
       "    <tr>\n",
       "      <th>3</th>\n",
       "      <td>[deleted]</td>\n",
       "      <td>[deleted]</td>\n",
       "      <td>t3_5yba3</td>\n",
       "      <td>t3_5yba3</td>\n",
       "      <td>t1_c0299aq</td>\n",
       "      <td>True</td>\n",
       "      <td>reddit.com</td>\n",
       "    </tr>\n",
       "    <tr>\n",
       "      <th>4</th>\n",
       "      <td>gigaquack</td>\n",
       "      <td>Oh, I see. Fancy schmancy \"submitting....\"</td>\n",
       "      <td>t3_5yba3</td>\n",
       "      <td>t1_c0299ah</td>\n",
       "      <td>t1_c0299ar</td>\n",
       "      <td>False</td>\n",
       "      <td>reddit.com</td>\n",
       "    </tr>\n",
       "  </tbody>\n",
       "</table>\n",
       "</div>"
      ],
      "text/plain": [
       "           author  \\\n",
       "0         bostich   \n",
       "1  igiveyoumylife   \n",
       "2            Arve   \n",
       "3       [deleted]   \n",
       "4       gigaquack   \n",
       "\n",
       "                                                                                                                                                                           body  \\\n",
       "0                                                                                                                                                                          test   \n",
       "1  much smoother.\\r\\n\\r\\nIm just glad reddit is back, #reddit in mIRC was entertaining but I had no idea how addicted I had become. Thanks for making the detox somewhat short.   \n",
       "2                                                                                         Can we please deprecate the word \"Ajax\" now? \\r\\n\\r\\n(But yeah, this _is_ much nicer)   \n",
       "3                                                                                                                                                                     [deleted]   \n",
       "4                                                                                                                                    Oh, I see. Fancy schmancy \"submitting....\"   \n",
       "\n",
       "    link_id   parent_id        name   root   subreddit  \n",
       "0  t3_5yba3    t3_5yba3  t1_c0299an   True  reddit.com  \n",
       "1  t3_5yba3    t3_5yba3  t1_c0299ao   True  reddit.com  \n",
       "2  t3_5yba3  t1_c02999p  t1_c0299ap  False  reddit.com  \n",
       "3  t3_5yba3    t3_5yba3  t1_c0299aq   True  reddit.com  \n",
       "4  t3_5yba3  t1_c0299ah  t1_c0299ar  False  reddit.com  "
      ]
     },
     "execution_count": 5,
     "metadata": {},
     "output_type": "execute_result"
    }
   ],
   "source": [
    "df['root'] = root_comments(df)\n",
    "df = df[['author', 'body', 'link_id', 'parent_id', 'name', 'root', 'subreddit']]\n",
    "df.style.set_properties(subset=['body'], **{'width': '500px'})\n",
    "df.style.set_properties(**{'text-align': 'left'})\n",
    "show_len_update(df)\n",
    "df.head()"
   ]
  },
  {
   "cell_type": "markdown",
   "metadata": {},
   "source": [
    "#### Remove Unwanted String Patterns in Body"
   ]
  },
  {
   "cell_type": "code",
   "execution_count": 6,
   "metadata": {
    "collapsed": false
   },
   "outputs": [
    {
     "name": "stdout",
     "output_type": "stream",
     "text": [
      "Update: Hi.\n"
     ]
    },
    {
     "data": {
      "text/html": [
       "<div>\n",
       "<table border=\"1\" class=\"dataframe\">\n",
       "  <thead>\n",
       "    <tr style=\"text-align: right;\">\n",
       "      <th></th>\n",
       "      <th>author</th>\n",
       "      <th>body</th>\n",
       "      <th>link_id</th>\n",
       "      <th>parent_id</th>\n",
       "      <th>name</th>\n",
       "      <th>root</th>\n",
       "      <th>subreddit</th>\n",
       "    </tr>\n",
       "  </thead>\n",
       "  <tbody>\n",
       "    <tr>\n",
       "      <th>0</th>\n",
       "      <td>bostich</td>\n",
       "      <td>test</td>\n",
       "      <td>t3_5yba3</td>\n",
       "      <td>t3_5yba3</td>\n",
       "      <td>t1_c0299an</td>\n",
       "      <td>True</td>\n",
       "      <td>reddit.com</td>\n",
       "    </tr>\n",
       "    <tr>\n",
       "      <th>1</th>\n",
       "      <td>igiveyoumylife</td>\n",
       "      <td>much smoother.  Im just glad reddit is back,  reddit in mIRC was entertaining but I had no idea how addicted I had become. Thanks for making the detox somewhat short.</td>\n",
       "      <td>t3_5yba3</td>\n",
       "      <td>t3_5yba3</td>\n",
       "      <td>t1_c0299ao</td>\n",
       "      <td>True</td>\n",
       "      <td>reddit.com</td>\n",
       "    </tr>\n",
       "    <tr>\n",
       "      <th>2</th>\n",
       "      <td>Arve</td>\n",
       "      <td>Can we please deprecate the word \"Ajax\" now?   (But yeah, this _is_ much nicer)</td>\n",
       "      <td>t3_5yba3</td>\n",
       "      <td>t1_c02999p</td>\n",
       "      <td>t1_c0299ap</td>\n",
       "      <td>False</td>\n",
       "      <td>reddit.com</td>\n",
       "    </tr>\n",
       "    <tr>\n",
       "      <th>4</th>\n",
       "      <td>gigaquack</td>\n",
       "      <td>Oh, I see. Fancy schmancy \"submitting....\"</td>\n",
       "      <td>t3_5yba3</td>\n",
       "      <td>t1_c0299ah</td>\n",
       "      <td>t1_c0299ar</td>\n",
       "      <td>False</td>\n",
       "      <td>reddit.com</td>\n",
       "    </tr>\n",
       "    <tr>\n",
       "      <th>5</th>\n",
       "      <td>Percept</td>\n",
       "      <td>testing ...</td>\n",
       "      <td>t3_5yba3</td>\n",
       "      <td>t3_5yba3</td>\n",
       "      <td>t1_c0299as</td>\n",
       "      <td>True</td>\n",
       "      <td>reddit.com</td>\n",
       "    </tr>\n",
       "  </tbody>\n",
       "</table>\n",
       "</div>"
      ],
      "text/plain": [
       "           author  \\\n",
       "0         bostich   \n",
       "1  igiveyoumylife   \n",
       "2            Arve   \n",
       "4       gigaquack   \n",
       "5         Percept   \n",
       "\n",
       "                                                                                                                                                                     body  \\\n",
       "0                                                                                                                                                                    test   \n",
       "1  much smoother.  Im just glad reddit is back,  reddit in mIRC was entertaining but I had no idea how addicted I had become. Thanks for making the detox somewhat short.   \n",
       "2                                                                                         Can we please deprecate the word \"Ajax\" now?   (But yeah, this _is_ much nicer)   \n",
       "4                                                                                                                              Oh, I see. Fancy schmancy \"submitting....\"   \n",
       "5                                                                                                                                                             testing ...   \n",
       "\n",
       "    link_id   parent_id        name   root   subreddit  \n",
       "0  t3_5yba3    t3_5yba3  t1_c0299an   True  reddit.com  \n",
       "1  t3_5yba3    t3_5yba3  t1_c0299ao   True  reddit.com  \n",
       "2  t3_5yba3  t1_c02999p  t1_c0299ap  False  reddit.com  \n",
       "4  t3_5yba3  t1_c0299ah  t1_c0299ar  False  reddit.com  \n",
       "5  t3_5yba3    t3_5yba3  t1_c0299as   True  reddit.com  "
      ]
     },
     "execution_count": 6,
     "metadata": {},
     "output_type": "execute_result"
    }
   ],
   "source": [
    "df.style.set_properties(subset=['body'], **{'width': '800px'})\n",
    "df = df.loc[df.body != '[deleted]']\n",
    "remove_list = ['\\r\\n', '\\n', '\\r', '&gt;', '&lt;', # Newlines, >, <, \n",
    "               'https?:\\/\\/(?:www\\.|(?!www))[^\\s\\.]+\\.[^\\s]{2,}|www\\.[^\\s]+\\.[^\\s]{2,}', # URLs\n",
    "              '/__|\\*|\\#|(?:\\[([^\\]]*)\\]\\([^)]*\\))/gm', # Markdown links\n",
    "              ]\n",
    "print(\"Update: Hi.\")\n",
    "for pattern in remove_list:\n",
    "    df['body'].replace({pattern: ' '}, regex=True, inplace=True)\n",
    "df.head()"
   ]
  },
  {
   "cell_type": "code",
   "execution_count": 7,
   "metadata": {
    "collapsed": false
   },
   "outputs": [
    {
     "name": "stdout",
     "output_type": "stream",
     "text": [
      "Update: How're you feeling?\n",
      "Update: Because I feel fine.\n",
      "Now there are 126320 rows.\n"
     ]
    },
    {
     "data": {
      "text/html": [
       "<div>\n",
       "<table border=\"1\" class=\"dataframe\">\n",
       "  <thead>\n",
       "    <tr style=\"text-align: right;\">\n",
       "      <th></th>\n",
       "      <th>author</th>\n",
       "      <th>body</th>\n",
       "      <th>link_id</th>\n",
       "      <th>parent_id</th>\n",
       "      <th>name</th>\n",
       "      <th>root</th>\n",
       "      <th>subreddit</th>\n",
       "    </tr>\n",
       "  </thead>\n",
       "  <tbody>\n",
       "    <tr>\n",
       "      <th>0</th>\n",
       "      <td>bostich</td>\n",
       "      <td>test</td>\n",
       "      <td>t3_5yba3</td>\n",
       "      <td>t3_5yba3</td>\n",
       "      <td>t1_c0299an</td>\n",
       "      <td>True</td>\n",
       "      <td>reddit.com</td>\n",
       "    </tr>\n",
       "    <tr>\n",
       "      <th>1</th>\n",
       "      <td>igiveyoumylife</td>\n",
       "      <td>much smoother. im just glad reddit is back, reddit in mirc was entertaining but i had no idea how addicted i had become. thanks for making the detox somewhat short.</td>\n",
       "      <td>t3_5yba3</td>\n",
       "      <td>t3_5yba3</td>\n",
       "      <td>t1_c0299ao</td>\n",
       "      <td>True</td>\n",
       "      <td>reddit.com</td>\n",
       "    </tr>\n",
       "    <tr>\n",
       "      <th>2</th>\n",
       "      <td>Arve</td>\n",
       "      <td>can we please deprecate the word \"ajax\" now?  (but yeah, this _is_ much nicer)</td>\n",
       "      <td>t3_5yba3</td>\n",
       "      <td>t1_c02999p</td>\n",
       "      <td>t1_c0299ap</td>\n",
       "      <td>False</td>\n",
       "      <td>reddit.com</td>\n",
       "    </tr>\n",
       "    <tr>\n",
       "      <th>4</th>\n",
       "      <td>gigaquack</td>\n",
       "      <td>oh, i see. fancy schmancy \"submitting. .\"</td>\n",
       "      <td>t3_5yba3</td>\n",
       "      <td>t1_c0299ah</td>\n",
       "      <td>t1_c0299ar</td>\n",
       "      <td>False</td>\n",
       "      <td>reddit.com</td>\n",
       "    </tr>\n",
       "    <tr>\n",
       "      <th>5</th>\n",
       "      <td>Percept</td>\n",
       "      <td>testing .</td>\n",
       "      <td>t3_5yba3</td>\n",
       "      <td>t3_5yba3</td>\n",
       "      <td>t1_c0299as</td>\n",
       "      <td>True</td>\n",
       "      <td>reddit.com</td>\n",
       "    </tr>\n",
       "  </tbody>\n",
       "</table>\n",
       "</div>"
      ],
      "text/plain": [
       "           author  \\\n",
       "0         bostich   \n",
       "1  igiveyoumylife   \n",
       "2            Arve   \n",
       "4       gigaquack   \n",
       "5         Percept   \n",
       "\n",
       "                                                                                                                                                                   body  \\\n",
       "0                                                                                                                                                                  test   \n",
       "1  much smoother. im just glad reddit is back, reddit in mirc was entertaining but i had no idea how addicted i had become. thanks for making the detox somewhat short.   \n",
       "2                                                                                        can we please deprecate the word \"ajax\" now?  (but yeah, this _is_ much nicer)   \n",
       "4                                                                                                                             oh, i see. fancy schmancy \"submitting. .\"   \n",
       "5                                                                                                                                                            testing .    \n",
       "\n",
       "    link_id   parent_id        name   root   subreddit  \n",
       "0  t3_5yba3    t3_5yba3  t1_c0299an   True  reddit.com  \n",
       "1  t3_5yba3    t3_5yba3  t1_c0299ao   True  reddit.com  \n",
       "2  t3_5yba3  t1_c02999p  t1_c0299ap  False  reddit.com  \n",
       "4  t3_5yba3  t1_c0299ah  t1_c0299ar  False  reddit.com  \n",
       "5  t3_5yba3    t3_5yba3  t1_c0299as   True  reddit.com  "
      ]
     },
     "execution_count": 7,
     "metadata": {},
     "output_type": "execute_result"
    }
   ],
   "source": [
    "# Misc.\n",
    "print(\"Update: How're you feeling?\")\n",
    "df['body'] = df['body'].map(lambda s: s.strip().lower())\n",
    "df['body'].replace({'  ': ' '}, regex=True, inplace=True)\n",
    "df['body'].replace({'\\[*.\\]\\(*.\\)': ' '}, regex=True, inplace=True) # My simpler Markdown link matcher.\n",
    "print(\"Update: Because I feel fine.\")\n",
    "df['body'].replace({'\\d+': 'NUMBER'}, regex=True, inplace=True)\n",
    "df['body'].replace({'\\[': ''}, regex=True, inplace=True)\n",
    "df['body'].replace({'\\]': ''}, regex=True, inplace=True)\n",
    "df['body'].replace({'\\/\\/': ''}, regex=True, inplace=True)\n",
    "df['body'].replace({'\\.\\.\\.': '. '}, regex=True, inplace=True)\n",
    "#df['body'].replace({'\\s*': ' '}, regex=True, inplace=True)\n",
    "show_len_update(df)\n",
    "df.head()"
   ]
  },
  {
   "cell_type": "code",
   "execution_count": 8,
   "metadata": {
    "collapsed": false
   },
   "outputs": [
    {
     "data": {
      "text/plain": [
       "0                                                                                                                                                                     test\n",
       "1     much smoother. im just glad reddit is back, reddit in mirc was entertaining but i had no idea how addicted i had become. thanks for making the detox somewhat short.\n",
       "2                                                                                           can we please deprecate the word \"ajax\" now?  (but yeah, this _is_ much nicer)\n",
       "4                                                                                                                                oh, i see. fancy schmancy \"submitting. .\"\n",
       "5                                                                                                                                                               testing . \n",
       "6                                                                                                                                               i like it. one more time. \n",
       "7                                                                                                        try refreshing yor cache, that worked for me edit: trying to edit\n",
       "8                                                                                                                                               k. i lied. just one more. \n",
       "9                                                                                                                                 i also wonder what the differences are. \n",
       "10                                                                                                                                                          so addictive. \n",
       "Name: body, dtype: object"
      ]
     },
     "execution_count": 8,
     "metadata": {},
     "output_type": "execute_result"
    }
   ],
   "source": [
    "df.loc[:10]['body']"
   ]
  },
  {
   "cell_type": "markdown",
   "metadata": {},
   "source": [
    "* Remove rows where body is over n words long."
   ]
  },
  {
   "cell_type": "code",
   "execution_count": 9,
   "metadata": {
    "collapsed": false
   },
   "outputs": [
    {
     "name": "stdout",
     "output_type": "stream",
     "text": [
      "Length before: 126320\n",
      "Now there are 103389 rows.\n"
     ]
    },
    {
     "data": {
      "text/html": [
       "<div>\n",
       "<table border=\"1\" class=\"dataframe\">\n",
       "  <thead>\n",
       "    <tr style=\"text-align: right;\">\n",
       "      <th></th>\n",
       "      <th>author</th>\n",
       "      <th>body</th>\n",
       "      <th>link_id</th>\n",
       "      <th>parent_id</th>\n",
       "      <th>name</th>\n",
       "      <th>root</th>\n",
       "      <th>subreddit</th>\n",
       "    </tr>\n",
       "  </thead>\n",
       "  <tbody>\n",
       "    <tr>\n",
       "      <th>0</th>\n",
       "      <td>bostich</td>\n",
       "      <td>test</td>\n",
       "      <td>t3_5yba3</td>\n",
       "      <td>t3_5yba3</td>\n",
       "      <td>t1_c0299an</td>\n",
       "      <td>True</td>\n",
       "      <td>reddit.com</td>\n",
       "    </tr>\n",
       "    <tr>\n",
       "      <th>1</th>\n",
       "      <td>igiveyoumylife</td>\n",
       "      <td>much smoother. im just glad reddit is back, reddit in mirc was entertaining but i had no idea how addicted i had become. thanks for making the detox somewhat short.</td>\n",
       "      <td>t3_5yba3</td>\n",
       "      <td>t3_5yba3</td>\n",
       "      <td>t1_c0299ao</td>\n",
       "      <td>True</td>\n",
       "      <td>reddit.com</td>\n",
       "    </tr>\n",
       "    <tr>\n",
       "      <th>2</th>\n",
       "      <td>Arve</td>\n",
       "      <td>can we please deprecate the word \"ajax\" now?  (but yeah, this _is_ much nicer)</td>\n",
       "      <td>t3_5yba3</td>\n",
       "      <td>t1_c02999p</td>\n",
       "      <td>t1_c0299ap</td>\n",
       "      <td>False</td>\n",
       "      <td>reddit.com</td>\n",
       "    </tr>\n",
       "    <tr>\n",
       "      <th>4</th>\n",
       "      <td>gigaquack</td>\n",
       "      <td>oh, i see. fancy schmancy \"submitting. .\"</td>\n",
       "      <td>t3_5yba3</td>\n",
       "      <td>t1_c0299ah</td>\n",
       "      <td>t1_c0299ar</td>\n",
       "      <td>False</td>\n",
       "      <td>reddit.com</td>\n",
       "    </tr>\n",
       "    <tr>\n",
       "      <th>5</th>\n",
       "      <td>Percept</td>\n",
       "      <td>testing .</td>\n",
       "      <td>t3_5yba3</td>\n",
       "      <td>t3_5yba3</td>\n",
       "      <td>t1_c0299as</td>\n",
       "      <td>True</td>\n",
       "      <td>reddit.com</td>\n",
       "    </tr>\n",
       "  </tbody>\n",
       "</table>\n",
       "</div>"
      ],
      "text/plain": [
       "           author  \\\n",
       "0         bostich   \n",
       "1  igiveyoumylife   \n",
       "2            Arve   \n",
       "4       gigaquack   \n",
       "5         Percept   \n",
       "\n",
       "                                                                                                                                                                   body  \\\n",
       "0                                                                                                                                                                  test   \n",
       "1  much smoother. im just glad reddit is back, reddit in mirc was entertaining but i had no idea how addicted i had become. thanks for making the detox somewhat short.   \n",
       "2                                                                                        can we please deprecate the word \"ajax\" now?  (but yeah, this _is_ much nicer)   \n",
       "4                                                                                                                             oh, i see. fancy schmancy \"submitting. .\"   \n",
       "5                                                                                                                                                            testing .    \n",
       "\n",
       "    link_id   parent_id        name   root   subreddit  \n",
       "0  t3_5yba3    t3_5yba3  t1_c0299an   True  reddit.com  \n",
       "1  t3_5yba3    t3_5yba3  t1_c0299ao   True  reddit.com  \n",
       "2  t3_5yba3  t1_c02999p  t1_c0299ap  False  reddit.com  \n",
       "4  t3_5yba3  t1_c0299ah  t1_c0299ar  False  reddit.com  \n",
       "5  t3_5yba3    t3_5yba3  t1_c0299as   True  reddit.com  "
      ]
     },
     "execution_count": 9,
     "metadata": {},
     "output_type": "execute_result"
    }
   ],
   "source": [
    "n = 60\n",
    "print(\"Length before:\", df['body'].size)\n",
    "df = df[df['body'].map(lambda s: len(s.split(' '))) < n]\n",
    "show_len_update(df)\n",
    "df.head()"
   ]
  },
  {
   "cell_type": "markdown",
   "metadata": {},
   "source": [
    "Remove rows where body == 'NUMBER'. There are a lot. Hacky but w/e. Wow it worked. heh"
   ]
  },
  {
   "cell_type": "code",
   "execution_count": 10,
   "metadata": {
    "collapsed": false
   },
   "outputs": [
    {
     "name": "stdout",
     "output_type": "stream",
     "text": [
      "Now there are 102966 rows.\n"
     ]
    },
    {
     "data": {
      "text/html": [
       "<div>\n",
       "<table border=\"1\" class=\"dataframe\">\n",
       "  <thead>\n",
       "    <tr style=\"text-align: right;\">\n",
       "      <th></th>\n",
       "      <th>author</th>\n",
       "      <th>body</th>\n",
       "      <th>link_id</th>\n",
       "      <th>parent_id</th>\n",
       "      <th>name</th>\n",
       "      <th>root</th>\n",
       "      <th>subreddit</th>\n",
       "    </tr>\n",
       "  </thead>\n",
       "  <tbody>\n",
       "    <tr>\n",
       "      <th>0</th>\n",
       "      <td>bostich</td>\n",
       "      <td>test</td>\n",
       "      <td>t3_5yba3</td>\n",
       "      <td>t3_5yba3</td>\n",
       "      <td>t1_c0299an</td>\n",
       "      <td>True</td>\n",
       "      <td>reddit.com</td>\n",
       "    </tr>\n",
       "    <tr>\n",
       "      <th>1</th>\n",
       "      <td>igiveyoumylife</td>\n",
       "      <td>much smoother. im just glad reddit is back, reddit in mirc was entertaining but i had no idea how addicted i had become. thanks for making the detox somewhat short.</td>\n",
       "      <td>t3_5yba3</td>\n",
       "      <td>t3_5yba3</td>\n",
       "      <td>t1_c0299ao</td>\n",
       "      <td>True</td>\n",
       "      <td>reddit.com</td>\n",
       "    </tr>\n",
       "    <tr>\n",
       "      <th>2</th>\n",
       "      <td>Arve</td>\n",
       "      <td>can we please deprecate the word \"ajax\" now?  but yeah, this _is_ much nicer</td>\n",
       "      <td>t3_5yba3</td>\n",
       "      <td>t1_c02999p</td>\n",
       "      <td>t1_c0299ap</td>\n",
       "      <td>False</td>\n",
       "      <td>reddit.com</td>\n",
       "    </tr>\n",
       "    <tr>\n",
       "      <th>4</th>\n",
       "      <td>gigaquack</td>\n",
       "      <td>oh, i see. fancy schmancy \"submitting. .\"</td>\n",
       "      <td>t3_5yba3</td>\n",
       "      <td>t1_c0299ah</td>\n",
       "      <td>t1_c0299ar</td>\n",
       "      <td>False</td>\n",
       "      <td>reddit.com</td>\n",
       "    </tr>\n",
       "    <tr>\n",
       "      <th>5</th>\n",
       "      <td>Percept</td>\n",
       "      <td>testing .</td>\n",
       "      <td>t3_5yba3</td>\n",
       "      <td>t3_5yba3</td>\n",
       "      <td>t1_c0299as</td>\n",
       "      <td>True</td>\n",
       "      <td>reddit.com</td>\n",
       "    </tr>\n",
       "  </tbody>\n",
       "</table>\n",
       "</div>"
      ],
      "text/plain": [
       "           author  \\\n",
       "0         bostich   \n",
       "1  igiveyoumylife   \n",
       "2            Arve   \n",
       "4       gigaquack   \n",
       "5         Percept   \n",
       "\n",
       "                                                                                                                                                                   body  \\\n",
       "0                                                                                                                                                                  test   \n",
       "1  much smoother. im just glad reddit is back, reddit in mirc was entertaining but i had no idea how addicted i had become. thanks for making the detox somewhat short.   \n",
       "2                                                                                          can we please deprecate the word \"ajax\" now?  but yeah, this _is_ much nicer   \n",
       "4                                                                                                                             oh, i see. fancy schmancy \"submitting. .\"   \n",
       "5                                                                                                                                                            testing .    \n",
       "\n",
       "    link_id   parent_id        name   root   subreddit  \n",
       "0  t3_5yba3    t3_5yba3  t1_c0299an   True  reddit.com  \n",
       "1  t3_5yba3    t3_5yba3  t1_c0299ao   True  reddit.com  \n",
       "2  t3_5yba3  t1_c02999p  t1_c0299ap  False  reddit.com  \n",
       "4  t3_5yba3  t1_c0299ah  t1_c0299ar  False  reddit.com  \n",
       "5  t3_5yba3    t3_5yba3  t1_c0299as   True  reddit.com  "
      ]
     },
     "execution_count": 10,
     "metadata": {},
     "output_type": "execute_result"
    }
   ],
   "source": [
    "df['body'].replace({'NUMBER': ' '}, regex=True, inplace=True)\n",
    "df['body'].replace({'^.*NUMBER.*NUMBER.*$': ''}, regex=True, inplace=True)\n",
    "df['body'].replace({'\\[|\\]|\\(|\\)': ''}, regex=True, inplace=True)\n",
    "df['body'].replace({'\\'': ''}, regex=True, inplace=True)\n",
    "df['body'].replace({'-*': ''}, regex=True, inplace=True)\n",
    "df['body'].replace({'\\$|%': ''}, regex=True, inplace=True)\n",
    "df = df[df['body'].map(lambda s: s == '') == False]\n",
    "show_len_update(df)\n",
    "df.head()"
   ]
  },
  {
   "cell_type": "code",
   "execution_count": 11,
   "metadata": {
    "collapsed": false
   },
   "outputs": [
    {
     "data": {
      "text/html": [
       "<div>\n",
       "<table border=\"1\" class=\"dataframe\">\n",
       "  <thead>\n",
       "    <tr style=\"text-align: right;\">\n",
       "      <th></th>\n",
       "      <th>author</th>\n",
       "      <th>body</th>\n",
       "      <th>link_id</th>\n",
       "      <th>parent_id</th>\n",
       "      <th>name</th>\n",
       "      <th>root</th>\n",
       "      <th>subreddit</th>\n",
       "    </tr>\n",
       "  </thead>\n",
       "  <tbody>\n",
       "    <tr>\n",
       "      <th>150421</th>\n",
       "      <td>folderol</td>\n",
       "      <td>muscle memory.  or he never knew how to run and hence took up race walking.</td>\n",
       "      <td>t3_5zj73</td>\n",
       "      <td>t1_c02cfl4</td>\n",
       "      <td>t1_c02cheo</td>\n",
       "      <td>False</td>\n",
       "      <td>reddit.com</td>\n",
       "    </tr>\n",
       "    <tr>\n",
       "      <th>150422</th>\n",
       "      <td>michaelco</td>\n",
       "      <td>man develops delusions wow thats a headline</td>\n",
       "      <td>t3_5zjx2</td>\n",
       "      <td>t3_5zjx2</td>\n",
       "      <td>t1_c02chep</td>\n",
       "      <td>True</td>\n",
       "      <td>reddit.com</td>\n",
       "    </tr>\n",
       "    <tr>\n",
       "      <th>150424</th>\n",
       "      <td>aletoledo</td>\n",
       "      <td>i have a list of redditers i wish to have censored. when weve reached that point i think we can then call it enough. so screw everyone getting free speech, we need to get an even balance between profit and freedom.</td>\n",
       "      <td>t3_5zk1h</td>\n",
       "      <td>t1_c02che2</td>\n",
       "      <td>t1_c02cher</td>\n",
       "      <td>False</td>\n",
       "      <td>reddit.com</td>\n",
       "    </tr>\n",
       "    <tr>\n",
       "      <th>150425</th>\n",
       "      <td>Dark-Star</td>\n",
       "      <td>nope. too lazy and dont care for until they or a close friend are touched by the drug war disaster. . and the ones who do rise will promptly be jailed or shot. some may rise nonetheless, but it sure as hell wont end much except their freedom.</td>\n",
       "      <td>t3_5zimk</td>\n",
       "      <td>t1_c02cebw</td>\n",
       "      <td>t1_c02ches</td>\n",
       "      <td>False</td>\n",
       "      <td>politics</td>\n",
       "    </tr>\n",
       "    <tr>\n",
       "      <th>150427</th>\n",
       "      <td>M0b1u5</td>\n",
       "      <td>us: we are fucking idiots.</td>\n",
       "      <td>t3_5zep2</td>\n",
       "      <td>t3_5zep2</td>\n",
       "      <td>t1_c02cheu</td>\n",
       "      <td>True</td>\n",
       "      <td>politics</td>\n",
       "    </tr>\n",
       "  </tbody>\n",
       "</table>\n",
       "</div>"
      ],
      "text/plain": [
       "           author  \\\n",
       "150421   folderol   \n",
       "150422  michaelco   \n",
       "150424  aletoledo   \n",
       "150425  Dark-Star   \n",
       "150427     M0b1u5   \n",
       "\n",
       "                                                                                                                                                                                                                                                      body  \\\n",
       "150421                                                                                                                                                                         muscle memory.  or he never knew how to run and hence took up race walking.   \n",
       "150422                                                                                                                                                                                                         man develops delusions wow thats a headline   \n",
       "150424                              i have a list of redditers i wish to have censored. when weve reached that point i think we can then call it enough. so screw everyone getting free speech, we need to get an even balance between profit and freedom.   \n",
       "150425  nope. too lazy and dont care for until they or a close friend are touched by the drug war disaster. . and the ones who do rise will promptly be jailed or shot. some may rise nonetheless, but it sure as hell wont end much except their freedom.   \n",
       "150427                                                                                                                                                                                                                          us: we are fucking idiots.   \n",
       "\n",
       "         link_id   parent_id        name   root   subreddit  \n",
       "150421  t3_5zj73  t1_c02cfl4  t1_c02cheo  False  reddit.com  \n",
       "150422  t3_5zjx2    t3_5zjx2  t1_c02chep   True  reddit.com  \n",
       "150424  t3_5zk1h  t1_c02che2  t1_c02cher  False  reddit.com  \n",
       "150425  t3_5zimk  t1_c02cebw  t1_c02ches  False    politics  \n",
       "150427  t3_5zep2    t3_5zep2  t1_c02cheu   True    politics  "
      ]
     },
     "execution_count": 11,
     "metadata": {},
     "output_type": "execute_result"
    }
   ],
   "source": [
    "df.tail()"
   ]
  },
  {
   "cell_type": "code",
   "execution_count": 27,
   "metadata": {
    "collapsed": false
   },
   "outputs": [
    {
     "data": {
      "text/html": [
       "<div>\n",
       "<table border=\"1\" class=\"dataframe\">\n",
       "  <thead>\n",
       "    <tr style=\"text-align: right;\">\n",
       "      <th></th>\n",
       "      <th>Word</th>\n",
       "      <th>Frequency</th>\n",
       "    </tr>\n",
       "  </thead>\n",
       "  <tbody>\n",
       "    <tr>\n",
       "      <th>117829</th>\n",
       "      <td>\"goedel\"</td>\n",
       "      <td>1</td>\n",
       "    </tr>\n",
       "    <tr>\n",
       "      <th>117830</th>\n",
       "      <td>needz</td>\n",
       "      <td>1</td>\n",
       "    </tr>\n",
       "    <tr>\n",
       "      <th>117831</th>\n",
       "      <td>luxembourg.</td>\n",
       "      <td>1</td>\n",
       "    </tr>\n",
       "    <tr>\n",
       "      <th>117832</th>\n",
       "      <td>squeak/morphic</td>\n",
       "      <td>1</td>\n",
       "    </tr>\n",
       "    <tr>\n",
       "      <th>117833</th>\n",
       "      <td>frisky</td>\n",
       "      <td>1</td>\n",
       "    </tr>\n",
       "  </tbody>\n",
       "</table>\n",
       "</div>"
      ],
      "text/plain": [
       "                  Word  Frequency\n",
       "117829        \"goedel\"          1\n",
       "117830           needz          1\n",
       "117831     luxembourg.          1\n",
       "117832  squeak/morphic          1\n",
       "117833          frisky          1"
      ]
     },
     "execution_count": 27,
     "metadata": {},
     "output_type": "execute_result"
    }
   ],
   "source": [
    "# Source: http://stackoverflow.com/questions/38557617/how-to-get-all-the-unique-words-in-the-data-frame\n",
    "word_freqs = df['body'].str.split(' ', expand=True).stack().value_counts()\n",
    "word_freqs = pd.DataFrame(list(word_freqs.items()), columns=['Word', 'Frequency'])\n",
    "word_freqs.tail()"
   ]
  },
  {
   "cell_type": "code",
   "execution_count": 12,
   "metadata": {
    "collapsed": false
   },
   "outputs": [
    {
     "name": "stdout",
     "output_type": "stream",
     "text": [
      "number of unique words (ish): 117834.0\n"
     ]
    }
   ],
   "source": [
    "# \"COUNT\" is number of unique words. Useful!\n",
    "des = word_freqs['Frequency'].describe()\n",
    "vocab_size = des['count']\n",
    "print(\"number of unique words (ish):\", vocab_size)"
   ]
  },
  {
   "cell_type": "code",
   "execution_count": 17,
   "metadata": {
    "collapsed": true
   },
   "outputs": [],
   "source": [
    "n = 40\n",
    "start=-n"
   ]
  },
  {
   "cell_type": "code",
   "execution_count": 18,
   "metadata": {
    "collapsed": false
   },
   "outputs": [
    {
     "name": "stdout",
     "output_type": "stream",
     "text": [
      "40 most common words:\n",
      "     Word  Frequency\n",
      "0     the      86874\n",
      "1              54751\n",
      "2      to      51473\n",
      "3       a      48138\n",
      "4       i      38681\n",
      "5      of      37230\n",
      "6     and      34489\n",
      "7      is      32706\n",
      "8    that      28626\n",
      "9     you      27570\n",
      "10     in      25092\n",
      "11     it      22712\n",
      "12    for      19464\n",
      "13   this      14518\n",
      "14    not      14113\n",
      "15    are      13911\n",
      "16     be      13455\n",
      "17     on      13355\n",
      "18   have      12536\n",
      "19   with      11582\n",
      "20    but      11445\n",
      "21   they      11425\n",
      "22    its      10937\n",
      "23    was      10367\n",
      "24     if      10291\n",
      "25     as       9951\n",
      "26   just       8886\n",
      "27   what       8520\n",
      "28   like       8463\n",
      "29     or       8383\n",
      "30   your       8102\n",
      "31     my       7674\n",
      "32  about       7444\n",
      "33   dont       7314\n",
      "34     so       7172\n",
      "35     at       7114\n",
      "36    all       7070\n",
      "37  would       7058\n",
      "38     do       7012\n",
      "39     an       6891\n"
     ]
    }
   ],
   "source": [
    "start += n\n",
    "print(\"%d most common words:\" % n)\n",
    "print(word_freqs[start:start+n])"
   ]
  },
  {
   "cell_type": "code",
   "execution_count": 19,
   "metadata": {
    "collapsed": false
   },
   "outputs": [
    {
     "name": "stdout",
     "output_type": "stream",
     "text": [
      "\n",
      "30 least common words:\n",
      "                  Word  Frequency\n",
      "117804       unpatched          1\n",
      "117805    inadvertent,          1\n",
      "117806        muppets.          1\n",
      "117807      squeamish.          1\n",
      "117808      maggotesse          1\n",
      "117809      bojangles,          1\n",
      "117810             mr?          1\n",
      "117811             ml!          1\n",
      "117812            pig:          1\n",
      "117813             ien          1\n",
      "117814         loaned.          1\n",
      "117815      sheogorath          1\n",
      "117816       \"dramatic          1\n",
      "117817          ricky,          1\n",
      "117818       mohammad.          1\n",
      "117819      chapparal.          1\n",
      "117820          maine!          1\n",
      "117821       science\",          1\n",
      "117822           nids,          1\n",
      "117823  concealedcarry          1\n",
      "117824            \"rat          1\n",
      "117825       procuring          1\n",
      "117826          rushed          1\n",
      "117827          birds\"          1\n",
      "117828           cant:          1\n",
      "117829        \"goedel\"          1\n",
      "117830           needz          1\n",
      "117831     luxembourg.          1\n",
      "117832  squeak/morphic          1\n",
      "117833          frisky          1\n",
      "Number of unique\n"
     ]
    }
   ],
   "source": [
    "n = 30\n",
    "print(\"\\n%d least common words:\" % n)\n",
    "print(word_freqs[-n:])\n",
    "print(\"Number of unique\")"
   ]
  },
  {
   "cell_type": "code",
   "execution_count": null,
   "metadata": {
    "collapsed": false
   },
   "outputs": [],
   "source": []
  },
  {
   "cell_type": "code",
   "execution_count": 20,
   "metadata": {
    "collapsed": true
   },
   "outputs": [],
   "source": [
    "## Returns a dictionary with keys being the root comments and values being their immediate children.\n",
    "## Assumes to have a 'root' column already\n",
    "\n",
    "## Go through all comments, if it is a root skip it since they wont have a parent_id corresponding\n",
    "## to a comment.\n",
    "## \n",
    "def children_dict(df):\n",
    "    children = {}\n",
    "    for row in df.itertuples():\n",
    "        if row.root == False:\n",
    "            if row.parent_id in children.keys():\n",
    "                children[row.parent_id].append(row.name)\n",
    "            else:\n",
    "                children[row.parent_id] = [row.name]\n",
    "    return children"
   ]
  },
  {
   "cell_type": "code",
   "execution_count": 21,
   "metadata": {
    "collapsed": false
   },
   "outputs": [],
   "source": [
    "## Return a dictionary with name being the key and body being the value. \n",
    "values_dict = pd.Series(df.body.values, index=df.name).to_dict()\n",
    "children = children_dict(df)"
   ]
  },
  {
   "cell_type": "code",
   "execution_count": 22,
   "metadata": {
    "collapsed": false,
    "scrolled": true
   },
   "outputs": [],
   "source": [
    "## Generates two files, [from_file_path] and [to_file_path] of one-to-one comments. \n",
    "def generate_files(from_file_path, to_file_path):\n",
    "    ## Open the files and clear them. \n",
    "    from_file = open(from_file_path, 'w')\n",
    "    to_file = open(to_file_path, 'w')\n",
    "    from_file.write(\"\")\n",
    "    to_file.write(\"\")\n",
    "    from_file.close()\n",
    "    to_file.close()\n",
    "\n",
    "    for key in children.keys():\n",
    "        from_file = open(from_file_path, 'a')\n",
    "        to_file = open(to_file_path, 'a')\n",
    "\n",
    "        ## Since we have deleted comments, some comments parents might not exist anymore so we must catch that error.\n",
    "        for child in children[key]:\n",
    "            try: \n",
    "                from_file.write(values_dict[key].replace('\\n', '').replace('\\r', ' ').replace('&gt', '') + \"\\n\")\n",
    "                to_file.write(values_dict[child].replace('\\n', '').replace('\\r', ' ').replace('&gt', '') + \"\\n\")\n",
    "            except KeyError:    \n",
    "                pass\n",
    "    from_file.close()\n",
    "    to_file.close()"
   ]
  },
  {
   "cell_type": "code",
   "execution_count": 23,
   "metadata": {
    "collapsed": false
   },
   "outputs": [
    {
     "name": "stdout",
     "output_type": "stream",
     "text": [
      "split_into_n.sh\t\t train_to.txt.ids65536\t  valid_to.txt.ids65536\r\n",
      "train_from.txt\t\t valid_from.txt\t\t  vocab40000.from\r\n",
      "train_from.txt.ids40000  valid_from.txt.ids40000  vocab40000.to\r\n",
      "train_from.txt.ids65536  valid_from.txt.ids65536  vocab65536.from\r\n",
      "train_to.txt\t\t valid_to.txt\t\t  vocab65536.to\r\n",
      "train_to.txt.ids40000\t valid_to.txt.ids40000\r\n"
     ]
    }
   ],
   "source": [
    "dat_boi = os.path.join(DATA_ROOT, 'processed_data', DATA_YEAR)\n",
    "!ls $dat_boi\n",
    "!rm $dat_boi/*ids* $dat_boi/*vocab* $dat_boi/*.txt"
   ]
  },
  {
   "cell_type": "code",
   "execution_count": 24,
   "metadata": {
    "collapsed": false
   },
   "outputs": [
    {
     "name": "stdout",
     "output_type": "stream",
     "text": [
      "k done\n"
     ]
    }
   ],
   "source": [
    "train_from_path = os.path.join(DATA_ROOT, 'processed_data', DATA_YEAR, 'train_from.txt')\n",
    "train_to_path = os.path.join(DATA_ROOT, 'processed_data', DATA_YEAR, 'train_to.txt')\n",
    "generate_files(train_from_path, train_to_path)\n",
    "print('k done')"
   ]
  },
  {
   "cell_type": "markdown",
   "metadata": {},
   "source": [
    "#### BASH It Up!\n",
    "\n",
    "Haha. We *are* having a blast, aren't we? Let's split those silly files into some training and validation sets."
   ]
  },
  {
   "cell_type": "code",
   "execution_count": null,
   "metadata": {
    "collapsed": false
   },
   "outputs": [],
   "source": [
    "%%bash\n",
    "cd \"${DATA_ROOT}/processed_data/DATA_YEAR\"\n",
    "echo \"that doesn't work in jupyter you crazy guy! but lets keep going anyway!\"\n",
    "n=$1\n",
    "cp train_from.txt train_from_full.txt\n",
    "head -n -\"$n\" \"train_from_full.txt\" >> \"train_from.txt\"\n",
    "tail -n \"$n\" \"train_from_full.txt\" >> \"valid_from.txt\"\n",
    "\n",
    "cp train_to.txt train_to_full.txt\n",
    "head -n -\"$n\" \"train_to_full.txt\" >> \"train_to.txt\"\n",
    "tail -n \"$n\" \"train_to_full.txt\" >> \"valid_to.txt\"\n",
    "\n",
    "rm *_full.txt\n",
    "wc -l *\n",
    "\n",
    "cd - "
   ]
  },
  {
   "cell_type": "markdown",
   "metadata": {},
   "source": [
    "### Working with NLTK"
   ]
  },
  {
   "cell_type": "code",
   "execution_count": 40,
   "metadata": {
    "collapsed": false
   },
   "outputs": [],
   "source": [
    "import nltk\n",
    "f = open(train_from_path, 'r')\n",
    "raw_text = f.read()\n",
    "tokens = nltk.word_tokenize(raw_text)\n"
   ]
  },
  {
   "cell_type": "code",
   "execution_count": 41,
   "metadata": {
    "collapsed": false
   },
   "outputs": [
    {
     "data": {
      "text/plain": [
       "168277"
      ]
     },
     "execution_count": 41,
     "metadata": {},
     "output_type": "execute_result"
    }
   ],
   "source": [
    "len(tokens)"
   ]
  },
  {
   "cell_type": "code",
   "execution_count": 32,
   "metadata": {
    "collapsed": true
   },
   "outputs": [],
   "source": [
    "## take a list of tokens and convert it into a dictionary whose keys are the words and values are the word count\n",
    "def create_word_dictionary(tokens):\n",
    "    word_dictionary = {}\n",
    "    for word in tokens:\n",
    "        if word in word_dictionary.keys():\n",
    "            word_dictionary[word] += 1\n",
    "        else: \n",
    "            word_dictionary[word] = 1\n",
    "    return word_dictionary\n",
    "\n",
    "def clean_word_dictinoary(word_dict):\n",
    "    return {key: value for key, value in word_dict.items()\n",
    "            if value < 300}"
   ]
  },
  {
   "cell_type": "code",
   "execution_count": 33,
   "metadata": {
    "collapsed": false
   },
   "outputs": [],
   "source": [
    "dictionary = create_word_dictionary(tokens)"
   ]
  },
  {
   "cell_type": "code",
   "execution_count": 34,
   "metadata": {
    "collapsed": false
   },
   "outputs": [],
   "source": [
    "values = dictionary.values()"
   ]
  },
  {
   "cell_type": "code",
   "execution_count": 35,
   "metadata": {
    "collapsed": false,
    "scrolled": true
   },
   "outputs": [],
   "source": [
    "values = list(values)"
   ]
  },
  {
   "cell_type": "code",
   "execution_count": 36,
   "metadata": {
    "collapsed": false
   },
   "outputs": [
    {
     "data": {
      "text/plain": [
       "59.616770462633454"
      ]
     },
     "execution_count": 36,
     "metadata": {},
     "output_type": "execute_result"
    }
   ],
   "source": [
    "np.mean(values)"
   ]
  },
  {
   "cell_type": "code",
   "execution_count": 37,
   "metadata": {
    "collapsed": false
   },
   "outputs": [],
   "source": [
    "clean_dict = clean_word_dictinoary(dictionary)"
   ]
  },
  {
   "cell_type": "code",
   "execution_count": 38,
   "metadata": {
    "collapsed": false
   },
   "outputs": [
    {
     "data": {
      "text/plain": [
       "35301"
      ]
     },
     "execution_count": 38,
     "metadata": {},
     "output_type": "execute_result"
    }
   ],
   "source": [
    "len(clean_dict)"
   ]
  },
  {
   "cell_type": "markdown",
   "metadata": {},
   "source": [
    "### A histogram of frequency of word occurence for words which occur less than 300 times in our dictionary"
   ]
  },
  {
   "cell_type": "code",
   "execution_count": 39,
   "metadata": {
    "collapsed": false
   },
   "outputs": [
    {
     "data": {
      "text/plain": [
       "(0, 100)"
      ]
     },
     "execution_count": 39,
     "metadata": {},
     "output_type": "execute_result"
    },
    {
     "data": {
      "image/png": "[encoded data removed]",
      "text/plain": [
       "<matplotlib.figure.Figure at 0x7f94b21e6cf8>"
      ]
     },
     "metadata": {},
     "output_type": "display_data"
    }
   ],
   "source": [
    "plt.hist(list(clean_dict.values()), bins = 100)\n",
    "plt.xlim(0, 100)"
   ]
  },
  {
   "cell_type": "code",
   "execution_count": 48,
   "metadata": {
    "collapsed": false
   },
   "outputs": [
    {
     "data": {
      "text/plain": [
       "'can you please explain what materialism and atheism did to tibet, china or cambodia?'"
      ]
     },
     "execution_count": 48,
     "metadata": {},
     "output_type": "execute_result"
    }
   ],
   "source": [
    "tokens[0]"
   ]
  },
  {
   "cell_type": "code",
   "execution_count": 49,
   "metadata": {
    "collapsed": true
   },
   "outputs": [],
   "source": [
    "tokens = nltk.sent_tokenize(raw_text)\n",
    "lens = [len(s.split(' ')) for s in tokens]"
   ]
  },
  {
   "cell_type": "code",
   "execution_count": 51,
   "metadata": {
    "collapsed": false
   },
   "outputs": [
    {
     "data": {
      "text/plain": [
       "(array([  1.64787000e+05,   3.39600000e+03,   7.00000000e+01,\n",
       "          1.20000000e+01,   8.00000000e+00,   2.00000000e+00,\n",
       "          0.00000000e+00,   0.00000000e+00,   0.00000000e+00,\n",
       "          2.00000000e+00]),\n",
       " array([   1. ,   33.3,   65.6,   97.9,  130.2,  162.5,  194.8,  227.1,\n",
       "         259.4,  291.7,  324. ]),\n",
       " <a list of 10 Patch objects>)"
      ]
     },
     "execution_count": 51,
     "metadata": {},
     "output_type": "execute_result"
    },
    {
     "data": {
      "image/png": "[encoded data removed]",
      "text/plain": [
       "<matplotlib.figure.Figure at 0x7f94b2346c18>"
      ]
     },
     "metadata": {},
     "output_type": "display_data"
    }
   ],
   "source": [
    "plt.hist(lens)"
   ]
  },
  {
   "cell_type": "markdown",
   "metadata": {
    "collapsed": true
   },
   "source": [
    "### Removing Links\n",
    "1. The format for links is \"[link description] (link.link)\""
   ]
  },
  {
   "cell_type": "code",
   "execution_count": null,
   "metadata": {
    "collapsed": true
   },
   "outputs": [],
   "source": [
    "def contains_link(dictionary):\n",
    "    \"\"\" Determines if the comment contains a link.\n",
    "    Returns a list of Booleans indicating this.\n",
    "    \"\"\"\n",
    "    return {key: value for key, value in dictionary.items() \n",
    "           if fnmatch.fnmatch(value, \"*[ * ]*\") }"
   ]
  },
  {
   "cell_type": "code",
   "execution_count": null,
   "metadata": {
    "collapsed": false
   },
   "outputs": [],
   "source": [
    "sample = \"This is a test[at](ata)\"\n",
    "import re\n",
    "import fnmatch"
   ]
  },
  {
   "cell_type": "code",
   "execution_count": null,
   "metadata": {
    "collapsed": false
   },
   "outputs": [],
   "source": [
    "link_dict = contains_link(values_dict)"
   ]
  },
  {
   "cell_type": "code",
   "execution_count": null,
   "metadata": {
    "collapsed": false
   },
   "outputs": [],
   "source": [
    "values_dict"
   ]
  },
  {
   "cell_type": "code",
   "execution_count": null,
   "metadata": {
    "collapsed": true
   },
   "outputs": [],
   "source": []
  }
 ],
 "metadata": {
  "anaconda-cloud": {},
  "kernelspec": {
   "display_name": "Python 3",
   "language": "python",
   "name": "python3"
  },
  "language_info": {
   "codemirror_mode": {
    "name": "ipython",
    "version": 3
   },
   "file_extension": ".py",
   "mimetype": "text/x-python",
   "name": "python",
   "nbconvert_exporter": "python",
   "pygments_lexer": "ipython3",
   "version": "3.5.2"
  }
 },
 "nbformat": 4,
 "nbformat_minor": 2
}
