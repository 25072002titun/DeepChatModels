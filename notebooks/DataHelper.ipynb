{
 "cells": [
  {
   "cell_type": "code",
   "execution_count": 1,
   "metadata": {
    "collapsed": true
   },
   "outputs": [
    {
     "name": "stdout",
     "output_type": "stream",
     "text": [
      "Using logfile: /tmp/data_helpermubile0x\n",
      "Hi, I'm a DataHelper. For now, I help with the reddit dataset.\n",
      "At any prompt, press ENTER if you want the default value.\n",
      "Username (default='brandon'): \n",
      "Hello, brandon, I've set your data root to /home/brandon/Datasets/reddit\n",
      "Years to process (default='2007,2008,2009'): \n",
      "These are the files I found:\n",
      "['/home/brandon/Datasets/reddit/raw_data/2007/RC_2007-11',\n",
      " '/home/brandon/Datasets/reddit/raw_data/2007/RC_2007-12',\n",
      " '/home/brandon/Datasets/reddit/raw_data/2007/RC_2007-10',\n",
      " '/home/brandon/Datasets/reddit/raw_data/2008/RC_2008-12',\n",
      " '/home/brandon/Datasets/reddit/raw_data/2008/RC_2008-07',\n",
      " '/home/brandon/Datasets/reddit/raw_data/2008/RC_2008-08',\n",
      " '/home/brandon/Datasets/reddit/raw_data/2008/RC_2008-03',\n",
      " '/home/brandon/Datasets/reddit/raw_data/2008/RC_2008-06',\n",
      " '/home/brandon/Datasets/reddit/raw_data/2008/RC_2008-05',\n",
      " '/home/brandon/Datasets/reddit/raw_data/2008/RC_2008-09',\n",
      " '/home/brandon/Datasets/reddit/raw_data/2008/RC_2008-01',\n",
      " '/home/brandon/Datasets/reddit/raw_data/2008/RC_2008-11',\n",
      " '/home/brandon/Datasets/reddit/raw_data/2008/RC_2008-10',\n",
      " '/home/brandon/Datasets/reddit/raw_data/2008/RC_2008-02',\n",
      " '/home/brandon/Datasets/reddit/raw_data/2008/RC_2008-04',\n",
      " '/home/brandon/Datasets/reddit/raw_data/2009/RC_2009-01',\n",
      " '/home/brandon/Datasets/reddit/raw_data/2009/RC_2009-03',\n",
      " '/home/brandon/Datasets/reddit/raw_data/2009/RC_2009-10',\n",
      " '/home/brandon/Datasets/reddit/raw_data/2009/RC_2009-05',\n",
      " '/home/brandon/Datasets/reddit/raw_data/2009/RC_2009-02',\n",
      " '/home/brandon/Datasets/reddit/raw_data/2009/RC_2009-12',\n",
      " '/home/brandon/Datasets/reddit/raw_data/2009/RC_2009-06',\n",
      " '/home/brandon/Datasets/reddit/raw_data/2009/RC_2009-08',\n",
      " '/home/brandon/Datasets/reddit/raw_data/2009/RC_2009-11',\n",
      " '/home/brandon/Datasets/reddit/raw_data/2009/RC_2009-07',\n",
      " '/home/brandon/Datasets/reddit/raw_data/2009/RC_2009-04',\n",
      " '/home/brandon/Datasets/reddit/raw_data/2009/RC_2009-09']\n",
      "\n",
      "Maximum memory to use (in GiB) (default='2.00'): \n"
     ]
    }
   ],
   "source": [
    "import os\n",
    "import sys\n",
    "sys.path.append('/home/brandon/Documents/DeepChatModels')\n",
    "from imp import reload\n",
    "import data\n",
    "import json\n",
    "import pandas as pd\n",
    "from pprint import pprint\n",
    "import sys\n",
    "reload(data)\n",
    "from data.reddit_preprocessor import remove_extra_columns"
   ]
  },
  {
   "cell_type": "code",
   "execution_count": 6,
   "metadata": {
    "collapsed": true
   },
   "outputs": [],
   "source": [
    "from data import DataHelper\n"
   ]
  },
  {
   "cell_type": "code",
   "execution_count": 3,
   "metadata": {},
   "outputs": [
    {
     "name": "stdout",
     "output_type": "stream",
     "text": [
      "/home/brandon/Datasets/reddit/raw_data_columns_removed\n"
     ]
    }
   ],
   "source": [
    "PROJECT_ROOT = '/home/brandon/Documents/DeepChatModels'\n",
    "REDDIT_DIR = '/home/brandon/Datasets/reddit'\n",
    "SOURCE_DIR = os.path.join(REDDIT_DIR, 'raw_data')\n",
    "TARGET_DIR = os.path.join(REDDIT_DIR, 'raw_data_columns_removed')\n",
    "print(TARGET_DIR)\n",
    "YEAR = '2009'\n",
    "TARGET_FILE = os.path.join(TARGET_DIR, YEAR + '_cols_removed.json')"
   ]
  },
  {
   "cell_type": "code",
   "execution_count": null,
   "metadata": {},
   "outputs": [],
   "source": [
    "data_helper = DataHelper()"
   ]
  },
  {
   "cell_type": "code",
   "execution_count": null,
   "metadata": {},
   "outputs": [],
   "source": [
    "data_helper.file_counter = 9\n",
    "print(data_helper.file_paths[data_helper.file_counter:])"
   ]
  },
  {
   "cell_type": "markdown",
   "metadata": {},
   "source": [
    "## Load 2007 Data in DF"
   ]
  },
  {
   "cell_type": "code",
   "execution_count": null,
   "metadata": {},
   "outputs": [],
   "source": [
    "df = data_helper.safe_load()"
   ]
  },
  {
   "cell_type": "code",
   "execution_count": null,
   "metadata": {},
   "outputs": [],
   "source": [
    "print(\"df has {} rows.\".format(len(df.index)))\n",
    "print(\"df has columns:\\n\", df.columns)\n",
    "df.body.head()"
   ]
  },
  {
   "cell_type": "code",
   "execution_count": null,
   "metadata": {},
   "outputs": [],
   "source": [
    "df = remove_extra_columns(df)"
   ]
  },
  {
   "cell_type": "code",
   "execution_count": null,
   "metadata": {},
   "outputs": [],
   "source": [
    "print(\"df has {} rows.\".format(len(df.index)))\n",
    "print(\"df has columns:\\n\", df.columns)\n",
    "df.head()"
   ]
  },
  {
   "cell_type": "code",
   "execution_count": null,
   "metadata": {},
   "outputs": [],
   "source": [
    "DataHelper.df_to_json(df, orient='records', lines=False, target_file=TARGET_FILE)"
   ]
  },
  {
   "cell_type": "markdown",
   "metadata": {},
   "source": [
    "## In One Function"
   ]
  },
  {
   "cell_type": "code",
   "execution_count": null,
   "metadata": {
    "collapsed": true
   },
   "outputs": [],
   "source": [
    "def remove_extra_columns_and_save()\n",
    "    print(\"Removing extra columns . . . \")\n",
    "    df = remove_extra_columns(df)\n",
    "    print(\"Saving to {} . . . \".format(TARGET_FILE))\n",
    "    DataHelper.df_to_json(\n",
    "        df, \n",
    "        orient='records', \n",
    "        lines=False, \n",
    "        target_file=TARGET_FILE)\n",
    "    print(\"Done!\")"
   ]
  },
  {
   "cell_type": "markdown",
   "metadata": {},
   "source": [
    "### Loading back later"
   ]
  },
  {
   "cell_type": "code",
   "execution_count": null,
   "metadata": {},
   "outputs": [],
   "source": [
    "df_loaded = pd.read_json(target_file)"
   ]
  },
  {
   "cell_type": "code",
   "execution_count": null,
   "metadata": {},
   "outputs": [],
   "source": [
    "len(df_loaded)"
   ]
  },
  {
   "cell_type": "code",
   "execution_count": null,
   "metadata": {},
   "outputs": [],
   "source": [
    "file_names = []\n",
    "for y in ['2007', '2008', '2009']:\n",
    "    file_names.append(y + '_cols_removed.json')\n",
    "file_names = file_names[:-1]\n",
    "#file_names[-1] = '2009_cols_removed_part_1.json'\n",
    "#file_names.append('2009_cols_removed_part_2.json')\n",
    "file_names = [os.path.join(TARGET_DIR, fname) for fname in file_names]\n",
    "pprint(file_names)"
   ]
  },
  {
   "cell_type": "code",
   "execution_count": null,
   "metadata": {},
   "outputs": [],
   "source": [
    "list_ = []\n",
    "for file_path in file_names:\n",
    "    print('file:', file_path)\n",
    "    sys.stdout.flush()\n",
    "    list_.append(pd.read_json(file_path))\n",
    "df = pd.concat(list_).reset_index()\n",
    "del list_\n",
    "list_ = None"
   ]
  },
  {
   "cell_type": "code",
   "execution_count": null,
   "metadata": {
    "collapsed": true
   },
   "outputs": [],
   "source": [
    "TARGET_FILE = os.path.join(TARGET_DIR, '2007-8_cols_removed.json')\n",
    "DataHelper.df_to_json(df, orient='records', lines=False, target_file=TARGET_FILE)"
   ]
  },
  {
   "cell_type": "markdown",
   "metadata": {},
   "source": [
    "# Stage 2: Regex, Long Comments, and Contractions"
   ]
  },
  {
   "cell_type": "markdown",
   "metadata": {},
   "source": [
    "### Regex"
   ]
  },
  {
   "cell_type": "code",
   "execution_count": null,
   "metadata": {},
   "outputs": [],
   "source": [
    "TARGET_FILE = os.path.join(TARGET_DIR, '2007-8_cols_removed.json')\n",
    "df = pd.read_json(TARGET_FILE)\n",
    "print('DataFrame loaded.')"
   ]
  },
  {
   "cell_type": "code",
   "execution_count": null,
   "metadata": {},
   "outputs": [],
   "source": [
    "from data.reddit_preprocessor import regex_replacements\n",
    "df = regex_replacements(df)\n",
    "print('Regex replacements done.')"
   ]
  },
  {
   "cell_type": "code",
   "execution_count": null,
   "metadata": {},
   "outputs": [],
   "source": [
    "TARGET_FILE = os.path.join(TARGET_DIR, '2007-8_regex_replaced.json')\n",
    "DataHelper.df_to_json(df, orient='records', lines=False, target_file=TARGET_FILE)"
   ]
  },
  {
   "cell_type": "markdown",
   "metadata": {},
   "source": [
    "### Long Comments"
   ]
  },
  {
   "cell_type": "code",
   "execution_count": null,
   "metadata": {},
   "outputs": [],
   "source": [
    "TARGET_FILE = os.path.join(TARGET_DIR, '2007-8_regex_replaced.json')\n",
    "df = pd.read_json(TARGET_FILE)\n",
    "print('DataFrame loaded from', TARGET_FILE)"
   ]
  },
  {
   "cell_type": "code",
   "execution_count": null,
   "metadata": {},
   "outputs": [],
   "source": [
    "reload(data)\n",
    "from data.reddit_preprocessor import remove_large_comments, expand_contractions\n",
    "df = remove_large_comments(df=df, max_len=20)\n",
    "df = expand_contractions(df)\n",
    "print('Remove large comments and contractions done.')"
   ]
  },
  {
   "cell_type": "code",
   "execution_count": null,
   "metadata": {
    "collapsed": true
   },
   "outputs": [],
   "source": [
    "TARGET_FILE = os.path.join(TARGET_DIR, '2007-8_large_comments_contractions.json')\n",
    "DataHelper.df_to_json(df, orient='records', lines=False, target_file=TARGET_FILE)"
   ]
  },
  {
   "cell_type": "code",
   "execution_count": null,
   "metadata": {},
   "outputs": [],
   "source": [
    "print('done')"
   ]
  },
  {
   "cell_type": "markdown",
   "metadata": {},
   "source": [
    "# Stage 3: Parallel Calls"
   ]
  },
  {
   "cell_type": "code",
   "execution_count": 4,
   "metadata": {},
   "outputs": [
    {
     "name": "stdout",
     "output_type": "stream",
     "text": [
      "DataFrame loaded from /home/brandon/Datasets/reddit/raw_data_columns_removed/2007-8_large_comments_contractions.json\n"
     ]
    }
   ],
   "source": [
    "from data.reddit_preprocessor import parallel_map_list\n",
    "from data.reddit_preprocessor import data_helper\n",
    "TARGET_FILE = os.path.join(TARGET_DIR, '2007-8_large_comments_contractions.json')\n",
    "df = pd.read_json(TARGET_FILE)\n",
    "print('DataFrame loaded from', TARGET_FILE)"
   ]
  },
  {
   "cell_type": "code",
   "execution_count": 7,
   "metadata": {},
   "outputs": [
    {
     "name": "stdout",
     "output_type": "stream",
     "text": [
      "Time to run parallel_map_list: 19.272 seconds.\n"
     ]
    }
   ],
   "source": [
    "from collections import Counter\n",
    "from itertools import chain\n",
    "sentences = parallel_map_list(fn=DataHelper.word_tokenizer, iterable=df.body.values)\n",
    "data_helper.set_word_freq(Counter(chain.from_iterable(sentences)))"
   ]
  },
  {
   "cell_type": "code",
   "execution_count": 8,
   "metadata": {},
   "outputs": [
    {
     "name": "stdout",
     "output_type": "stream",
     "text": [
      "Time to run parallel_map_list: 215.748 seconds.\n"
     ]
    }
   ],
   "source": [
    "from data.reddit_preprocessor import sentence_score\n",
    "df['score'] = parallel_map_list(fn=sentence_score, iterable=sentences)\n",
    "del sentences"
   ]
  },
  {
   "cell_type": "code",
   "execution_count": 23,
   "metadata": {},
   "outputs": [
    {
     "data": {
      "image/png": "[encoded data removed]",
      "text/plain": [
       "<matplotlib.figure.Figure at 0x7f734b3c2630>"
      ]
     },
     "metadata": {},
     "output_type": "display_data"
    }
   ],
   "source": [
    "import matplotlib.pyplot as plt\n",
    "from jupyterthemes import jtplot\n",
    "jtplot.style('onedork')\n",
    "jtplot.style(ticks=True, grid=False)\n",
    "jtplot.figsize(aspect=1.2)\n",
    "plt.hist(df['score'].values, bins=100,\n",
    "        range=(0., df['score'].quantile(0.7)))\n",
    "plt.show()"
   ]
  },
  {
   "cell_type": "markdown",
   "metadata": {},
   "source": [
    "# Final Stage"
   ]
  },
  {
   "cell_type": "code",
   "execution_count": 25,
   "metadata": {},
   "outputs": [
    {
     "name": "stdout",
     "output_type": "stream",
     "text": [
      "Prepping for the grand finale.\n",
      "Time to run children_dict: 4.701 seconds.\n",
      "Final processed file has 306164 samples total.\n"
     ]
    }
   ],
   "source": [
    "# Keep the desired percentage of lowest-scored sentences. (low == good)\n",
    "from data.reddit_preprocessor import children_dict\n",
    "keep_best_percent = 0.7\n",
    "df = df.loc[df['score'] < df['score'].quantile(keep_best_percent)]\n",
    "\n",
    "print('Prepping for the grand finale.')\n",
    "comments_dict = pd.Series(df.body.values, index=df.name).to_dict()\n",
    "root_to_children = children_dict(df)\n",
    "data_helper.generate_files(\n",
    "            from_file_path=\"from_file.txt\",\n",
    "            to_file_path=\"to_file.txt\",\n",
    "            root_to_children=root_to_children,\n",
    "            comments_dict=comments_dict)"
   ]
  },
  {
   "cell_type": "markdown",
   "metadata": {},
   "source": [
    "# Exploration"
   ]
  },
  {
   "cell_type": "code",
   "execution_count": null,
   "metadata": {},
   "outputs": [],
   "source": [
    "df.style.set_properties(subset=['text'], **{'width': '800px'})\n",
    "def get_comments(df, n=10):\n",
    "    i = 0\n",
    "    while i < len(df.index):\n",
    "        yield df.loc[i:i+n]['body']\n",
    "        i += n"
   ]
  },
  {
   "cell_type": "code",
   "execution_count": null,
   "metadata": {},
   "outputs": [],
   "source": [
    "gen = get_comments(df, 5)"
   ]
  },
  {
   "cell_type": "code",
   "execution_count": null,
   "metadata": {},
   "outputs": [],
   "source": [
    "comments = next(gen)\n",
    "for comment in comments:\n",
    "    print(comment)"
   ]
  },
  {
   "cell_type": "code",
   "execution_count": null,
   "metadata": {
    "collapsed": true
   },
   "outputs": [],
   "source": []
  }
 ],
 "metadata": {
  "kernelspec": {
   "display_name": "Python 3",
   "language": "python",
   "name": "python3"
  },
  "language_info": {
   "codemirror_mode": {
    "name": "ipython",
    "version": 3
   },
   "file_extension": ".py",
   "mimetype": "text/x-python",
   "name": "python",
   "nbconvert_exporter": "python",
   "pygments_lexer": "ipython3",
   "version": "3.5.2"
  }
 },
 "nbformat": 4,
 "nbformat_minor": 2
}
