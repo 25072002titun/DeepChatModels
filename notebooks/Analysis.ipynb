{
 "cells": [
  {
   "cell_type": "markdown",
   "metadata": {},
   "source": [
    "# Analysis, Goals, and Predictions\n",
    "\n",
    "Here, I'd like to go over the loss functions being used to train the models and what we are aiming for, so that we can better understand the models' performance as training progresses. My approach will follow that of Ng (2015), as outlined in the textbook \"Deep Learning\" by Goodfellow et al.:\n",
    "\n",
    "* Determine your goals -- error metric(s) and target (re: desired) value(s). \n",
    "* Establish a working end-to-end pipeline. \n",
    "* Determine bottlenecks in performance, their sources, and whether they're due to overfitting/underfitting/software defect(s). \n",
    "* Repeatedly make incremental changes such as gathering new data, adjusting hyperparams, or changing algorithms. "
   ]
  },
  {
   "cell_type": "code",
   "execution_count": null,
   "metadata": {
    "collapsed": true
   },
   "outputs": [],
   "source": []
  }
 ],
 "metadata": {
  "kernelspec": {
   "display_name": "Python 3",
   "language": "python",
   "name": "python3"
  },
  "language_info": {
   "codemirror_mode": {
    "name": "ipython",
    "version": 3
   },
   "file_extension": ".py",
   "mimetype": "text/x-python",
   "name": "python",
   "nbconvert_exporter": "python",
   "pygments_lexer": "ipython3",
   "version": "3.5.2"
  }
 },
 "nbformat": 4,
 "nbformat_minor": 2
}
