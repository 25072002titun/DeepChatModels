{
 "cells": [
  {
   "cell_type": "markdown",
   "metadata": {},
   "source": [
    "# Reddit Preprocessing in Stages\n",
    "\n",
    "This notebook is essentially the `reddit_preprocessor.py` file in the data package, but split into disjoint steps. This is useful for both development and visualization, e.g. you can save the data at each stage of the processing pipeline and resume later, rather than requiring a restart from beginning."
   ]
  },
  {
   "cell_type": "code",
   "execution_count": 1,
   "metadata": {
    "collapsed": true
   },
   "outputs": [],
   "source": [
    "import os\n",
    "import sys\n",
    "sys.path.append('..')\n",
    "from imp import reload\n",
    "\n",
    "from data import reddit_preprocessor, DataHelper\n",
    "from data.reddit_preprocessor import *\n",
    "\n",
    "import json\n",
    "import pandas as pd\n",
    "from pprint import pprint"
   ]
  },
  {
   "cell_type": "code",
   "execution_count": 2,
   "metadata": {},
   "outputs": [
    {
     "name": "stdout",
     "output_type": "stream",
     "text": [
      "Using logfile: /tmp/data_helper_1xuld5d\n",
      "Hi, I'm a DataHelper. For now, I help with the reddit dataset.\n",
      "At any prompt, press ENTER if you want the default value.\n",
      "Username (default='brandon'): \n",
      "Hello, brandon, I've set your data root to /home/brandon/Datasets/reddit\n",
      "Years to process (default='2007,2008,2009'): \n",
      "These are the files I found:\n",
      "['/home/brandon/Datasets/reddit/raw_data/2007/RC_2007-11',\n",
      " '/home/brandon/Datasets/reddit/raw_data/2007/RC_2007-12',\n",
      " '/home/brandon/Datasets/reddit/raw_data/2007/RC_2007-10',\n",
      " '/home/brandon/Datasets/reddit/raw_data/2008/RC_2008-12',\n",
      " '/home/brandon/Datasets/reddit/raw_data/2008/RC_2008-07',\n",
      " '/home/brandon/Datasets/reddit/raw_data/2008/RC_2008-08',\n",
      " '/home/brandon/Datasets/reddit/raw_data/2008/RC_2008-03',\n",
      " '/home/brandon/Datasets/reddit/raw_data/2008/RC_2008-06',\n",
      " '/home/brandon/Datasets/reddit/raw_data/2008/RC_2008-05',\n",
      " '/home/brandon/Datasets/reddit/raw_data/2008/RC_2008-09',\n",
      " '/home/brandon/Datasets/reddit/raw_data/2008/RC_2008-01',\n",
      " '/home/brandon/Datasets/reddit/raw_data/2008/RC_2008-11',\n",
      " '/home/brandon/Datasets/reddit/raw_data/2008/RC_2008-10',\n",
      " '/home/brandon/Datasets/reddit/raw_data/2008/RC_2008-02',\n",
      " '/home/brandon/Datasets/reddit/raw_data/2008/RC_2008-04',\n",
      " '/home/brandon/Datasets/reddit/raw_data/2009/RC_2009-01',\n",
      " '/home/brandon/Datasets/reddit/raw_data/2009/RC_2009-03',\n",
      " '/home/brandon/Datasets/reddit/raw_data/2009/RC_2009-10',\n",
      " '/home/brandon/Datasets/reddit/raw_data/2009/RC_2009-05',\n",
      " '/home/brandon/Datasets/reddit/raw_data/2009/RC_2009-02',\n",
      " '/home/brandon/Datasets/reddit/raw_data/2009/RC_2009-12',\n",
      " '/home/brandon/Datasets/reddit/raw_data/2009/RC_2009-06',\n",
      " '/home/brandon/Datasets/reddit/raw_data/2009/RC_2009-08',\n",
      " '/home/brandon/Datasets/reddit/raw_data/2009/RC_2009-11',\n",
      " '/home/brandon/Datasets/reddit/raw_data/2009/RC_2009-07',\n",
      " '/home/brandon/Datasets/reddit/raw_data/2009/RC_2009-04',\n",
      " '/home/brandon/Datasets/reddit/raw_data/2009/RC_2009-09']\n",
      "\n",
      "Maximum memory to use (in GiB) (default='2.00'): 10.\n"
     ]
    }
   ],
   "source": [
    "data_helper = DataHelper()"
   ]
  },
  {
   "cell_type": "markdown",
   "metadata": {},
   "source": [
    "### Playing with the Raw Data\n",
    "Use data helper to load the uncompressed data into a pandas DataFrame."
   ]
  },
  {
   "cell_type": "code",
   "execution_count": 11,
   "metadata": {},
   "outputs": [
    {
     "name": "stdout",
     "output_type": "stream",
     "text": [
      "Loading year: 2008\n",
      "Returning data from file:\n",
      " /home/brandon/Datasets/reddit/raw_data/2008/RC_2008-11\n",
      "Loading year: 2009\n",
      "Returning data from file:\n",
      " /home/brandon/Datasets/reddit/raw_data/2009/RC_2009-08\n",
      "Loading year: 2010\n",
      "Returning data from file:\n",
      " /home/brandon/Datasets/reddit/raw_data/2010/RC_2010-03\n",
      "Done!\n"
     ]
    }
   ],
   "source": [
    "data = {}\n",
    "years = list(range(2008, 2010 + 1))\n",
    "for year in range(2008, 2010 + 1):\n",
    "    print('Loading year:', year)\n",
    "    data[str(year)] = data_helper.load_random(year=year)\n",
    "print('Done!')"
   ]
  },
  {
   "cell_type": "markdown",
   "metadata": {},
   "source": [
    "Remove entries with the comment as \"deleted\"."
   ]
  },
  {
   "cell_type": "code",
   "execution_count": 26,
   "metadata": {
    "collapsed": true
   },
   "outputs": [],
   "source": [
    "years = list(range(2008, 2010 + 1))\n",
    "for year in years:\n",
    "    df = data[str(year)]\n",
    "    data[str(year)] = df.loc[df.body != '[deleted]'].reset_index(drop=True)"
   ]
  },
  {
   "cell_type": "code",
   "execution_count": 27,
   "metadata": {},
   "outputs": [
    {
     "name": "stdout",
     "output_type": "stream",
     "text": [
      "[(-1.0, 15.0), (-1.0, 15.0), (0.0, 13.0)]\n"
     ]
    }
   ],
   "source": [
    "jtplot.style('onedork', ticks=True, fscale=1.5)\n",
    "jtplot.figsize(x=11., y=8.)\n",
    "\n",
    "# Plot the inner 90 of data for 'score'. \n",
    "years = ['2008', '2009', '2010']\n",
    "score_ranges = [tuple(data[y].score.quantile([0.05, .95])) for y in years]\n",
    "print(score_ranges)"
   ]
  },
  {
   "cell_type": "code",
   "execution_count": 28,
   "metadata": {
    "collapsed": true
   },
   "outputs": [],
   "source": [
    "import numpy as np\n",
    "import pandas as pd\n",
    "import matplotlib.pyplot as plt\n",
    "%matplotlib inline\n",
    "\n",
    "from jupyterthemes import jtplot\n",
    "jtplot.style('monokai')\n",
    "# set \"context\" (paper, notebook, talk, or poster)\n",
    "# & font scale (scalar applied to labels, legend, etc.)\n",
    "jtplot.style(ticks=True, grid=False)\n",
    "jtplot.figsize(x=10, y=8)"
   ]
  },
  {
   "cell_type": "code",
   "execution_count": 29,
   "metadata": {},
   "outputs": [
    {
     "name": "stdout",
     "output_type": "stream",
     "text": [
      "Loading year: 2008\n",
      "Loading year: 2009\n",
      "Loading year: 2010\n"
     ]
    }
   ],
   "source": [
    "# [Optional] cut down size of data.\n",
    "percent_keep = 0.9\n",
    "for year in range(2008, 2010 + 1):\n",
    "    print('Loading year:', year)\n",
    "    num_keep = int(percent_keep * len(data[str(year)].index))\n",
    "    data[str(year)] = data[str(year)].loc[:num_keep]"
   ]
  },
  {
   "cell_type": "code",
   "execution_count": 30,
   "metadata": {},
   "outputs": [
    {
     "data": {
      "text/plain": [
       "Index(['archived', 'author', 'author_flair_css_class', 'author_flair_text',\n",
       "       'body', 'controversiality', 'created_utc', 'distinguished', 'downs',\n",
       "       'edited', 'gilded', 'id', 'link_id', 'name', 'parent_id',\n",
       "       'removal_reason', 'retrieved_on', 'score', 'score_hidden', 'subreddit',\n",
       "       'subreddit_id', 'ups'],\n",
       "      dtype='object')"
      ]
     },
     "execution_count": 30,
     "metadata": {},
     "output_type": "execute_result"
    }
   ],
   "source": [
    "df_small.columns"
   ]
  },
  {
   "cell_type": "markdown",
   "metadata": {},
   "source": [
    "## Visualization: Comment Scores"
   ]
  },
  {
   "cell_type": "code",
   "execution_count": 31,
   "metadata": {},
   "outputs": [
    {
     "name": "stdout",
     "output_type": "stream",
     "text": [
      "[(-1.0, 15.0), (-1.0, 15.0), (0.0, 13.0)]\n",
      "sr: [-1.0, 15.0]\n",
      "nb: 17\n"
     ]
    },
    {
     "name": "stderr",
     "output_type": "stream",
     "text": [
      "/usr/local/lib/python3.5/dist-packages/matplotlib/figure.py:1742: UserWarning: This figure includes Axes that are not compatible with tight_layout, so its results might be incorrect.\n",
      "  warnings.warn(\"This figure includes Axes that are not \"\n"
     ]
    },
    {
     "data": {
      "image/png": "[encoded data removed]",
      "text/plain": [
       "<matplotlib.figure.Figure at 0x7f841fe15dd8>"
      ]
     },
     "metadata": {},
     "output_type": "display_data"
    }
   ],
   "source": [
    "jtplot.style('onedork', ticks=True, fscale=1.5)\n",
    "jtplot.figsize(x=11., y=8.)\n",
    "\n",
    "# Plot the inner 90 of data for 'score'. \n",
    "years = ['2008', '2009', '2010']\n",
    "score_ranges = [tuple(data[y].score.quantile([0.05, .95])) for y in years]\n",
    "print(score_ranges)\n",
    "\n",
    "# Pick the widest range to fit all data in plot.\n",
    "from operator import itemgetter\n",
    "score_range = [min(score_ranges, key=itemgetter(0))[0],\n",
    "               max(score_ranges, key=itemgetter(1))[1]]\n",
    "print('sr:', score_range)\n",
    "num_bins = int(score_range[1] - score_range[0] + 1)\n",
    "print('nb:', num_bins)\n",
    "\n",
    "score_data = [data[y].score for y in years]\n",
    "plt.hist(score_data,\n",
    "         bins=num_bins,\n",
    "         normed=True,\n",
    "         align='left',\n",
    "         label=years,\n",
    "         range=score_range)\n",
    "\n",
    "plt.title('Comment Scores (Normalized)')\n",
    "plt.xlabel('Score')\n",
    "plt.ylabel('Counts')\n",
    "plt.legend()\n",
    "plt.show()"
   ]
  },
  {
   "cell_type": "markdown",
   "metadata": {},
   "source": [
    "### Visualization: Word Distributions"
   ]
  },
  {
   "cell_type": "code",
   "execution_count": 59,
   "metadata": {},
   "outputs": [
    {
     "data": {
      "text/html": [
       "<div>\n",
       "<table border=\"1\" class=\"dataframe\">\n",
       "  <thead>\n",
       "    <tr style=\"text-align: right;\">\n",
       "      <th></th>\n",
       "      <th>body</th>\n",
       "    </tr>\n",
       "  </thead>\n",
       "  <tbody>\n",
       "    <tr>\n",
       "      <th>0</th>\n",
       "      <td>Dude, your phone is ringing Dude...   Dude, your phone is ringing...</td>\n",
       "    </tr>\n",
       "    <tr>\n",
       "      <th>1</th>\n",
       "      <td>What with incest being illegal in most countries, yes, I doubt many people are going to come forwards. None of the places I found were really that great either. Mostly they were just peoples opinions apparently referencing some study that is impossible to find anywhere else.</td>\n",
       "    </tr>\n",
       "    <tr>\n",
       "      <th>2</th>\n",
       "      <td>&amp;gt; Also, a blue-ring's bite is totally painless (and DEADLY).\\n\\n Seems rather pointless as a defense if it doesn't cause pain and kills almost 100% of the time. It sounds more like spite to me.</td>\n",
       "    </tr>\n",
       "    <tr>\n",
       "      <th>3</th>\n",
       "      <td>If America didn't have slaves it wouldn't have become an economic powerhouse.</td>\n",
       "    </tr>\n",
       "    <tr>\n",
       "      <th>4</th>\n",
       "      <td>and high..</td>\n",
       "    </tr>\n",
       "  </tbody>\n",
       "</table>\n",
       "</div>"
      ],
      "text/plain": [
       "                                                                                                                                                                                                                                                                                  body\n",
       "0                                                                                                                                                                                                                 Dude, your phone is ringing Dude...   Dude, your phone is ringing...\n",
       "1  What with incest being illegal in most countries, yes, I doubt many people are going to come forwards. None of the places I found were really that great either. Mostly they were just peoples opinions apparently referencing some study that is impossible to find anywhere else.\n",
       "2                                                                                 &gt; Also, a blue-ring's bite is totally painless (and DEADLY).\\n\\n Seems rather pointless as a defense if it doesn't cause pain and kills almost 100% of the time. It sounds more like spite to me.\n",
       "3                                                                                                                                                                                                        If America didn't have slaves it wouldn't have become an economic powerhouse.\n",
       "4                                                                                                                                                                                                                                                                           and high.."
      ]
     },
     "execution_count": 59,
     "metadata": {},
     "output_type": "execute_result"
    }
   ],
   "source": [
    "from nltk import word_tokenize\n",
    "from collections import Counter\n",
    "from itertools import chain\n",
    "\n",
    "jtplot.style('onedork', ticks=True, fscale=1.5)\n",
    "jtplot.figsize(x=11., y=8.)\n",
    "\n",
    "#$word_tokenize(data['2008'].loc[0, 'body'])\n",
    "pd.set_option('display.max_colwidth', 1000)\n",
    "pd.DataFrame(data['2008']['body']).head()"
   ]
  },
  {
   "cell_type": "code",
   "execution_count": null,
   "metadata": {
    "collapsed": true
   },
   "outputs": [],
   "source": [
    "from nltk import FreqDist\n",
    "\n",
    "wt = Counter(chain.from_iterable(data['2008']['body']))"
   ]
  },
  {
   "cell_type": "code",
   "execution_count": 64,
   "metadata": {},
   "outputs": [
    {
     "name": "stdout",
     "output_type": "stream",
     "text": [
      "Time to run parallel_map_list: 13.947 seconds.\n",
      "DONE\n"
     ]
    }
   ],
   "source": [
    "tokenized = parallel_map_list(fn=DataHelper.word_tokenizer, \n",
    "                              iterable=data['2008'].body.values)\n",
    "print('DONE')"
   ]
  },
  {
   "cell_type": "code",
   "execution_count": null,
   "metadata": {
    "collapsed": true
   },
   "outputs": [],
   "source": [
    "data_helper.set_word_freq(Counter(chain.from_iterable(tokenized)))"
   ]
  },
  {
   "cell_type": "code",
   "execution_count": 74,
   "metadata": {
    "collapsed": true
   },
   "outputs": [],
   "source": [
    "most_comm = data_helper.word_freq.most_common(20)\n",
    "words, counts = zip(*most_comm)"
   ]
  },
  {
   "cell_type": "code",
   "execution_count": 76,
   "metadata": {},
   "outputs": [
    {
     "data": {
      "text/plain": [
       "[<matplotlib.text.Text at 0x7f825b89ef28>,\n",
       " <matplotlib.text.Text at 0x7f825b8a8c50>,\n",
       " <matplotlib.text.Text at 0x7f825b86eb38>,\n",
       " <matplotlib.text.Text at 0x7f825b8712b0>,\n",
       " <matplotlib.text.Text at 0x7f825b8750f0>,\n",
       " <matplotlib.text.Text at 0x7f825b875dd8>,\n",
       " <matplotlib.text.Text at 0x7f825b877a90>,\n",
       " <matplotlib.text.Text at 0x7f825b879828>,\n",
       " <matplotlib.text.Text at 0x7f825b87d470>,\n",
       " <matplotlib.text.Text at 0x7f825b87f160>,\n",
       " <matplotlib.text.Text at 0x7f825b87fe10>,\n",
       " <matplotlib.text.Text at 0x7f825b87d080>,\n",
       " <matplotlib.text.Text at 0x7f825b8a6048>,\n",
       " <matplotlib.text.Text at 0x7f825b882f60>,\n",
       " <matplotlib.text.Text at 0x7f825b89e5c0>,\n",
       " <matplotlib.text.Text at 0x7f825b8865c0>,\n",
       " <matplotlib.text.Text at 0x7f825b889390>,\n",
       " <matplotlib.text.Text at 0x7f825b88b128>,\n",
       " <matplotlib.text.Text at 0x7f825b88bcf8>,\n",
       " <matplotlib.text.Text at 0x7f825b88f9b0>]"
      ]
     },
     "execution_count": 76,
     "metadata": {},
     "output_type": "execute_result"
    },
    {
     "name": "stderr",
     "output_type": "stream",
     "text": [
      "/usr/local/lib/python3.5/dist-packages/matplotlib/figure.py:1742: UserWarning: This figure includes Axes that are not compatible with tight_layout, so its results might be incorrect.\n",
      "  warnings.warn(\"This figure includes Axes that are not \"\n"
     ]
    },
    {
     "data": {
      "image/png": "[encoded data removed]",
      "text/plain": [
       "<matplotlib.figure.Figure at 0x7f825b8f4390>"
      ]
     },
     "metadata": {},
     "output_type": "display_data"
    }
   ],
   "source": [
    "x_labels = words\n",
    "counts_series = pd.Series.from_array(counts)\n",
    "\n",
    "plt.figure(figsize=(16, 10))\n",
    "ax = counts_series.plot(kind='bar')\n",
    "ax.set_title('Most Common Words 2008')\n",
    "ax.set_ylabel('Counts')\n",
    "ax.set_xlabel('Words')\n",
    "ax.set_xticklabels(x_labels)"
   ]
  },
  {
   "cell_type": "markdown",
   "metadata": {},
   "source": [
    "# Preprocessing"
   ]
  },
  {
   "cell_type": "code",
   "execution_count": 3,
   "metadata": {},
   "outputs": [],
   "source": [
    "PROJECT_ROOT = '/home/brandon/Documents/DeepChatModels'\n",
    "REDDIT_DIR = '/home/brandon/Datasets/reddit'\n",
    "SOURCE_DIR = os.path.join(REDDIT_DIR, 'raw_data')\n",
    "TARGET_DIR = os.path.join(REDDIT_DIR, 'raw_data_columns_removed')\n",
    "YEAR = '2009'\n",
    "TARGET_FILE = os.path.join(TARGET_DIR, YEAR + '_cols_removed.json')"
   ]
  },
  {
   "cell_type": "code",
   "execution_count": null,
   "metadata": {
    "collapsed": true
   },
   "outputs": [],
   "source": [
    "data_helper = DataHelper()"
   ]
  },
  {
   "cell_type": "code",
   "execution_count": null,
   "metadata": {
    "collapsed": true
   },
   "outputs": [],
   "source": [
    "data_helper.file_counter = 9\n",
    "print(data_helper.file_paths[data_helper.file_counter:])"
   ]
  },
  {
   "cell_type": "markdown",
   "metadata": {},
   "source": [
    "## Load 2007 Data in DF"
   ]
  },
  {
   "cell_type": "code",
   "execution_count": null,
   "metadata": {
    "collapsed": true
   },
   "outputs": [],
   "source": [
    "df = data_helper.safe_load()"
   ]
  },
  {
   "cell_type": "code",
   "execution_count": null,
   "metadata": {
    "collapsed": true
   },
   "outputs": [],
   "source": [
    "print(\"df has {} rows.\".format(len(df.index)))\n",
    "print(\"df has columns:\\n\", df.columns)\n",
    "df.body.head()"
   ]
  },
  {
   "cell_type": "code",
   "execution_count": null,
   "metadata": {
    "collapsed": true
   },
   "outputs": [],
   "source": [
    "df = remove_extra_columns(df)"
   ]
  },
  {
   "cell_type": "code",
   "execution_count": null,
   "metadata": {
    "collapsed": true
   },
   "outputs": [],
   "source": [
    "print(\"df has {} rows.\".format(len(df.index)))\n",
    "print(\"df has columns:\\n\", df.columns)\n",
    "df.head()"
   ]
  },
  {
   "cell_type": "code",
   "execution_count": null,
   "metadata": {
    "collapsed": true
   },
   "outputs": [],
   "source": [
    "DataHelper.df_to_json(df, orient='records', lines=False, target_file=TARGET_FILE)"
   ]
  },
  {
   "cell_type": "markdown",
   "metadata": {},
   "source": [
    "## In One Function"
   ]
  },
  {
   "cell_type": "code",
   "execution_count": null,
   "metadata": {
    "collapsed": true
   },
   "outputs": [],
   "source": [
    "def remove_extra_columns_and_save()\n",
    "    print(\"Removing extra columns . . . \")\n",
    "    df = remove_extra_columns(df)\n",
    "    print(\"Saving to {} . . . \".format(TARGET_FILE))\n",
    "    DataHelper.df_to_json(\n",
    "        df, \n",
    "        orient='records', \n",
    "        lines=False, \n",
    "        target_file=TARGET_FILE)\n",
    "    print(\"Done!\")"
   ]
  },
  {
   "cell_type": "markdown",
   "metadata": {},
   "source": [
    "### Loading back later"
   ]
  },
  {
   "cell_type": "code",
   "execution_count": null,
   "metadata": {
    "collapsed": true
   },
   "outputs": [],
   "source": [
    "df_loaded = pd.read_json(target_file)"
   ]
  },
  {
   "cell_type": "code",
   "execution_count": null,
   "metadata": {
    "collapsed": true
   },
   "outputs": [],
   "source": [
    "len(df_loaded)"
   ]
  },
  {
   "cell_type": "code",
   "execution_count": null,
   "metadata": {
    "collapsed": true
   },
   "outputs": [],
   "source": [
    "file_names = []\n",
    "for y in ['2007', '2008', '2009']:\n",
    "    file_names.append(y + '_cols_removed.json')\n",
    "file_names = file_names[:-1]\n",
    "#file_names[-1] = '2009_cols_removed_part_1.json'\n",
    "#file_names.append('2009_cols_removed_part_2.json')\n",
    "file_names = [os.path.join(TARGET_DIR, fname) for fname in file_names]\n",
    "pprint(file_names)"
   ]
  },
  {
   "cell_type": "code",
   "execution_count": null,
   "metadata": {
    "collapsed": true
   },
   "outputs": [],
   "source": [
    "list_ = []\n",
    "for file_path in file_names:\n",
    "    print('file:', file_path)\n",
    "    sys.stdout.flush()\n",
    "    list_.append(pd.read_json(file_path))\n",
    "df = pd.concat(list_).reset_index()\n",
    "del list_\n",
    "list_ = None"
   ]
  },
  {
   "cell_type": "code",
   "execution_count": null,
   "metadata": {
    "collapsed": true
   },
   "outputs": [],
   "source": [
    "TARGET_FILE = os.path.join(TARGET_DIR, '2007-8_cols_removed.json')\n",
    "DataHelper.df_to_json(df, orient='records', lines=False, target_file=TARGET_FILE)"
   ]
  },
  {
   "cell_type": "markdown",
   "metadata": {},
   "source": [
    "# Stage 2: Regex, Long Comments, and Contractions"
   ]
  },
  {
   "cell_type": "markdown",
   "metadata": {},
   "source": [
    "### Regex"
   ]
  },
  {
   "cell_type": "code",
   "execution_count": 4,
   "metadata": {},
   "outputs": [
    {
     "name": "stdout",
     "output_type": "stream",
     "text": [
      "DataFrame loaded.\n"
     ]
    }
   ],
   "source": [
    "TARGET_FILE = os.path.join(TARGET_DIR, YEAR+'_cols_removed_part_1.json')\n",
    "df = pd.read_json(TARGET_FILE)\n",
    "print('DataFrame loaded.')"
   ]
  },
  {
   "cell_type": "code",
   "execution_count": 5,
   "metadata": {},
   "outputs": [
    {
     "name": "stdout",
     "output_type": "stream",
     "text": [
      "Time to run regex_replacements: 583.041 seconds.\n",
      "Regex replacements done.\n"
     ]
    }
   ],
   "source": [
    "from data.reddit_preprocessor import regex_replacements\n",
    "df = regex_replacements(df)\n",
    "print('Regex replacements done.')"
   ]
  },
  {
   "cell_type": "code",
   "execution_count": null,
   "metadata": {
    "collapsed": true
   },
   "outputs": [],
   "source": [
    "TARGET_FILE = os.path.join(TARGET_DIR, '2007-8_regex_replaced.json')\n",
    "DataHelper.df_to_json(df, orient='records', lines=False, target_file=TARGET_FILE)"
   ]
  },
  {
   "cell_type": "markdown",
   "metadata": {},
   "source": [
    "### Long Comments"
   ]
  },
  {
   "cell_type": "code",
   "execution_count": null,
   "metadata": {
    "collapsed": true
   },
   "outputs": [],
   "source": [
    "TARGET_FILE = os.path.join(TARGET_DIR, '2007-8_regex_replaced.json')\n",
    "df = pd.read_json(TARGET_FILE)\n",
    "print('DataFrame loaded from', TARGET_FILE)"
   ]
  },
  {
   "cell_type": "code",
   "execution_count": null,
   "metadata": {
    "collapsed": true
   },
   "outputs": [],
   "source": [
    "reload(data)\n",
    "from data.reddit_preprocessor import remove_large_comments, expand_contractions\n",
    "df = remove_large_comments(df=df, max_len=20)\n",
    "df = expand_contractions(df)\n",
    "print('Remove large comments and contractions done.')\n",
    "\n",
    "TARGET_FILE = os.path.join(TARGET_DIR, YEAR+'_large_comments_contractions.json')\n",
    "DataHelper.df_to_json(df, orient='records', lines=False, target_file=TARGET_FILE)\n",
    "\n",
    "print('done')"
   ]
  },
  {
   "cell_type": "markdown",
   "metadata": {},
   "source": [
    "# Stage 3: Parallel Calls"
   ]
  },
  {
   "cell_type": "code",
   "execution_count": 4,
   "metadata": {},
   "outputs": [
    {
     "name": "stdout",
     "output_type": "stream",
     "text": [
      "DataFrame loaded from /home/brandon/Datasets/reddit/raw_data_columns_removed/2007-8_large_comments_contractions.json\n"
     ]
    }
   ],
   "source": [
    "from data.reddit_preprocessor import parallel_map_list\n",
    "from data.reddit_preprocessor import data_helper\n",
    "TARGET_FILE = os.path.join(TARGET_DIR, '2007-8_large_comments_contractions.json')\n",
    "df = pd.read_json(TARGET_FILE)\n",
    "print('DataFrame loaded from', TARGET_FILE)"
   ]
  },
  {
   "cell_type": "code",
   "execution_count": 7,
   "metadata": {},
   "outputs": [
    {
     "name": "stdout",
     "output_type": "stream",
     "text": [
      "Time to run parallel_map_list: 19.272 seconds.\n"
     ]
    }
   ],
   "source": [
    "from collections import Counter\n",
    "from itertools import chain\n",
    "sentences = parallel_map_list(fn=DataHelper.word_tokenizer, iterable=df.body.values)\n",
    "data_helper.set_word_freq(Counter(chain.from_iterable(sentences)))"
   ]
  },
  {
   "cell_type": "code",
   "execution_count": 8,
   "metadata": {},
   "outputs": [
    {
     "name": "stdout",
     "output_type": "stream",
     "text": [
      "Time to run parallel_map_list: 215.748 seconds.\n"
     ]
    }
   ],
   "source": [
    "from data.reddit_preprocessor import sentence_score\n",
    "df['score'] = parallel_map_list(fn=sentence_score, iterable=sentences)\n",
    "del sentences"
   ]
  },
  {
   "cell_type": "code",
   "execution_count": 23,
   "metadata": {},
   "outputs": [
    {
     "data": {
      "image/png": "[encoded data removed]",
      "text/plain": [
       "<matplotlib.figure.Figure at 0x7f734b3c2630>"
      ]
     },
     "metadata": {},
     "output_type": "display_data"
    }
   ],
   "source": [
    "import matplotlib.pyplot as plt\n",
    "from jupyterthemes import jtplot\n",
    "jtplot.style('onedork')\n",
    "jtplot.style(ticks=True, grid=False)\n",
    "jtplot.figsize(aspect=1.2)\n",
    "plt.hist(df['score'].values, bins=100,\n",
    "        range=(0., df['score'].quantile(0.7)))\n",
    "plt.show()"
   ]
  },
  {
   "cell_type": "markdown",
   "metadata": {},
   "source": [
    "# Final Stage"
   ]
  },
  {
   "cell_type": "code",
   "execution_count": 25,
   "metadata": {},
   "outputs": [
    {
     "name": "stdout",
     "output_type": "stream",
     "text": [
      "Prepping for the grand finale.\n",
      "Time to run children_dict: 4.701 seconds.\n",
      "Final processed file has 306164 samples total.\n"
     ]
    }
   ],
   "source": [
    "# Keep the desired percentage of lowest-scored sentences. (low == good)\n",
    "from data.reddit_preprocessor import children_dict\n",
    "keep_best_percent = 0.7\n",
    "df = df.loc[df['score'] < df['score'].quantile(keep_best_percent)]\n",
    "\n",
    "print('Prepping for the grand finale.')\n",
    "comments_dict = pd.Series(df.body.values, index=df.name).to_dict()\n",
    "root_to_children = children_dict(df)\n",
    "data_helper.generate_files(\n",
    "            from_file_path=\"from_file.txt\",\n",
    "            to_file_path=\"to_file.txt\",\n",
    "            root_to_children=root_to_children,\n",
    "            comments_dict=comments_dict)"
   ]
  },
  {
   "cell_type": "markdown",
   "metadata": {},
   "source": [
    "# Exploration"
   ]
  },
  {
   "cell_type": "code",
   "execution_count": null,
   "metadata": {
    "collapsed": true
   },
   "outputs": [],
   "source": [
    "df.style.set_properties(subset=['text'], **{'width': '800px'})\n",
    "def get_comments(df, n=10):\n",
    "    i = 0\n",
    "    while i < len(df.index):\n",
    "        yield df.loc[i:i+n]['body']\n",
    "        i += n"
   ]
  },
  {
   "cell_type": "code",
   "execution_count": null,
   "metadata": {
    "collapsed": true
   },
   "outputs": [],
   "source": [
    "gen = get_comments(df, 5)"
   ]
  },
  {
   "cell_type": "code",
   "execution_count": null,
   "metadata": {
    "collapsed": true
   },
   "outputs": [],
   "source": [
    "comments = next(gen)\n",
    "for comment in comments:\n",
    "    print(comment)"
   ]
  }
 ],
 "metadata": {
  "kernelspec": {
   "display_name": "Python 3",
   "language": "python",
   "name": "python3"
  },
  "language_info": {
   "codemirror_mode": {
    "name": "ipython",
    "version": 3
   },
   "file_extension": ".py",
   "mimetype": "text/x-python",
   "name": "python",
   "nbconvert_exporter": "python",
   "pygments_lexer": "ipython3",
   "version": "3.5.2"
  }
 },
 "nbformat": 4,
 "nbformat_minor": 2
}
