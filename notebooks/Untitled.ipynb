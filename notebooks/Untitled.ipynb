{
 "cells": [
  {
   "cell_type": "code",
   "execution_count": 12,
   "metadata": {
    "collapsed": false
   },
   "outputs": [
    {
     "name": "stdout",
     "output_type": "stream",
     "text": [
      "[array([2, 2, 2, 2], dtype=int32), [array([b'29 5', b'11 7 9 27 4', b'17 8 22 43 28 4',\n",
      "       b'10 7 6 14 23 6 31 19 4'], dtype=object)]]\n",
      "[array([2, 2, 2, 2], dtype=int32), [array([b'10 7 9 15 14 4', b'42 32 37 5', b'13 8 12 4', b'40 44 9 15 45 5'], dtype=object)]]\n",
      "[array([2, 2, 2, 2], dtype=int32), [array([b'13 30 26 12 35 41 6 39 4', b'11 20 8 24 16 4',\n",
      "       b'36 47 38 25 33 5', b'34 46 18 21 4'], dtype=object)]]\n",
      "[array([2, 2, 2, 2], dtype=int32), [array([b'10 49 18 52 4', b'17 48 16 50 5', b'17 48 16 51 5', b'29 5'], dtype=object)]]\n"
     ]
    }
   ],
   "source": [
    "import tensorflow as tf\n",
    "faggot = None\n",
    "tf.reset_default_graph()\n",
    "file = '/home/brandon/terabyte/Datasets/test_data/train_from.txt.ids1000'\n",
    "inp_prod = tf.train.string_input_producer([file])\n",
    "reader = tf.TextLineReader()\n",
    "keyfuck, valfuck = reader.read(inp_prod)\n",
    "batch_fuck_penis, nigger = tf.contrib.training.bucket_by_sequence_length(\n",
    "    2,\n",
    "    [valfuck], \n",
    "    4, \n",
    "    [2, 5], \n",
    "    dynamic_pad=True,\n",
    "    name='titbals', \n",
    ")\n",
    "with tf.Session() as stfu:\n",
    "    coord = tf.train.Coordinator()\n",
    "    threads = tf.train.start_queue_runners(coord=coord)\n",
    "    #print(tf.compat.as_str(stfu.run(valfuck)))\n",
    "    #print(tf.compat.as_str(stfu.run(valfuck)))\n",
    "    print(stfu.run([batch_fuck_penis, nigger]))\n",
    "    print(stfu.run([batch_fuck_penis, nigger]))\n",
    "    print(stfu.run([batch_fuck_penis, nigger]))\n",
    "    print(stfu.run([batch_fuck_penis, nigger]))\n",
    "    coord.request_stop()\n",
    "    coord.join(threads)"
   ]
  },
  {
   "cell_type": "code",
   "execution_count": 35,
   "metadata": {
    "collapsed": false
   },
   "outputs": [
    {
     "ename": "SyntaxError",
     "evalue": "positional argument follows keyword argument (<ipython-input-35-691236e52f94>, line 7)",
     "output_type": "error",
     "traceback": [
      "\u001b[0;36m  File \u001b[0;32m\"<ipython-input-35-691236e52f94>\"\u001b[0;36m, line \u001b[0;32m7\u001b[0m\n\u001b[0;31m    dyn\u001b[0m\n\u001b[0m    ^\u001b[0m\n\u001b[0;31mSyntaxError\u001b[0m\u001b[0;31m:\u001b[0m positional argument follows keyword argument\n"
     ]
    }
   ],
   "source": [
    "batch_fuck_penis, nigger = tf.contrib.training.bucket_by_sequence_length(\n",
    "    20,\n",
    "    [valfuck], \n",
    "    2, \n",
    "    [2, 5], \n",
    "    name='titbals', \n",
    "    dyna\n",
    ")\n",
    "\n",
    "#nigger_params = tf.get_variable('fuck_you_faggot', [154, 666])\n",
    "#$nigger_embedded = tf.nn.embedding_lookup(nigger_params, nigger, name=\"eatshitanddie\")"
   ]
  },
  {
   "cell_type": "markdown",
   "metadata": {},
   "source": [
    "omg this works"
   ]
  },
  {
   "cell_type": "code",
   "execution_count": 15,
   "metadata": {
    "collapsed": false
   },
   "outputs": [
    {
     "name": "stdout",
     "output_type": "stream",
     "text": [
      "[b'29 5' b'11 7 9 27 4']\n",
      "<class 'numpy.ndarray'>\n",
      "(2,)\n",
      "object\n",
      "b'29 5'\n",
      "<class 'bytes'>\n",
      "[b'17 8 22 43 28 4' b'10 7 6 14 23 6 31 19 4']\n",
      "<class 'numpy.ndarray'>\n",
      "(2,)\n",
      "object\n",
      "b'17 8 22 43 28 4'\n",
      "<class 'bytes'>\n",
      "[b'10 7 9 15 14 4' b'42 32 37 5']\n",
      "<class 'numpy.ndarray'>\n",
      "(2,)\n",
      "object\n",
      "b'10 7 9 15 14 4'\n",
      "<class 'bytes'>\n",
      "[b'13 8 12 4' b'40 44 9 15 45 5']\n",
      "<class 'numpy.ndarray'>\n",
      "(2,)\n",
      "object\n",
      "b'13 8 12 4'\n",
      "<class 'bytes'>\n",
      "[b'13 30 26 12 35 41 6 39 4' b'11 20 8 24 16 4']\n",
      "<class 'numpy.ndarray'>\n",
      "(2,)\n",
      "object\n",
      "b'13 30 26 12 35 41 6 39 4'\n",
      "<class 'bytes'>\n",
      "lasdfa\n"
     ]
    }
   ],
   "source": [
    "with tf.Session() as faggot:\n",
    "    faggot.run(tf.global_variables_initializer())\n",
    "    # Start populating the filename queue\n",
    "    coord = tf.train.Coordinator()\n",
    "    threads = tf.train.start_queue_runners(coord=coord)\n",
    "    for piece_of_shit in range(5):\n",
    "        suckmydick = faggot.run(nigger)\n",
    "        print(suckmydick)\n",
    "        print(type(suckmydick))\n",
    "        print(suckmydick.shape)\n",
    "        print(suckmydick.dtype)\n",
    "        print(suckmydick[0])\n",
    "        print(type(suckmydick[0]))\n",
    "    coord.request_stop()\n",
    "    coord.join(threads)\n",
    "    \n",
    "print('lasdfa')\n",
    "faggot = None\n",
    "tf.reset_default_graph()"
   ]
  },
  {
   "cell_type": "code",
   "execution_count": null,
   "metadata": {
    "collapsed": true
   },
   "outputs": [],
   "source": [
    "        print(type(batch))\n",
    "        print(type(batch[0]))\n",
    "        \n",
    "    coord.request_stop()\n",
    "    coord.join(threads)\n",
    "faggot = None\n",
    "tf.reset_default_graph()"
   ]
  },
  {
   "cell_type": "code",
   "execution_count": null,
   "metadata": {
    "collapsed": false
   },
   "outputs": [],
   "source": [
    "tf.contrib.training.bucket_by_sequence_length??"
   ]
  },
  {
   "cell_type": "code",
   "execution_count": null,
   "metadata": {
    "collapsed": false
   },
   "outputs": [],
   "source": [
    "fuck"
   ]
  },
  {
   "cell_type": "code",
   "execution_count": null,
   "metadata": {
    "collapsed": true
   },
   "outputs": [],
   "source": [
    "sess.run(fuck)"
   ]
  },
  {
   "cell_type": "code",
   "execution_count": null,
   "metadata": {
    "collapsed": false
   },
   "outputs": [],
   "source": [
    "print('fag')"
   ]
  },
  {
   "cell_type": "code",
   "execution_count": null,
   "metadata": {
    "collapsed": true
   },
   "outputs": [],
   "source": []
  }
 ],
 "metadata": {
  "kernelspec": {
   "display_name": "Python 3",
   "language": "python",
   "name": "python3"
  },
  "language_info": {
   "codemirror_mode": {
    "name": "ipython",
    "version": 3
   },
   "file_extension": ".py",
   "mimetype": "text/x-python",
   "name": "python",
   "nbconvert_exporter": "python",
   "pygments_lexer": "ipython3",
   "version": "3.5.2"
  }
 },
 "nbformat": 4,
 "nbformat_minor": 2
}
