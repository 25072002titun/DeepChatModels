{
 "cells": [
  {
   "cell_type": "code",
   "execution_count": 1,
   "metadata": {
    "collapsed": true
   },
   "outputs": [],
   "source": [
    "import os\n",
    "import sys\n",
    "import numpy as np\n",
    "import tensorflow as tf\n",
    "from tensorflow.contrib.training import bucket_by_sequence_length\n",
    "\n",
    "tf.reset_default_graph()\n",
    "BASE = '/home/brandon/terabyte/Datasets/test_data/'\n",
    "file = os.path.join(BASE, 'train_from.txt.ids1000')\n",
    "sess = None"
   ]
  },
  {
   "cell_type": "markdown",
   "metadata": {},
   "source": [
    "omg this works"
   ]
  },
  {
   "cell_type": "markdown",
   "metadata": {},
   "source": [
    "\n",
    "A **TFRecords** file contains a sequence of strings with CRC hashes. Each record has the format\n",
    "\n",
    "```python\n",
    "uint64 length\n",
    "uint32 masked_crc32_of_length\n",
    "byte   data[length]\n",
    "uint32 masked_crc32_of_data\n",
    "```"
   ]
  },
  {
   "cell_type": "code",
   "execution_count": 15,
   "metadata": {
    "collapsed": false
   },
   "outputs": [
    {
     "name": "stdout",
     "output_type": "stream",
     "text": [
      "Currently in dir:  /home/brandon/Documents/seq2seq_projects/notebooks\n"
     ]
    }
   ],
   "source": [
    "tfrecords_fname = 'test.tfrecords'\n",
    "print(\"Currently in dir: \", os.getcwd())\n",
    "train_file = os.path.join(BASE, 'train_from.txt.ids1000')\n",
    "with tf.gfile.GFile(train_file, mode=\"r\") as source_file:\n",
    "    with tf.python_io.TFRecordWriter(tfrecords_fname) as writer:\n",
    "        source = source_file.readline()\n",
    "        while source:\n",
    "            example = tf.train.SequenceExample()\n",
    "            example.context.feature['length'].int64_list.value.append(len([int(x) for x in source.split()]))\n",
    "            for x in source.split():\n",
    "                example.feature_lists.feature_list['encoder_tokens'].feature.add().int64_list.value.append(int(x))\n",
    "            writer.write(example.SerializeToString())\n",
    "            #writer.write(tf.compat.as_bytes(source))\n",
    "            source = source_file.readline()"
   ]
  },
  {
   "cell_type": "code",
   "execution_count": 40,
   "metadata": {
    "collapsed": true
   },
   "outputs": [],
   "source": [
    "bucket_by_sequence_length??"
   ]
  },
  {
   "cell_type": "code",
   "execution_count": 5,
   "metadata": {
    "collapsed": false
   },
   "outputs": [],
   "source": [
    "sess = None\n",
    "tf.reset_default_graph()\n",
    "sess = None"
   ]
  },
  {
   "cell_type": "code",
   "execution_count": 2,
   "metadata": {
    "collapsed": false
   },
   "outputs": [],
   "source": [
    "capacity = 5\n",
    "LAST_RUNNER = 'batch_dequeue'\n",
    "CONTEXT_FEATURES = {'length': tf.FixedLenFeature([], dtype=tf.int64)}\n",
    "SEQUENCE_FEATURES = {'encoder_tokens': tf.FixedLenSequenceFeature([], dtype=tf.int64)}\n",
    "tfrecords_fname = 'test.tfrecords'\n",
    "\n",
    "filename_queue = tf.train.string_input_producer([tfrecords_fname])\n",
    "reader = tf.TFRecordReader(name='tfrecord_reader')\n",
    "_, next_raw = reader.read(filename_queue, name='read_records')\n",
    "\n",
    "q = tf.RandomShuffleQueue(capacity=capacity,min_after_dequeue=0,dtypes=tf.string,shapes=[()],name='randomize_records')\n",
    "enqueue_op = q.enqueue(next_raw)\n",
    "example_dq = q.dequeue()\n",
    "seq_len_parsed, sequence_parsed = tf.parse_single_sequence_example(serialized=example_dq,\n",
    "                                                     context_features=CONTEXT_FEATURES,\n",
    "                                                     sequence_features=SEQUENCE_FEATURES)\n",
    "seq_len = seq_len_parsed['length'] \n",
    "sequence = sequence_parsed['encoder_tokens']\n",
    "\n",
    "numberOfThreads = 1\n",
    "qr = tf.train.QueueRunner(q, [enqueue_op] * numberOfThreads)\n",
    "# Don't forget to add your \"QueueRunner\" to the QUEUE_RUNNERS collection\n",
    "tf.train.add_queue_runner(qr)"
   ]
  },
  {
   "cell_type": "code",
   "execution_count": 3,
   "metadata": {
    "collapsed": false
   },
   "outputs": [],
   "source": [
    "sequence_length, outputs = bucket_by_sequence_length(\n",
    "    input_length=tf.to_int32(seq_len),\n",
    "    tensors=[sequence],\n",
    "    batch_size=2, bucket_boundaries=[2, 5], capacity=5,\n",
    "    dynamic_pad=True, name='bucket_by_sequence_length', \n",
    ")"
   ]
  },
  {
   "cell_type": "code",
   "execution_count": 4,
   "metadata": {
    "collapsed": false
   },
   "outputs": [
    {
     "name": "stdout",
     "output_type": "stream",
     "text": [
      "[2 4]\n",
      "[array([[29,  5,  0,  0],\n",
      "       [42, 32, 37,  5]])]\n",
      "[9 6]\n",
      "[array([[10,  7,  6, 14, 23,  6, 31, 19,  4],\n",
      "       [40, 44,  9, 15, 45,  5,  0,  0,  0]])]\n",
      "[6 5]\n",
      "[array([[17,  8, 22, 43, 28,  4],\n",
      "       [11,  7,  9, 27,  4,  0]])]\n",
      "[9 5]\n",
      "[array([[13, 30, 26, 12, 35, 41,  6, 39,  4],\n",
      "       [10, 49, 18, 52,  4,  0,  0,  0,  0]])]\n",
      "[6 5]\n",
      "[array([[11, 20,  8, 24, 16,  4],\n",
      "       [34, 46, 18, 21,  4,  0]])]\n",
      "[4 2]\n",
      "[array([[13,  8, 12,  4],\n",
      "       [29,  5,  0,  0]])]\n",
      "[6 5]\n",
      "[array([[36, 47, 38, 25, 33,  5],\n",
      "       [17, 48, 16, 51,  5,  0]])]\n",
      "[5 9]\n",
      "[array([[17, 48, 16, 50,  5,  0,  0,  0,  0],\n",
      "       [10,  7,  6, 14, 23,  6, 31, 19,  4]])]\n",
      "[6 6]\n",
      "[array([[17,  8, 22, 43, 28,  4],\n",
      "       [10,  7,  9, 15, 14,  4]])]\n",
      "[6 6]\n",
      "[array([[40, 44,  9, 15, 45,  5],\n",
      "       [10,  7,  9, 15, 14,  4]])]\n",
      "[4 4]\n",
      "[array([[42, 32, 37,  5],\n",
      "       [13,  8, 12,  4]])]\n",
      "[5 5]\n",
      "[array([[11,  7,  9, 27,  4],\n",
      "       [34, 46, 18, 21,  4]])]\n",
      "[6 6]\n",
      "[array([[36, 47, 38, 25, 33,  5],\n",
      "       [17,  8, 22, 43, 28,  4]])]\n",
      "[5 9]\n",
      "[array([[11,  7,  9, 27,  4,  0,  0,  0,  0],\n",
      "       [13, 30, 26, 12, 35, 41,  6, 39,  4]])]\n",
      "[6 9]\n",
      "[array([[11, 20,  8, 24, 16,  4,  0,  0,  0],\n",
      "       [10,  7,  6, 14, 23,  6, 31, 19,  4]])]\n",
      "[6 6]\n",
      "[array([[10,  7,  9, 15, 14,  4],\n",
      "       [11, 20,  8, 24, 16,  4]])]\n",
      "[6 9]\n",
      "[array([[36, 47, 38, 25, 33,  5,  0,  0,  0],\n",
      "       [13, 30, 26, 12, 35, 41,  6, 39,  4]])]\n",
      "[6 5]\n",
      "[array([[40, 44,  9, 15, 45,  5],\n",
      "       [11,  7,  9, 27,  4,  0]])]\n",
      "[4 2]\n",
      "[array([[13,  8, 12,  4],\n",
      "       [29,  5,  0,  0]])]\n",
      "[4 4]\n",
      "[array([[42, 32, 37,  5],\n",
      "       [42, 32, 37,  5]])]\n",
      "[5 6]\n",
      "[array([[34, 46, 18, 21,  4,  0],\n",
      "       [10,  7,  9, 15, 14,  4]])]\n",
      "[9 6]\n",
      "[array([[10,  7,  6, 14, 23,  6, 31, 19,  4],\n",
      "       [40, 44,  9, 15, 45,  5,  0,  0,  0]])]\n",
      "[6 6]\n",
      "[array([[17,  8, 22, 43, 28,  4],\n",
      "       [36, 47, 38, 25, 33,  5]])]\n",
      "[2 4]\n",
      "[array([[29,  5,  0,  0],\n",
      "       [13,  8, 12,  4]])]\n",
      "[9 5]\n",
      "[array([[13, 30, 26, 12, 35, 41,  6, 39,  4],\n",
      "       [34, 46, 18, 21,  4,  0,  0,  0,  0]])]\n",
      "[5 6]\n",
      "[array([[11,  7,  9, 27,  4,  0],\n",
      "       [10,  7,  9, 15, 14,  4]])]\n",
      "[2 4]\n",
      "[array([[29,  5,  0,  0],\n",
      "       [13,  8, 12,  4]])]\n",
      "[6 6]\n",
      "[array([[11, 20,  8, 24, 16,  4],\n",
      "       [17,  8, 22, 43, 28,  4]])]\n",
      "[6 9]\n",
      "[array([[11, 20,  8, 24, 16,  4,  0,  0,  0],\n",
      "       [10,  7,  6, 14, 23,  6, 31, 19,  4]])]\n",
      "[9 6]\n",
      "[array([[13, 30, 26, 12, 35, 41,  6, 39,  4],\n",
      "       [40, 44,  9, 15, 45,  5,  0,  0,  0]])]\n",
      "[5 5]\n",
      "[array([[34, 46, 18, 21,  4],\n",
      "       [17, 48, 16, 51,  5]])]\n",
      "[4 2]\n",
      "[array([[42, 32, 37,  5],\n",
      "       [29,  5,  0,  0]])]\n",
      "[5 9]\n",
      "[array([[10, 49, 18, 52,  4,  0,  0,  0,  0],\n",
      "       [10,  7,  6, 14, 23,  6, 31, 19,  4]])]\n",
      "[6 5]\n",
      "[array([[10,  7,  9, 15, 14,  4],\n",
      "       [11,  7,  9, 27,  4,  0]])]\n",
      "[6 6]\n",
      "[array([[36, 47, 38, 25, 33,  5],\n",
      "       [17,  8, 22, 43, 28,  4]])]\n",
      "[4 4]\n",
      "[array([[13,  8, 12,  4],\n",
      "       [42, 32, 37,  5]])]\n",
      "[6 6]\n",
      "[array([[40, 44,  9, 15, 45,  5],\n",
      "       [36, 47, 38, 25, 33,  5]])]\n",
      "[9 5]\n",
      "[array([[13, 30, 26, 12, 35, 41,  6, 39,  4],\n",
      "       [34, 46, 18, 21,  4,  0,  0,  0,  0]])]\n",
      "[6 5]\n",
      "[array([[11, 20,  8, 24, 16,  4],\n",
      "       [11,  7,  9, 27,  4,  0]])]\n",
      "[6 5]\n",
      "[array([[10,  7,  9, 15, 14,  4],\n",
      "       [17, 48, 16, 50,  5,  0]])]\n",
      "[2 4]\n",
      "[array([[29,  5,  0,  0],\n",
      "       [42, 32, 37,  5]])]\n",
      "[9 6]\n",
      "[array([[10,  7,  6, 14, 23,  6, 31, 19,  4],\n",
      "       [11, 20,  8, 24, 16,  4,  0,  0,  0]])]\n",
      "[9 6]\n",
      "[array([[13, 30, 26, 12, 35, 41,  6, 39,  4],\n",
      "       [40, 44,  9, 15, 45,  5,  0,  0,  0]])]\n",
      "[5 6]\n",
      "[array([[34, 46, 18, 21,  4,  0],\n",
      "       [17,  8, 22, 43, 28,  4]])]\n",
      "[6 6]\n",
      "[array([[36, 47, 38, 25, 33,  5],\n",
      "       [17,  8, 22, 43, 28,  4]])]\n",
      "[2 4]\n",
      "[array([[29,  5,  0,  0],\n",
      "       [42, 32, 37,  5]])]\n",
      "[9 5]\n",
      "[array([[10,  7,  6, 14, 23,  6, 31, 19,  4],\n",
      "       [11,  7,  9, 27,  4,  0,  0,  0,  0]])]\n",
      "[4 4]\n",
      "[array([[13,  8, 12,  4],\n",
      "       [13,  8, 12,  4]])]\n",
      "[6 6]\n",
      "[array([[10,  7,  9, 15, 14,  4],\n",
      "       [40, 44,  9, 15, 45,  5]])]\n",
      "[5 6]\n",
      "[array([[34, 46, 18, 21,  4,  0],\n",
      "       [11, 20,  8, 24, 16,  4]])]\n",
      "INFO:tensorflow:Error reported to Coordinator: <class 'RuntimeError'>, Attempted to use a closed Session.\n"
     ]
    }
   ],
   "source": [
    "with tf.Session() as sess:\n",
    "    i = 0\n",
    "    try:\n",
    "        coord = tf.train.Coordinator()\n",
    "        threads = tf.train.start_queue_runners(coord=coord)\n",
    "        while True:\n",
    "            i += 1\n",
    "            if i > 50: break\n",
    "            fetched = sess.run({'out_len': sequence_length, 'out': outputs})\n",
    "            print(fetched['out_len'])\n",
    "            print(fetched['out'])\n",
    "    except tf.errors.OutOfRangeError:\n",
    "        coord.request_stop()\n",
    "        coord.join(threads)"
   ]
  },
  {
   "cell_type": "code",
   "execution_count": null,
   "metadata": {
    "collapsed": true
   },
   "outputs": [],
   "source": []
  }
 ],
 "metadata": {
  "kernelspec": {
   "display_name": "Python 3",
   "language": "python",
   "name": "python3"
  },
  "language_info": {
   "codemirror_mode": {
    "name": "ipython",
    "version": 3
   },
   "file_extension": ".py",
   "mimetype": "text/x-python",
   "name": "python",
   "nbconvert_exporter": "python",
   "pygments_lexer": "ipython3",
   "version": "3.5.2"
  }
 },
 "nbformat": 4,
 "nbformat_minor": 2
}
