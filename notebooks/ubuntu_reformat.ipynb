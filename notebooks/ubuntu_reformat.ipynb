{
 "cells": [
  {
   "cell_type": "markdown",
   "metadata": {
    "collapsed": true
   },
   "source": [
    "# Reformatting Ubuntu Dialogue Corpus for Chatbot Model"
   ]
  },
  {
   "cell_type": "markdown",
   "metadata": {},
   "source": [
    "## Dataset Description"
   ]
  },
  {
   "cell_type": "markdown",
   "metadata": {},
   "source": [
    "**How to run this notebook**: \n",
    "1. Download the data from the [github repository](https://github.com/rkadlec/ubuntu-ranking-dataset-creator)\n",
    "2. CD to the downloaded directory and run ```./generate.sh -t -l```. I downloaded 1 mill. train samples with p = 1.0. \n",
    "3. Change the value of DATA_DIR below to your project path root.\n",
    "\n",
    "I chose to copy the first 10k lines of data into a \"sample\" directory so I could quickly play around with the data, and then use the full dataset when done.\n",
    "\n",
    "Random facts [from paper](https://arxiv.org/abs/1506.08909):\n",
    "* 2-way (dyadic) conversation, as opposed to multi-participant.\n"
   ]
  },
  {
   "cell_type": "markdown",
   "metadata": {},
   "source": [
    "## Load the Data"
   ]
  },
  {
   "cell_type": "code",
   "execution_count": 1,
   "metadata": {
    "collapsed": false
   },
   "outputs": [],
   "source": [
    "import numpy as np\n",
    "import os.path\n",
    "import pdb\n",
    "import pandas as pd\n",
    "from pprint import pprint\n",
    "\n",
    "#DATA_DIR = '/home/brandon/terabyte/Datasets/ubuntu_dialogue_corpus/'\n",
    "DATA_DIR = '/home/brandon/ubuntu_dialogue_corpus/sample/'\n",
    "TRAIN_PATH = DATA_DIR + 'train.csv'\n",
    "VALID_PATH = DATA_DIR + 'valid.csv'\n",
    "TEST_PATH = DATA_DIR + 'test.csv'\n",
    "\n",
    "def get_training():\n",
    "    \"\"\"Returns dataframe data from train.csv \"\"\"\n",
    "    # First, we need to load the data directly into a dataframe from the train.csv file. \n",
    "    df_train = pd.read_csv(TRAIN_PATH)\n",
    "    # Remove all examples with label = 0. (why would i want to train on false examples?)\n",
    "    df_train = df_train.loc[df_train['Label'] == 1.0]\n",
    "    # Don't care about the pandas indices in the df, so remove them.\n",
    "    df_train = df_train.reset_index(drop=True)\n",
    "    df_train = df_train[df_train.columns[:2]]\n",
    "    return df_train\n",
    "\n",
    "def get_validation():\n",
    "    \"\"\"Returns data from valid.csv \"\"\"\n",
    "    # First, we need to load the data directly into a dataframe from the train.csv file. \n",
    "    df_valid = pd.read_csv(VALID_PATH)\n",
    "    first_two_cols = df_valid.columns[:2]\n",
    "    df_valid = df_valid[first_two_cols]\n",
    "    df_valid.columns = ['Context', 'Utterance']\n",
    "    return df_valid\n",
    "\n",
    "df_train = get_training()\n",
    "df_valid = get_validation()"
   ]
  },
  {
   "cell_type": "markdown",
   "metadata": {
    "collapsed": false
   },
   "source": [
    "## Functions for Visualization and Reformatting"
   ]
  },
  {
   "cell_type": "code",
   "execution_count": 18,
   "metadata": {
    "collapsed": true
   },
   "outputs": [],
   "source": [
    "# Now get all of the data in a single string and make a 'vocabulary' (unique words). \n",
    "import nltk, re, pprint\n",
    "from nltk import word_tokenize\n",
    "import pdb\n",
    "\n",
    "def print_single_turn(turn: str):\n",
    "    as_list_of_utters = turn.split('__eou__')[:-1]\n",
    "    for idx_utter, utter in enumerate(as_list_of_utters):\n",
    "        print(\"\\t>>>\", utter)\n",
    "\n",
    "def print_conversation(df, index=0):\n",
    "    \"\"\"Display the ith conversation in nice format.\"\"\"\n",
    "    \n",
    "    # Get the row identified by 'index'. \n",
    "    context_entry = df['Context'].values[index]\n",
    "    target        = df['Utterance'].values[index]\n",
    "    \n",
    "    # Split returns a blank last entry, so don't store.\n",
    "    turns = context_entry.split('__eot__')[:-1]\n",
    "    print('--------------------- CONTEXT ------------------- ')\n",
    "    for idx_turn, turn in enumerate(turns):\n",
    "        print(\"\\nUser {}: \".format(idx_turn % 2))\n",
    "        print_single_turn(turn)\n",
    "    print('\\n--------------------- RESPONSE ------------------- ')\n",
    "    print(\"\\nUser {}: \".format(len(turns) % 2))\n",
    "    print_single_turn(target)\n",
    "        \n",
    "def get_user_arrays(df):\n",
    "    \"\"\"Returns two arrays of every other turn. \n",
    "    Specifically:\n",
    "        len(returned array) is number of rows in df.  I SURE HOPE NOT!\n",
    "        each entry is a numpy array. \n",
    "        each numpy array contains utterances as entries. \n",
    "    \"\"\"\n",
    "    userOne = []\n",
    "    userTwo = []\n",
    "    contexts = df['Context'].values\n",
    "    targets  = df['Utterance'].values\n",
    "    assert(len(contexts) == len(targets))\n",
    "    \n",
    "    for i in range(len(contexts)):\n",
    "        # combined SINGLE CONVERSATION ENTRY of multiple turns each with multiple utterances.\n",
    "        list_of_turns = contexts[i].split('__eot__')[:-1] + [targets[i]]\n",
    "        # make sure even number of entries\n",
    "        if len(list_of_turns) % 2 != 0:\n",
    "            list_of_turns = list_of_turns[:-1]\n",
    "        # strip out the __eou__ occurences (leading space bc otherwise would result in two spaces)\n",
    "        new_list_of_turns = []\n",
    "        for turn in list_of_turns:\n",
    "            utter_list = turn.split(\" __eou__\")\n",
    "            #if len(utter_list) > 3:\n",
    "            #   utter_list = utter_list[:3]\n",
    "            new_list_of_turns.append(\"\".join(utter_list))\n",
    "        #list_of_turns = [re.sub(' __eou__', '', t) for t in list_of_turns]\n",
    "        userOneThisConvo = new_list_of_turns[0::2]\n",
    "        userTwoThisConvo = new_list_of_turns[1::2]\n",
    "        userOne += userOneThisConvo \n",
    "        userTwo += userTwoThisConvo\n",
    "    assert(len(userOne) == len(userTwo))\n",
    "    return userOne, userTwo\n",
    "\n",
    "def save_to_file(fname, arr):\n",
    "    with open(DATA_DIR+fname,\"w\") as f:\n",
    "        for line in arr:\n",
    "            f.write(line + \"\\n\")"
   ]
  },
  {
   "cell_type": "markdown",
   "metadata": {},
   "source": [
    "## Training Data"
   ]
  },
  {
   "cell_type": "markdown",
   "metadata": {},
   "source": [
    "#### At a Glance"
   ]
  },
  {
   "cell_type": "code",
   "execution_count": 9,
   "metadata": {
    "collapsed": false
   },
   "outputs": [
    {
     "data": {
      "text/html": [
       "<div>\n",
       "<table border=\"1\" class=\"dataframe\">\n",
       "  <thead>\n",
       "    <tr style=\"text-align: right;\">\n",
       "      <th></th>\n",
       "      <th>Context</th>\n",
       "      <th>Utterance</th>\n",
       "    </tr>\n",
       "  </thead>\n",
       "  <tbody>\n",
       "    <tr>\n",
       "      <th>count</th>\n",
       "      <td>4992</td>\n",
       "      <td>4992</td>\n",
       "    </tr>\n",
       "    <tr>\n",
       "      <th>unique</th>\n",
       "      <td>4992</td>\n",
       "      <td>4726</td>\n",
       "    </tr>\n",
       "    <tr>\n",
       "      <th>top</th>\n",
       "      <td>man __eou__ my xserver be still break = [ __eou__ even after upgrad to hoari __eou__ lol __eou__ lol , welcom back dcm __eou__ well __eou__ he have n't be k-line , so i guess he promis to knock it off __eou__ __eot__ you be a retard __eou__ sf.net __eou__ http : //sf.net __eou__ __eot__</td>\n",
       "      <td>thank __eou__</td>\n",
       "    </tr>\n",
       "    <tr>\n",
       "      <th>freq</th>\n",
       "      <td>1</td>\n",
       "      <td>56</td>\n",
       "    </tr>\n",
       "  </tbody>\n",
       "</table>\n",
       "</div>"
      ],
      "text/plain": [
       "                                                                                                                                                                                                                                                                                                Context  \\\n",
       "count                                                                                                                                                                                                                                                                                              4992   \n",
       "unique                                                                                                                                                                                                                                                                                             4992   \n",
       "top     man __eou__ my xserver be still break = [ __eou__ even after upgrad to hoari __eou__ lol __eou__ lol , welcom back dcm __eou__ well __eou__ he have n't be k-line , so i guess he promis to knock it off __eou__ __eot__ you be a retard __eou__ sf.net __eou__ http : //sf.net __eou__ __eot__   \n",
       "freq                                                                                                                                                                                                                                                                                                  1   \n",
       "\n",
       "            Utterance  \n",
       "count            4992  \n",
       "unique           4726  \n",
       "top     thank __eou__  \n",
       "freq               56  "
      ]
     },
     "execution_count": 9,
     "metadata": {},
     "output_type": "execute_result"
    }
   ],
   "source": [
    "df_train.describe()"
   ]
  },
  {
   "cell_type": "code",
   "execution_count": 6,
   "metadata": {
    "collapsed": false
   },
   "outputs": [
    {
     "name": "stdout",
     "output_type": "stream",
     "text": [
      "df_train has 4992 rows.\n"
     ]
    },
    {
     "data": {
      "text/html": [
       "<div>\n",
       "<table border=\"1\" class=\"dataframe\">\n",
       "  <thead>\n",
       "    <tr style=\"text-align: right;\">\n",
       "      <th></th>\n",
       "      <th>Context</th>\n",
       "      <th>Utterance</th>\n",
       "    </tr>\n",
       "  </thead>\n",
       "  <tbody>\n",
       "    <tr>\n",
       "      <th>0</th>\n",
       "      <td>i think we could import the old comment via rsync , but from there we need to go via email . i think it be easier than cach the status on each bug and than import bite here and there __eou__ __eot__ it would be veri easi to keep a hash db of message-id __eou__ sound good __eou__ __eot__ ok __eou__ perhap we can ship an ad-hoc apt_preferec __eou__ __eot__ version ? __eou__ __eot__ thank __eou__ __eot__ not yet __eou__ it be cover by your insur ? __eou__ __eot__ yes __eou__ but it 's realli no...</td>\n",
       "      <td>basic each xfree86 upload will not forc user to upgrad 100mb of font for noth __eou__ no someth i do in my spare time . __eou__</td>\n",
       "    </tr>\n",
       "    <tr>\n",
       "      <th>1</th>\n",
       "      <td>interest __eou__ grub-instal work with / be ext3 , fail when it be xfs __eou__ i think d-i instal the relev kernel for your machin . i have a p4 and it instal the 386 kernel __eou__ holi crap a lot of stuff get instal by default : ) __eou__ you be instal vim on a box of mine __eou__ ; ) __eou__ __eot__ more like osx than debian ; ) __eou__ we have a select of python modul avail for great justic ( and python develop ) __eou__ __eot__ 2.8 be fix them iirc __eou__ __eot__ pong __eou__ vino will...</td>\n",
       "      <td>that the one __eou__</td>\n",
       "    </tr>\n",
       "  </tbody>\n",
       "</table>\n",
       "</div>"
      ],
      "text/plain": [
       "                                                                                                                                                                                                                                                                                                                                                                                                                                                                                                               Context  \\\n",
       "0  i think we could import the old comment via rsync , but from there we need to go via email . i think it be easier than cach the status on each bug and than import bite here and there __eou__ __eot__ it would be veri easi to keep a hash db of message-id __eou__ sound good __eou__ __eot__ ok __eou__ perhap we can ship an ad-hoc apt_preferec __eou__ __eot__ version ? __eou__ __eot__ thank __eou__ __eot__ not yet __eou__ it be cover by your insur ? __eou__ __eot__ yes __eou__ but it 's realli no...   \n",
       "1  interest __eou__ grub-instal work with / be ext3 , fail when it be xfs __eou__ i think d-i instal the relev kernel for your machin . i have a p4 and it instal the 386 kernel __eou__ holi crap a lot of stuff get instal by default : ) __eou__ you be instal vim on a box of mine __eou__ ; ) __eou__ __eot__ more like osx than debian ; ) __eou__ we have a select of python modul avail for great justic ( and python develop ) __eou__ __eot__ 2.8 be fix them iirc __eou__ __eot__ pong __eou__ vino will...   \n",
       "\n",
       "                                                                                                                         Utterance  \n",
       "0  basic each xfree86 upload will not forc user to upgrad 100mb of font for noth __eou__ no someth i do in my spare time . __eou__  \n",
       "1                                                                                                             that the one __eou__  "
      ]
     },
     "execution_count": 6,
     "metadata": {},
     "output_type": "execute_result"
    }
   ],
   "source": [
    "pd.options.display.max_colwidth = 500\n",
    "df_train.head(2)"
   ]
  },
  {
   "cell_type": "code",
   "execution_count": 12,
   "metadata": {
    "collapsed": true
   },
   "outputs": [
    {
     "name": "stdout",
     "output_type": "stream",
     "text": [
      "--------------------- CONTEXT ------------------- \n",
      "\n",
      "User 0: \n",
      "\t>>> edd will turn up here soon too , btw \n",
      "\n",
      "User 1: \n",
      "\t>>>  should we renam this chan # gnome-hack ? : ) \n",
      "\t>>>  around ? \n",
      "\t>>>  what 's go on about desktop file ? \n",
      "\t>>>  around ? \n",
      "\t>>>  direct ? \n",
      "\n",
      "User 0: \n",
      "\t>>>  ross be here \n",
      "\n",
      "--------------------- RESPONSE ------------------- \n",
      "\n",
      "User 1: \n",
      "\t>>> you need to go out of the sleepi mode dude \n",
      "\t>>>  gnomedb should be 1.1.x sinc it 's a gnome part , right ? \n"
     ]
    }
   ],
   "source": [
    "print_conversation(df_train, 3)"
   ]
  },
  {
   "cell_type": "markdown",
   "metadata": {},
   "source": [
    "#### Turn-Based DataFrame"
   ]
  },
  {
   "cell_type": "code",
   "execution_count": 55,
   "metadata": {
    "collapsed": false
   },
   "outputs": [
    {
     "data": {
      "text/html": [
       "<div>\n",
       "<table border=\"1\" class=\"dataframe\">\n",
       "  <thead>\n",
       "    <tr style=\"text-align: right;\">\n",
       "      <th></th>\n",
       "      <th>UserOne</th>\n",
       "      <th>UserTwo</th>\n",
       "    </tr>\n",
       "  </thead>\n",
       "  <tbody>\n",
       "    <tr>\n",
       "      <th>0</th>\n",
       "      <td>i think we could import the old comment via rsync , but from there we need to go via email . i think it be easier than cach the status on each bug and than import bite here and there</td>\n",
       "      <td>it would be veri easi to keep a hash db of message-id sound good</td>\n",
       "    </tr>\n",
       "    <tr>\n",
       "      <th>1</th>\n",
       "      <td>ok perhap we can ship an ad-hoc apt_preferec</td>\n",
       "      <td>version ?</td>\n",
       "    </tr>\n",
       "    <tr>\n",
       "      <th>2</th>\n",
       "      <td>thank</td>\n",
       "      <td>not yet it be cover by your insur ?</td>\n",
       "    </tr>\n",
       "    <tr>\n",
       "      <th>3</th>\n",
       "      <td>yes but it 's realli not the right time : / with a chang hous upcom in 3 week</td>\n",
       "      <td>you will be move into your hous soon ? post a messag recent which explain what to do if the autoconfigur doe not do what you expect</td>\n",
       "    </tr>\n",
       "    <tr>\n",
       "      <th>4</th>\n",
       "      <td>how urgent be # 896 ?</td>\n",
       "      <td>not particular urgent , but a polici violat</td>\n",
       "    </tr>\n",
       "    <tr>\n",
       "      <th>5</th>\n",
       "      <td>i agre that we should kill the -novtswitch</td>\n",
       "      <td>ok</td>\n",
       "    </tr>\n",
       "    <tr>\n",
       "      <th>6</th>\n",
       "      <td>would you consid a packag split a featur ?</td>\n",
       "      <td>context ?</td>\n",
       "    </tr>\n",
       "    <tr>\n",
       "      <th>7</th>\n",
       "      <td>split xfonts* out of xfree86* . one upload for the rest of the life and that 's it</td>\n",
       "      <td>split the sourc packag you mean ?</td>\n",
       "    </tr>\n",
       "    <tr>\n",
       "      <th>8</th>\n",
       "      <td>yes . same binari packag .</td>\n",
       "      <td>i would prefer to avoid it at this stage . this be someth that have go into xsf svn , i assum ?</td>\n",
       "    </tr>\n",
       "    <tr>\n",
       "      <th>9</th>\n",
       "      <td>interest grub-instal work with / be ext3 , fail when it be xfs i think d-i instal the relev kernel for your machin . i have a p4 and it instal the 386 kernel holi crap a lot of stuff get instal by default : ) you be instal vim on a box of mine ; )</td>\n",
       "      <td>more like osx than debian ; ) we have a select of python modul avail for great justic ( and python develop )</td>\n",
       "    </tr>\n",
       "    <tr>\n",
       "      <th>10</th>\n",
       "      <td>2.8 be fix them iirc</td>\n",
       "      <td>pong vino will be in enjoy ubuntu ?</td>\n",
       "    </tr>\n",
       "    <tr>\n",
       "      <th>11</th>\n",
       "      <td>tell me to come here suggest thursday as a good day to come</td>\n",
       "      <td>we freeze version a while back : ) you come today or thursday ? we re consid shift it yay enjoy ubuntu ? usplash !</td>\n",
       "    </tr>\n",
       "    <tr>\n",
       "      <th>12</th>\n",
       "      <td>and becaus python give mark a woodi</td>\n",
       "      <td>i 'm not sure if we re mean to talk about that public yet .</td>\n",
       "    </tr>\n",
       "    <tr>\n",
       "      <th>13</th>\n",
       "      <td>and i think we be a `` pant off '' kind of compani ... : p you need new glass</td>\n",
       "      <td>mono 1.0 ? dude , that 's go to be a barrel of laugh for total non-releas relat reason dure hoari read bryan clark 's entri about networkmanag ?</td>\n",
       "    </tr>\n",
       "    <tr>\n",
       "      <th>14</th>\n",
       "      <td>there be an accompani irc convers to that one &lt; g &gt; explain ? i guess you could ship the new png in the debian/ directori and copi them over in your rule</td>\n",
       "      <td>but debian/ be also part of diff.gz ... you can fix this for the common peopl , dude ! multipl tarbal in sourc !</td>\n",
       "    </tr>\n",
       "    <tr>\n",
       "      <th>15</th>\n",
       "      <td>notwarti , hth , hand , kthxbye &lt; g &gt; everyon els have their mac steal , so ca n't realli comment that pictur of you be a classic</td>\n",
       "      <td>which ? the best featur of the new imac be that the old imac be go to be cheaper ! ooh , can you add that to the wiki ?</td>\n",
       "    </tr>\n",
       "    <tr>\n",
       "      <th>16</th>\n",
       "      <td>k. you get two-weeks-to-releas edgi ? http : //descent.netsplit.com/~scott/kids.mp3 -- but for releas i play with an x300 about the time i buy my new laptop , it do n't feel solid at all</td>\n",
       "      <td>which seri be your again ? nc8000 ? mmm</td>\n",
       "    </tr>\n",
       "    <tr>\n",
       "      <th>17</th>\n",
       "      <td>you have my sympathi i 'm tri to *find* the definit i write</td>\n",
       "      <td>it 'd be on glossari i know i write one there</td>\n",
       "    </tr>\n",
       "    <tr>\n",
       "      <th>18</th>\n",
       "      <td>i 'm tri to find the one with mdz 's l33t dot mad that would be a pretti good look for you : p bandwidth bill ?</td>\n",
       "      <td>i 'm revert the wifi chang ; i do n't think the bar be the right thing , but they re better than the current one . ooh , that 'd be rad</td>\n",
       "    </tr>\n",
       "    <tr>\n",
       "      <th>19</th>\n",
       "      <td>not about wait ? clear you have n't tri to read a site that 's just make slashdot ?</td>\n",
       "      <td>( i think someon be go to make a joke about .au bandwidth ... ) especi not if you re use screen ; )</td>\n",
       "    </tr>\n",
       "  </tbody>\n",
       "</table>\n",
       "</div>"
      ],
      "text/plain": [
       "                                                                                                                                                                                                                                                     UserOne  \\\n",
       "0                                                                    i think we could import the old comment via rsync , but from there we need to go via email . i think it be easier than cach the status on each bug and than import bite here and there    \n",
       "1                                                                                                                                                                                                              ok perhap we can ship an ad-hoc apt_preferec    \n",
       "2                                                                                                                                                                                                                                                     thank    \n",
       "3                                                                                                                                                                             yes but it 's realli not the right time : / with a chang hous upcom in 3 week    \n",
       "4                                                                                                                                                                                                                                     how urgent be # 896 ?    \n",
       "5                                                                                                                                                                                                                i agre that we should kill the -novtswitch    \n",
       "6                                                                                                                                                                                                                would you consid a packag split a featur ?    \n",
       "7                                                                                                                                                                        split xfonts* out of xfree86* . one upload for the rest of the life and that 's it    \n",
       "8                                                                                                                                                                                                                                yes . same binari packag .    \n",
       "9   interest grub-instal work with / be ext3 , fail when it be xfs i think d-i instal the relev kernel for your machin . i have a p4 and it instal the 386 kernel holi crap a lot of stuff get instal by default : ) you be instal vim on a box of mine ; )    \n",
       "10                                                                                                                                                                                                                                     2.8 be fix them iirc    \n",
       "11                                                                                                                                                                                              tell me to come here suggest thursday as a good day to come    \n",
       "12                                                                                                                                                                                                                      and becaus python give mark a woodi    \n",
       "13                                                                                                                                                                            and i think we be a `` pant off '' kind of compani ... : p you need new glass    \n",
       "14                                                                                                there be an accompani irc convers to that one < g > explain ? i guess you could ship the new png in the debian/ directori and copi them over in your rule    \n",
       "15                                                                                                                        notwarti , hth , hand , kthxbye < g > everyon els have their mac steal , so ca n't realli comment that pictur of you be a classic    \n",
       "16                                                               k. you get two-weeks-to-releas edgi ? http : //descent.netsplit.com/~scott/kids.mp3 -- but for releas i play with an x300 about the time i buy my new laptop , it do n't feel solid at all    \n",
       "17                                                                                                                                                                                              you have my sympathi i 'm tri to *find* the definit i write    \n",
       "18                                                                                                                                          i 'm tri to find the one with mdz 's l33t dot mad that would be a pretti good look for you : p bandwidth bill ?    \n",
       "19                                                                                                                                                                      not about wait ? clear you have n't tri to read a site that 's just make slashdot ?    \n",
       "\n",
       "                                                                                                                                               UserTwo  \n",
       "0                                                                                    it would be veri easi to keep a hash db of message-id sound good   \n",
       "1                                                                                                                                           version ?   \n",
       "2                                                                                                                 not yet it be cover by your insur ?   \n",
       "3                 you will be move into your hous soon ? post a messag recent which explain what to do if the autoconfigur doe not do what you expect   \n",
       "4                                                                                                         not particular urgent , but a polici violat   \n",
       "5                                                                                                                                                  ok   \n",
       "6                                                                                                                                           context ?   \n",
       "7                                                                                                                   split the sourc packag you mean ?   \n",
       "8                                                     i would prefer to avoid it at this stage . this be someth that have go into xsf svn , i assum ?   \n",
       "9                                        more like osx than debian ; ) we have a select of python modul avail for great justic ( and python develop )   \n",
       "10                                                                                                                pong vino will be in enjoy ubuntu ?   \n",
       "11                                 we freeze version a while back : ) you come today or thursday ? we re consid shift it yay enjoy ubuntu ? usplash !   \n",
       "12                                                                                        i 'm not sure if we re mean to talk about that public yet .   \n",
       "13   mono 1.0 ? dude , that 's go to be a barrel of laugh for total non-releas relat reason dure hoari read bryan clark 's entri about networkmanag ?   \n",
       "14                                   but debian/ be also part of diff.gz ... you can fix this for the common peopl , dude ! multipl tarbal in sourc !   \n",
       "15                            which ? the best featur of the new imac be that the old imac be go to be cheaper ! ooh , can you add that to the wiki ?   \n",
       "16                                                                                                            which seri be your again ? nc8000 ? mmm   \n",
       "17                                                                                                      it 'd be on glossari i know i write one there   \n",
       "18            i 'm revert the wifi chang ; i do n't think the bar be the right thing , but they re better than the current one . ooh , that 'd be rad   \n",
       "19                                                 ( i think someon be go to make a joke about .au bandwidth ... ) especi not if you re use screen ; )  "
      ]
     },
     "execution_count": 55,
     "metadata": {},
     "output_type": "execute_result"
    }
   ],
   "source": [
    "#df_merged = pd.DataFrame(df_train['Context'].map(str) + df_train['Utterance'])\n",
    "userOne, userTwo = get_user_arrays(df_train)\n",
    "df_turns = pd.DataFrame({'UserOne': userOne, 'UserTwo': userTwo})\n",
    "df_turns.head(20)"
   ]
  },
  {
   "cell_type": "markdown",
   "metadata": {},
   "source": [
    "#### Sentence-Based DataFrame"
   ]
  },
  {
   "cell_type": "code",
   "execution_count": 54,
   "metadata": {
    "collapsed": false
   },
   "outputs": [
    {
     "data": {
      "text/plain": [
       "'i think we could import the old comment via rsync , but from there we need to go via email . i think it be easier than cach the status on each bug and than import bite here and there '"
      ]
     },
     "execution_count": 54,
     "metadata": {},
     "output_type": "execute_result"
    }
   ],
   "source": [
    "userOne[0]"
   ]
  },
  {
   "cell_type": "code",
   "execution_count": 62,
   "metadata": {
    "collapsed": false
   },
   "outputs": [
    {
     "name": "stdout",
     "output_type": "stream",
     "text": [
      "done\n"
     ]
    }
   ],
   "source": [
    "\n",
    "def get_sentences(userOne, userTwo):\n",
    "    encoder = []\n",
    "    decoder = []\n",
    "    assert(len(userOne) == len(userTwo))\n",
    "    for i in range(len(userOne)):\n",
    "        one = nltk.sent_tokenize(userOne[i])\n",
    "        one = [s for s in one if s != '.']\n",
    "        two = nltk.sent_tokenize(userTwo[i])\n",
    "        two = [s for s in two if s != '.']\n",
    "        combine = one + two\n",
    "        assert(len(combine) == len(one) + len(two))\n",
    "        if len(combine) % 2 != 0:\n",
    "            combine = combine[:-1]\n",
    "        enc = combine[0::2]\n",
    "        dec = combine[1::2]\n",
    "        assert(len(enc) == len(dec))\n",
    "        encoder.append(enc)\n",
    "        decoder.append(dec)\n",
    "    return encoder, decoder\n",
    "encoder, decoder = get_sentences(userOne, userTwo)\n",
    "print('done')"
   ]
  },
  {
   "cell_type": "code",
   "execution_count": 68,
   "metadata": {
    "collapsed": false
   },
   "outputs": [],
   "source": [
    "encoder = [nltk.word_tokenize(s[0]) for s in encoder]\n",
    "decoder = [nltk.word_tokenize(s[0]) for s in decoder]"
   ]
  },
  {
   "cell_type": "code",
   "execution_count": 73,
   "metadata": {
    "collapsed": false
   },
   "outputs": [
    {
     "name": "stdout",
     "output_type": "stream",
     "text": [
      "150\n",
      "133\n"
     ]
    }
   ],
   "source": [
    "max_enc_len = max([len(s) for s in encoder])\n",
    "max_dec_len = max([len(s) for s in decoder])\n",
    "print(max_enc_len)\n",
    "print(max_dec_len)"
   ]
  },
  {
   "cell_type": "markdown",
   "metadata": {},
   "source": [
    "#### Analyzing Sentence Lengths"
   ]
  },
  {
   "cell_type": "code",
   "execution_count": 75,
   "metadata": {
    "collapsed": false
   },
   "outputs": [
    {
     "data": {
      "text/html": [
       "<div>\n",
       "<table border=\"1\" class=\"dataframe\">\n",
       "  <thead>\n",
       "    <tr style=\"text-align: right;\">\n",
       "      <th></th>\n",
       "      <th>DecoderSentLengths</th>\n",
       "      <th>EncoderSentLength</th>\n",
       "    </tr>\n",
       "  </thead>\n",
       "  <tbody>\n",
       "    <tr>\n",
       "      <th>count</th>\n",
       "      <td>11004.00000</td>\n",
       "      <td>11004.000000</td>\n",
       "    </tr>\n",
       "    <tr>\n",
       "      <th>mean</th>\n",
       "      <td>11.82679</td>\n",
       "      <td>13.491821</td>\n",
       "    </tr>\n",
       "    <tr>\n",
       "      <th>std</th>\n",
       "      <td>10.65755</td>\n",
       "      <td>12.127613</td>\n",
       "    </tr>\n",
       "    <tr>\n",
       "      <th>min</th>\n",
       "      <td>1.00000</td>\n",
       "      <td>1.000000</td>\n",
       "    </tr>\n",
       "    <tr>\n",
       "      <th>25%</th>\n",
       "      <td>5.00000</td>\n",
       "      <td>6.000000</td>\n",
       "    </tr>\n",
       "    <tr>\n",
       "      <th>50%</th>\n",
       "      <td>9.00000</td>\n",
       "      <td>10.000000</td>\n",
       "    </tr>\n",
       "    <tr>\n",
       "      <th>75%</th>\n",
       "      <td>15.00000</td>\n",
       "      <td>17.000000</td>\n",
       "    </tr>\n",
       "    <tr>\n",
       "      <th>max</th>\n",
       "      <td>133.00000</td>\n",
       "      <td>150.000000</td>\n",
       "    </tr>\n",
       "  </tbody>\n",
       "</table>\n",
       "</div>"
      ],
      "text/plain": [
       "       DecoderSentLengths  EncoderSentLength\n",
       "count         11004.00000       11004.000000\n",
       "mean             11.82679          13.491821\n",
       "std              10.65755          12.127613\n",
       "min               1.00000           1.000000\n",
       "25%               5.00000           6.000000\n",
       "50%               9.00000          10.000000\n",
       "75%              15.00000          17.000000\n",
       "max             133.00000         150.000000"
      ]
     },
     "execution_count": 75,
     "metadata": {},
     "output_type": "execute_result"
    }
   ],
   "source": [
    "encoder_lengths = [len(s) for s in encoder]\n",
    "decoder_lengths = [len(s) for s in decoder]\n",
    "df_lengths = pd.DataFrame({'EncoderSentLength': encoder_lengths, 'DecoderSentLengths': decoder_lengths})\n",
    "df_lengths.describe()"
   ]
  },
  {
   "cell_type": "code",
   "execution_count": 89,
   "metadata": {
    "collapsed": false
   },
   "outputs": [
    {
     "data": {
      "image/png": "[encoded data removed]",
      "text/plain": [
       "<matplotlib.figure.Figure at 0x7f63c5912be0>"
      ]
     },
     "metadata": {},
     "output_type": "display_data"
    }
   ],
   "source": [
    "import matplotlib.pyplot as plt\n",
    "plt.style.use('ggplot')\n",
    "plt.rcParams['figure.figsize'] = 9, 5\n",
    "fig, axes = plt.subplots(nrows=1, ncols=2)\n",
    "plt.subplot(1, 2, 1)\n",
    "plt.hist(encoder_lengths)\n",
    "plt.subplot(1, 2, 2)\n",
    "plt.hist(decoder_lengths, color='b')\n",
    "plt.tight_layout()\n",
    "plt.show()"
   ]
  },
  {
   "cell_type": "code",
   "execution_count": 45,
   "metadata": {
    "collapsed": false
   },
   "outputs": [],
   "source": [
    "save_to_file(\"train_from.txt\", userOne)\n",
    "save_to_file(\"train_to.txt\", userTwo)"
   ]
  },
  {
   "cell_type": "markdown",
   "metadata": {},
   "source": [
    "### Validation Data"
   ]
  },
  {
   "cell_type": "code",
   "execution_count": 46,
   "metadata": {
    "collapsed": false
   },
   "outputs": [
    {
     "name": "stdout",
     "output_type": "stream",
     "text": [
      "df_valid has 19560 rows.\n"
     ]
    },
    {
     "data": {
      "text/html": [
       "<div>\n",
       "<table border=\"1\" class=\"dataframe\">\n",
       "  <thead>\n",
       "    <tr style=\"text-align: right;\">\n",
       "      <th></th>\n",
       "      <th>Context</th>\n",
       "      <th>Utterance</th>\n",
       "    </tr>\n",
       "  </thead>\n",
       "  <tbody>\n",
       "    <tr>\n",
       "      <th>0</th>\n",
       "      <td>Any ideas on how lts will be released ? __eou_...</td>\n",
       "      <td>We are talking 12.04 not 10.04 __eou__</td>\n",
       "    </tr>\n",
       "    <tr>\n",
       "      <th>1</th>\n",
       "      <td>how much hdd use ubuntu default install ? __eo...</td>\n",
       "      <td>thats why i ask how much is default install ? ...</td>\n",
       "    </tr>\n",
       "    <tr>\n",
       "      <th>2</th>\n",
       "      <td>in my country its nearly the 27th __eou__ when...</td>\n",
       "      <td>thanx __eou__</td>\n",
       "    </tr>\n",
       "    <tr>\n",
       "      <th>3</th>\n",
       "      <td>it 's not out __eou__ __eot__ they probabaly a...</td>\n",
       "      <td>waiting for many things to be setup __eou__ fi...</td>\n",
       "    </tr>\n",
       "    <tr>\n",
       "      <th>4</th>\n",
       "      <td>are the ext4 drivers stable ? __eou__ __eot__ ...</td>\n",
       "      <td>you sound like it 's updating to skynet . ; ) ...</td>\n",
       "    </tr>\n",
       "  </tbody>\n",
       "</table>\n",
       "</div>"
      ],
      "text/plain": [
       "                                             Context  \\\n",
       "0  Any ideas on how lts will be released ? __eou_...   \n",
       "1  how much hdd use ubuntu default install ? __eo...   \n",
       "2  in my country its nearly the 27th __eou__ when...   \n",
       "3  it 's not out __eou__ __eot__ they probabaly a...   \n",
       "4  are the ext4 drivers stable ? __eou__ __eot__ ...   \n",
       "\n",
       "                                           Utterance  \n",
       "0             We are talking 12.04 not 10.04 __eou__  \n",
       "1  thats why i ask how much is default install ? ...  \n",
       "2                                      thanx __eou__  \n",
       "3  waiting for many things to be setup __eou__ fi...  \n",
       "4  you sound like it 's updating to skynet . ; ) ...  "
      ]
     },
     "execution_count": 46,
     "metadata": {},
     "output_type": "execute_result"
    }
   ],
   "source": [
    "print(\"df_valid has\", len(df_valid), \"rows.\")\n",
    "df_valid.head()"
   ]
  },
  {
   "cell_type": "code",
   "execution_count": 47,
   "metadata": {
    "collapsed": true
   },
   "outputs": [],
   "source": [
    "userOne, userTwo = get_user_arrays(df_valid)\n",
    "save_to_file(\"valid_from.txt\", userOne)\n",
    "save_to_file(\"valid_to.txt\", userTwo)"
   ]
  },
  {
   "cell_type": "markdown",
   "metadata": {},
   "source": [
    "# Visualization"
   ]
  },
  {
   "cell_type": "code",
   "execution_count": 143,
   "metadata": {
    "collapsed": false
   },
   "outputs": [
    {
     "name": "stdout",
     "output_type": "stream",
     "text": [
      "303 at 796223\n",
      "Sentence:\n",
      " I recently got frustrated with my laptop cause it was frozen , so being the impatient person I am , I manually held the power button down and shut it off . Well , next time I try to turn on my laptop , it gives me ( I had to paraphrase it ) `` Unable to insert capability.ko '' and it remains that way . This is on the latest kernel from the update manager . I try another kernel and it gives me `` Invalid '' several times before stopping . I tried recovery mode too . It seems I recently got frustrated with my laptop cause it was frozen , so being the impatient person I am , I manually held the power button down and shut it off . Well , next time I try to turn on my laptop , it gives me ( I had to paraphrase it ) `` Unable to insert capability.ko '' and it remains that way . This is on the latest kernel from the update manager . I try another kernel and it gives me `` Invalid '' several times before stopping . I tried recovery mode too . It seems I recently got frustrated with my laptop cause it was frozen , so being the impatient person I am , I manually held the power button down and shut it off . Well , next time I try to turn on my laptop , it gives me ( I had to paraphrase it ) `` Unable to insert capability.ko '' and it remains that way . This is on the latest kernel from the update manager . I try another kernel and it gives me `` Invalid '' several times before stopping . I tried recovery mode too . It seems\n"
     ]
    }
   ],
   "source": [
    "import matplotlib.pyplot as plt\n",
    "%matplotlib inline\n",
    "\n",
    "lengths = np.array([len(t.split(\" \")) for t in userOne])\n",
    "\n",
    "max_ind =  lengths.argmax()\n",
    "print(max(lengths), \"at\", max_ind)\n",
    "print(\"Sentence:\\n\", userOne[max_ind])"
   ]
  },
  {
   "cell_type": "code",
   "execution_count": 144,
   "metadata": {
    "collapsed": false
   },
   "outputs": [
    {
     "data": {
      "text/plain": [
       "(array([  1.57268900e+06,   4.56976000e+05,   9.65080000e+04,\n",
       "          2.23840000e+04,   5.33500000e+03,   1.42000000e+03,\n",
       "          4.71000000e+02,   1.63000000e+02,   5.80000000e+01,\n",
       "          3.00000000e+01]),\n",
       " array([   1. ,   26.5,   52. ,   77.5,  103. ,  128.5,  154. ,  179.5,\n",
       "         205. ,  230.5,  256. ]),\n",
       " <a list of 10 Patch objects>)"
      ]
     },
     "execution_count": 144,
     "metadata": {},
     "output_type": "execute_result"
    },
    {
     "data": {
      "image/png": "[encoded data removed]",
      "text/plain": [
       "<matplotlib.figure.Figure at 0x7f5e03dbf6d8>"
      ]
     },
     "metadata": {},
     "output_type": "display_data"
    }
   ],
   "source": [
    "import matplotlib.pyplot as plt\n",
    "plt.hist(sorted(lengths)[:-20])"
   ]
  },
  {
   "cell_type": "code",
   "execution_count": 145,
   "metadata": {
    "collapsed": false
   },
   "outputs": [
    {
     "name": "stdout",
     "output_type": "stream",
     "text": [
      "2147224 out of 2156054 (0.995904555266241\\%)\n"
     ]
    }
   ],
   "source": [
    "n_under_20 = sum([1 if l < 100 else 0 for l in lengths])\n",
    "print(n_under_20, \"out of\", len(lengths), \"({}\\%)\".format(float(n_under_20)/len(lengths)))"
   ]
  },
  {
   "cell_type": "code",
   "execution_count": 110,
   "metadata": {
    "collapsed": true
   },
   "outputs": [],
   "source": [
    "df_lengths = pd.DataFrame(lengths)"
   ]
  },
  {
   "cell_type": "code",
   "execution_count": 111,
   "metadata": {
    "collapsed": false
   },
   "outputs": [
    {
     "data": {
      "text/html": [
       "<div>\n",
       "<table border=\"1\" class=\"dataframe\">\n",
       "  <thead>\n",
       "    <tr style=\"text-align: right;\">\n",
       "      <th></th>\n",
       "      <th>0</th>\n",
       "    </tr>\n",
       "  </thead>\n",
       "  <tbody>\n",
       "    <tr>\n",
       "      <th>count</th>\n",
       "      <td>391.000000</td>\n",
       "    </tr>\n",
       "    <tr>\n",
       "      <th>mean</th>\n",
       "      <td>11.299233</td>\n",
       "    </tr>\n",
       "    <tr>\n",
       "      <th>std</th>\n",
       "      <td>7.285741</td>\n",
       "    </tr>\n",
       "    <tr>\n",
       "      <th>min</th>\n",
       "      <td>1.000000</td>\n",
       "    </tr>\n",
       "    <tr>\n",
       "      <th>25%</th>\n",
       "      <td>6.000000</td>\n",
       "    </tr>\n",
       "    <tr>\n",
       "      <th>50%</th>\n",
       "      <td>10.000000</td>\n",
       "    </tr>\n",
       "    <tr>\n",
       "      <th>75%</th>\n",
       "      <td>15.500000</td>\n",
       "    </tr>\n",
       "    <tr>\n",
       "      <th>max</th>\n",
       "      <td>46.000000</td>\n",
       "    </tr>\n",
       "  </tbody>\n",
       "</table>\n",
       "</div>"
      ],
      "text/plain": [
       "                0\n",
       "count  391.000000\n",
       "mean    11.299233\n",
       "std      7.285741\n",
       "min      1.000000\n",
       "25%      6.000000\n",
       "50%     10.000000\n",
       "75%     15.500000\n",
       "max     46.000000"
      ]
     },
     "execution_count": 111,
     "metadata": {},
     "output_type": "execute_result"
    }
   ],
   "source": [
    "df_lengths.describe()"
   ]
  },
  {
   "cell_type": "markdown",
   "metadata": {
    "collapsed": true
   },
   "source": [
    "## Relationship between Accuracy, Loss, and Others\n",
    "\n",
    "$$\n",
    "\\text{Loss} = - \\frac{1}{N} \\sum_{i = 1}^{N} \\ln\\left(p_{target_i}\\right)\n",
    "$$"
   ]
  },
  {
   "cell_type": "code",
   "execution_count": 3,
   "metadata": {
    "collapsed": false
   },
   "outputs": [
    {
     "name": "stdout",
     "output_type": "stream",
     "text": [
      "Loss for uniformly random guessing is 10.5966347331\n"
     ]
    },
    {
     "name": "stderr",
     "output_type": "stream",
     "text": [
      "/usr/local/lib/python3.5/dist-packages/ipykernel/__main__.py:16: RuntimeWarning: divide by zero encountered in true_divide\n"
     ]
    },
    {
     "data": {
      "text/plain": [
       "[<matplotlib.lines.Line2D at 0x7fdd93e5bba8>]"
      ]
     },
     "execution_count": 3,
     "metadata": {},
     "output_type": "execute_result"
    },
    {
     "data": {
      "image/png": "[encoded data removed]",
      "text/plain": [
       "<matplotlib.figure.Figure at 0x7fdd9619fdd8>"
      ]
     },
     "metadata": {},
     "output_type": "display_data"
    }
   ],
   "source": [
    "import matplotlib.pyplot as plt\n",
    "import numpy as np\n",
    "%matplotlib inline\n",
    "\n",
    "# Number of gradient descent steps, each over a batch_size amount of data.\n",
    "vocab_size = 40000\n",
    "\n",
    "# Uniform chance of guessing any word. \n",
    "loss_random_guess = np.log(float(vocab_size))\n",
    "print(\"Loss for uniformly random guessing is\", loss_random_guess)\n",
    "\n",
    "sent_length = [5, 10, 25]\n",
    "# Outputs correct target x percent of the time. \n",
    "pred_accuracy = np.arange(100)\n",
    "\n",
    "plt.plot(pred_accuracy, [1./p for p in pred_accuracy])"
   ]
  },
  {
   "cell_type": "code",
   "execution_count": 27,
   "metadata": {
    "collapsed": false
   },
   "outputs": [
    {
     "name": "stdout",
     "output_type": "stream",
     "text": [
      "99\n"
     ]
    },
    {
     "data": {
      "text/plain": [
       "<matplotlib.legend.Legend at 0x7f2374029358>"
      ]
     },
     "execution_count": 27,
     "metadata": {},
     "output_type": "execute_result"
    },
    {
     "data": {
      "image/png": "[encoded data removed]",
      "text/plain": [
       "<matplotlib.figure.Figure at 0x7f2374281048>"
      ]
     },
     "metadata": {},
     "output_type": "display_data"
    }
   ],
   "source": [
    "import matplotlib.pyplot as plt\n",
    "import numpy as np\n",
    "%matplotlib inline\n",
    "plt.style.use('ggplot')\n",
    "plt.rcParams['figure.figsize'] = 10, 8\n",
    "def _sample(logits, t):\n",
    "    res = logits / t\n",
    "    res = np.exp(res) / np.sum(np.exp(res))\n",
    "    return res\n",
    "\n",
    "N = 100\n",
    "x = np.arange(N)\n",
    "before = np.array([1.0+i**2 for i in range(N)])\n",
    "before /= before.sum()\n",
    "\n",
    "plt.plot(x, before, 'b--', label='before')\n",
    "\n",
    "after = _sample(before, 0.1)\n",
    "plt.plot(x, after, 'g--', label='temp=0.01')\n",
    "\n",
    "after = _sample(before, 0.2)\n",
    "print(after.argmax())\n",
    "plt.plot(x, after, 'r--', label='temp=0.001')\n",
    "\n",
    "\n",
    "plt.legend(bbox_to_anchor=(1.05, 1), loc=2, borderaxespad=0.)"
   ]
  },
  {
   "cell_type": "code",
   "execution_count": 5,
   "metadata": {
    "collapsed": false
   },
   "outputs": [
    {
     "name": "stdout",
     "output_type": "stream",
     "text": [
      " plot(*args, **kwargs)\n",
      "\n",
      "Plot lines and/or markers to the\n",
      ":class:`~matplotlib.axes.Axes`.  *args* is a variable length\n",
      "argument, allowing for multiple *x*, *y* pairs with an\n",
      "optional format string.  For example, each of the following is\n",
      "legal::\n",
      "\n",
      "    plot(x, y)        # plot x and y using default line style and color\n",
      "    plot(x, y, 'bo')  # plot x and y using blue circle markers\n",
      "    plot(y)           # plot y using x as index array 0..N-1\n",
      "    plot(y, 'r+')     # ditto, but with red plusses\n",
      "\n",
      "If *x* and/or *y* is 2-dimensional, then the corresponding columns\n",
      "will be plotted.\n",
      "\n",
      "If used with labeled data, make sure that the color spec is not\n",
      "included as an element in data, as otherwise the last case\n",
      "``plot(\"v\",\"r\", data={\"v\":..., \"r\":...)``\n",
      "can be interpreted as the first case which would do ``plot(v, r)``\n",
      "using the default line style and color.\n",
      "\n",
      "If not used with labeled data (i.e., without a data argument),\n",
      "an arbitrary number of *x*, *y*, *fmt* groups can be specified, as in::\n",
      "\n",
      "    a.plot(x1, y1, 'g^', x2, y2, 'g-')\n",
      "\n",
      "Return value is a list of lines that were added.\n",
      "\n",
      "By default, each line is assigned a different style specified by a\n",
      "'style cycle'.  To change this behavior, you can edit the\n",
      "axes.prop_cycle rcParam.\n",
      "\n",
      "The following format string characters are accepted to control\n",
      "the line style or marker:\n",
      "\n",
      "================    ===============================\n",
      "character           description\n",
      "================    ===============================\n",
      "``'-'``             solid line style\n",
      "``'--'``            dashed line style\n",
      "``'-.'``            dash-dot line style\n",
      "``':'``             dotted line style\n",
      "``'.'``             point marker\n",
      "``','``             pixel marker\n",
      "``'o'``             circle marker\n",
      "``'v'``             triangle_down marker\n",
      "``'^'``             triangle_up marker\n",
      "``'<'``             triangle_left marker\n",
      "``'>'``             triangle_right marker\n",
      "``'1'``             tri_down marker\n",
      "``'2'``             tri_up marker\n",
      "``'3'``             tri_left marker\n",
      "``'4'``             tri_right marker\n",
      "``'s'``             square marker\n",
      "``'p'``             pentagon marker\n",
      "``'*'``             star marker\n",
      "``'h'``             hexagon1 marker\n",
      "``'H'``             hexagon2 marker\n",
      "``'+'``             plus marker\n",
      "``'x'``             x marker\n",
      "``'D'``             diamond marker\n",
      "``'d'``             thin_diamond marker\n",
      "``'|'``             vline marker\n",
      "``'_'``             hline marker\n",
      "================    ===============================\n",
      "\n",
      "\n",
      "The following color abbreviations are supported:\n",
      "\n",
      "==========  ========\n",
      "character   color\n",
      "==========  ========\n",
      "'b'         blue\n",
      "'g'         green\n",
      "'r'         red\n",
      "'c'         cyan\n",
      "'m'         magenta\n",
      "'y'         yellow\n",
      "'k'         black\n",
      "'w'         white\n",
      "==========  ========\n",
      "\n",
      "In addition, you can specify colors in many weird and\n",
      "wonderful ways, including full names (``'green'``), hex\n",
      "strings (``'#008000'``), RGB or RGBA tuples (``(0,1,0,1)``) or\n",
      "grayscale intensities as a string (``'0.8'``).  Of these, the\n",
      "string specifications can be used in place of a ``fmt`` group,\n",
      "but the tuple forms can be used only as ``kwargs``.\n",
      "\n",
      "Line styles and colors are combined in a single format string, as in\n",
      "``'bo'`` for blue circles.\n",
      "\n",
      "The *kwargs* can be used to set line properties (any property that has\n",
      "a ``set_*`` method).  You can use this to set a line label (for auto\n",
      "legends), linewidth, anitialising, marker face color, etc.  Here is an\n",
      "example::\n",
      "\n",
      "    plot([1,2,3], [1,2,3], 'go-', label='line 1', linewidth=2)\n",
      "    plot([1,2,3], [1,4,9], 'rs',  label='line 2')\n",
      "    axis([0, 4, 0, 10])\n",
      "    legend()\n",
      "\n",
      "If you make multiple lines with one plot command, the kwargs\n",
      "apply to all those lines, e.g.::\n",
      "\n",
      "    plot(x1, y1, x2, y2, antialiased=False)\n",
      "\n",
      "Neither line will be antialiased.\n",
      "\n",
      "You do not need to use format strings, which are just\n",
      "abbreviations.  All of the line properties can be controlled\n",
      "by keyword arguments.  For example, you can set the color,\n",
      "marker, linestyle, and markercolor with::\n",
      "\n",
      "    plot(x, y, color='green', linestyle='dashed', marker='o',\n",
      "         markerfacecolor='blue', markersize=12).\n",
      "\n",
      "See :class:`~matplotlib.lines.Line2D` for details.\n",
      "\n",
      "The kwargs are :class:`~matplotlib.lines.Line2D` properties:\n",
      "\n",
      "  agg_filter: unknown\n",
      "  alpha: float (0.0 transparent through 1.0 opaque) \n",
      "  animated: [True | False] \n",
      "  antialiased or aa: [True | False] \n",
      "  axes: an :class:`~matplotlib.axes.Axes` instance \n",
      "  clip_box: a :class:`matplotlib.transforms.Bbox` instance \n",
      "  clip_on: [True | False] \n",
      "  clip_path: [ (:class:`~matplotlib.path.Path`, :class:`~matplotlib.transforms.Transform`) | :class:`~matplotlib.patches.Patch` | None ] \n",
      "  color or c: any matplotlib color \n",
      "  contains: a callable function \n",
      "  dash_capstyle: ['butt' | 'round' | 'projecting'] \n",
      "  dash_joinstyle: ['miter' | 'round' | 'bevel'] \n",
      "  dashes: sequence of on/off ink in points \n",
      "  drawstyle: ['default' | 'steps' | 'steps-pre' | 'steps-mid' | 'steps-post'] \n",
      "  figure: a :class:`matplotlib.figure.Figure` instance \n",
      "  fillstyle: ['full' | 'left' | 'right' | 'bottom' | 'top' | 'none'] \n",
      "  gid: an id string \n",
      "  label: string or anything printable with '%s' conversion. \n",
      "  linestyle or ls: ['solid' | 'dashed', 'dashdot', 'dotted' | (offset, on-off-dash-seq) | ``'-'`` | ``'--'`` | ``'-.'`` | ``':'`` | ``'None'`` | ``' '`` | ``''``]\n",
      "  linewidth or lw: float value in points \n",
      "  marker: :mod:`A valid marker style <matplotlib.markers>`\n",
      "  markeredgecolor or mec: any matplotlib color \n",
      "  markeredgewidth or mew: float value in points \n",
      "  markerfacecolor or mfc: any matplotlib color \n",
      "  markerfacecoloralt or mfcalt: any matplotlib color \n",
      "  markersize or ms: float \n",
      "  markevery: [None | int | length-2 tuple of int | slice | list/array of int | float | length-2 tuple of float]\n",
      "  path_effects: unknown\n",
      "  picker: float distance in points or callable pick function ``fn(artist, event)`` \n",
      "  pickradius: float distance in points \n",
      "  rasterized: [True | False | None] \n",
      "  sketch_params: unknown\n",
      "  snap: unknown\n",
      "  solid_capstyle: ['butt' | 'round' |  'projecting'] \n",
      "  solid_joinstyle: ['miter' | 'round' | 'bevel'] \n",
      "  transform: a :class:`matplotlib.transforms.Transform` instance \n",
      "  url: a url string \n",
      "  visible: [True | False] \n",
      "  xdata: 1D array \n",
      "  ydata: 1D array \n",
      "  zorder: any number \n",
      "\n",
      "kwargs *scalex* and *scaley*, if defined, are passed on to\n",
      ":meth:`~matplotlib.axes.Axes.autoscale_view` to determine\n",
      "whether the *x* and *y* axes are autoscaled; the default is\n",
      "*True*.\n",
      "\n",
      ".. note::\n",
      "    In addition to the above described arguments, this function can take a\n",
      "    **data** keyword argument. If such a **data** argument is given, the\n",
      "    following arguments are replaced by **data[<arg>]**:\n",
      "\n",
      "    * All arguments with the following names: 'x', 'y'.\n"
     ]
    }
   ],
   "source": [
    "np.info(plt.plot)"
   ]
  },
  {
   "cell_type": "code",
   "execution_count": null,
   "metadata": {
    "collapsed": true
   },
   "outputs": [],
   "source": []
  }
 ],
 "metadata": {
  "kernelspec": {
   "display_name": "Python 3",
   "language": "python",
   "name": "python3"
  },
  "language_info": {
   "codemirror_mode": {
    "name": "ipython",
    "version": 3
   },
   "file_extension": ".py",
   "mimetype": "text/x-python",
   "name": "python",
   "nbconvert_exporter": "python",
   "pygments_lexer": "ipython3",
   "version": "3.5.2"
  }
 },
 "nbformat": 4,
 "nbformat_minor": 0
}
