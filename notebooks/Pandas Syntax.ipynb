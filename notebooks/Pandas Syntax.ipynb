{
 "cells": [
  {
   "cell_type": "markdown",
   "metadata": {},
   "source": [
    "# Basics: [DataFrames](https://www.datacamp.com/community/tutorials/pandas-tutorial-dataframe-python#gs.Ulu69Pg)"
   ]
  },
  {
   "cell_type": "code",
   "execution_count": 1,
   "metadata": {
    "collapsed": true
   },
   "outputs": [],
   "source": [
    "from __future__ import absolute_import, division, print_function\n",
    "import pandas as pd\n",
    "import numpy as np"
   ]
  },
  {
   "cell_type": "markdown",
   "metadata": {},
   "source": [
    "## Creation"
   ]
  },
  {
   "cell_type": "code",
   "execution_count": 2,
   "metadata": {
    "collapsed": false
   },
   "outputs": [
    {
     "name": "stdout",
     "output_type": "stream",
     "text": [
      "From a numpy array:\n",
      "   0  1  2\n",
      "0  1  2  3\n",
      "1  4  5  6\n",
      "Frum a dictionary:\n",
      "   1  2\n",
      "0  1  1\n",
      "1  3  2\n",
      "From a df:\n",
      "   A\n",
      "0  4\n",
      "1  5\n",
      "2  6\n",
      "3  7\n"
     ]
    }
   ],
   "source": [
    "arr = np.array([[1, 2, 3], [4, 5, 6]])\n",
    "print(\"From a numpy array:\", pd.DataFrame(arr), sep=\"\\n\")\n",
    "\n",
    "dic = {1: ['1', '3'], 2: ['1', '2']}\n",
    "print(\"Frum a dictionary:\", pd.DataFrame(dic), sep=\"\\n\")\n",
    "\n",
    "df = pd.DataFrame(data=[4, 5, 6, 7], index=range(0, 4), columns=['A'])\n",
    "print(\"From a df:\", pd.DataFrame(df), sep=\"\\n\")"
   ]
  },
  {
   "cell_type": "code",
   "execution_count": 3,
   "metadata": {
    "collapsed": false
   },
   "outputs": [
    {
     "name": "stdout",
     "output_type": "stream",
     "text": [
      " drop(labels, axis=0, level=None, inplace=False, errors='raise')\n",
      "\n",
      "Return new object with labels in requested axis removed.\n",
      "\n",
      "Parameters\n",
      "----------\n",
      "labels : single label or list-like\n",
      "axis : int or axis name\n",
      "level : int or level name, default None\n",
      "    For MultiIndex\n",
      "inplace : bool, default False\n",
      "    If True, do operation inplace and return None.\n",
      "errors : {'ignore', 'raise'}, default 'raise'\n",
      "    If 'ignore', suppress error and existing labels are dropped.\n",
      "\n",
      "    .. versionadded:: 0.16.1\n",
      "\n",
      "Returns\n",
      "-------\n",
      "dropped : type of caller\n"
     ]
    }
   ],
   "source": [
    "np.info(df.drop)"
   ]
  },
  {
   "cell_type": "markdown",
   "metadata": {},
   "source": [
    "## Inspection"
   ]
  },
  {
   "cell_type": "code",
   "execution_count": 16,
   "metadata": {
    "collapsed": false
   },
   "outputs": [
    {
     "name": "stdout",
     "output_type": "stream",
     "text": [
      "Shape: (2, 3)\n",
      "Height: 2\n",
      "\n"
     ]
    }
   ],
   "source": [
    "df = pd.DataFrame(np.array([[1,2,3], [4, 5, 6]]))\n",
    "print(\"Shape:\", df.shape)\n",
    "print(\"Height:\", len(df.index), end=\"\\n\\n\") "
   ]
  },
  {
   "cell_type": "markdown",
   "metadata": {},
   "source": [
    "## Indexing"
   ]
  },
  {
   "cell_type": "code",
   "execution_count": 34,
   "metadata": {
    "collapsed": false
   },
   "outputs": [
    {
     "name": "stdout",
     "output_type": "stream",
     "text": [
      "The examples below all access the top-left '1' in . . . \n",
      "    A  B  C\n",
      "0  1  2  3\n",
      "1  4  5  6\n",
      "2  7  8  9 \n",
      "\n"
     ]
    },
    {
     "data": {
      "text/plain": [
       "1"
      ]
     },
     "execution_count": 34,
     "metadata": {},
     "output_type": "execute_result"
    }
   ],
   "source": [
    "# Define example df:\n",
    "arr = np.arange(1, 10).reshape(3, 3)\n",
    "df = pd.DataFrame(arr, columns=['A', 'B', 'C'])\n",
    "print(\"The examples below all access the top-left '1' in . . . \\n\", df.head(), \"\\n\")\n",
    "\n",
    "# iloc and loc are the 2 main ones.\n",
    "df.iloc[0][0]\n",
    "df.loc[0]['A']\n",
    "v\n",
    "df.at[0, 'A']\n",
    "df.iat[0, 0]\n",
    "df.get_value(0, 'A')"
   ]
  },
  {
   "cell_type": "markdown",
   "metadata": {},
   "source": [
    "## Expanding/Removing/Changing Data  from Rows/Columns"
   ]
  },
  {
   "cell_type": "markdown",
   "metadata": {},
   "source": [
    "#### Adding a New Column"
   ]
  },
  {
   "cell_type": "code",
   "execution_count": 8,
   "metadata": {
    "collapsed": false
   },
   "outputs": [
    {
     "data": {
      "text/html": [
       "<div>\n",
       "<table border=\"1\" class=\"dataframe\">\n",
       "  <thead>\n",
       "    <tr style=\"text-align: right;\">\n",
       "      <th></th>\n",
       "      <th>A</th>\n",
       "      <th>new_col</th>\n",
       "      <th>name</th>\n",
       "    </tr>\n",
       "  </thead>\n",
       "  <tbody>\n",
       "    <tr>\n",
       "      <th>0</th>\n",
       "      <td>4</td>\n",
       "      <td>0</td>\n",
       "      <td>0</td>\n",
       "    </tr>\n",
       "    <tr>\n",
       "      <th>1</th>\n",
       "      <td>5</td>\n",
       "      <td>3</td>\n",
       "      <td>1</td>\n",
       "    </tr>\n",
       "    <tr>\n",
       "      <th>2</th>\n",
       "      <td>6</td>\n",
       "      <td>6</td>\n",
       "      <td>2</td>\n",
       "    </tr>\n",
       "    <tr>\n",
       "      <th>3</th>\n",
       "      <td>7</td>\n",
       "      <td>4</td>\n",
       "      <td>3</td>\n",
       "    </tr>\n",
       "  </tbody>\n",
       "</table>\n",
       "</div>"
      ],
      "text/plain": [
       "   A  new_col  name\n",
       "0  4        0     0\n",
       "1  5        3     1\n",
       "2  6        6     2\n",
       "3  7        4     3"
      ]
     },
     "execution_count": 8,
     "metadata": {},
     "output_type": "execute_result"
    }
   ],
   "source": [
    "# Append list as column.\n",
    "new_df = df.assign(new_col = pd.Series(np.random.randint(10, size=len(df))).values)\n",
    "# Append column with name 'name'. Values initialized to row index. \n",
    "new_df['name'] = new_df.index\n",
    "new_df.head()"
   ]
  },
  {
   "cell_type": "markdown",
   "metadata": {},
   "source": [
    "## Changing Data"
   ]
  },
  {
   "cell_type": "markdown",
   "metadata": {},
   "source": [
    "#### Renaming Columns"
   ]
  },
  {
   "cell_type": "code",
   "execution_count": null,
   "metadata": {
    "collapsed": true
   },
   "outputs": [],
   "source": [
    "# Check out your DataFrame `df`\n",
    "print(df)\n",
    "\n",
    "# Define the new names of your columns\n",
    "newcols = {\n",
    "    'A': 'new_column_1', \n",
    "    'B': 'new_column_2', \n",
    "    'C': 'new_column_3'\n",
    "}\n",
    "\n",
    "# Use `rename()` to rename your columns\n",
    "df.rename(columns=newcols, inplace=True)\n",
    "\n",
    "# Rename your index\n",
    "df.rename(index={1: 'a'})"
   ]
  },
  {
   "cell_type": "markdown",
   "metadata": {},
   "source": [
    "#### Replacing String Patterns with Regex"
   ]
  },
  {
   "cell_type": "code",
   "execution_count": 28,
   "metadata": {
    "collapsed": false
   },
   "outputs": [
    {
     "name": "stdout",
     "output_type": "stream",
     "text": [
      "Before:\n",
      "      0    1    2\n",
      "0    1  2\\n    3\n",
      "1  4\\n    5    6\n",
      "2    7    8  9\\n\n",
      "After:\n",
      "        0      1      2\n",
      "0      1  2<br>      3\n",
      "1  4<br>      5      6\n",
      "2      7      8  9<br>\n"
     ]
    }
   ],
   "source": [
    "# Check out your DataFrame `df`\n",
    "arr = np.arange(1, 10).reshape(3, 3)\n",
    "arr = [[str(r) for r in row] for row in arr]\n",
    "arr[0][1] += '\\n'\n",
    "arr[1][0] += '\\n'\n",
    "arr[2][2] += '\\n'\n",
    "df = pd.DataFrame(arr)\n",
    "print(\"Before:\\n\", df)\n",
    "\n",
    "df.replace({'\\n': '<br>'}, regex=True, inplace=True)\n",
    "print(\"After:\\n\", df)"
   ]
  },
  {
   "cell_type": "code",
   "execution_count": null,
   "metadata": {
    "collapsed": true
   },
   "outputs": [],
   "source": [
    "print(df)\n",
    "# Replace strings by others with `regex`\n",
    "df.replace({'\\n': '<br>'}, regex=True, inplace=True)\n",
    "print(df)"
   ]
  },
  {
   "cell_type": "markdown",
   "metadata": {},
   "source": [
    "# Customizing Display Options "
   ]
  },
  {
   "cell_type": "code",
   "execution_count": 11,
   "metadata": {
    "collapsed": false
   },
   "outputs": [
    {
     "data": {
      "text/html": [
       "<div>\n",
       "<table border=\"1\" class=\"dataframe\">\n",
       "  <thead>\n",
       "    <tr style=\"text-align: right;\">\n",
       "      <th></th>\n",
       "      <th>number</th>\n",
       "      <th>text</th>\n",
       "    </tr>\n",
       "  </thead>\n",
       "  <tbody>\n",
       "    <tr>\n",
       "      <th>0</th>\n",
       "      <td>1</td>\n",
       "      <td>foo foo foo foo foo foo foo foo</td>\n",
       "    </tr>\n",
       "    <tr>\n",
       "      <th>1</th>\n",
       "      <td>2</td>\n",
       "      <td>bar bar bar bar bar</td>\n",
       "    </tr>\n",
       "  </tbody>\n",
       "</table>\n",
       "</div>"
      ],
      "text/plain": [
       "   number                             text\n",
       "0       1  foo foo foo foo foo foo foo foo\n",
       "1       2              bar bar bar bar bar"
      ]
     },
     "execution_count": 11,
     "metadata": {},
     "output_type": "execute_result"
    }
   ],
   "source": [
    "df = pd.DataFrame({'text': ['foo foo foo foo foo foo foo foo', 'bar bar bar bar bar'],\n",
    "                 'number': [1, 2]})\n",
    "df.head()"
   ]
  },
  {
   "cell_type": "code",
   "execution_count": 14,
   "metadata": {
    "collapsed": true
   },
   "outputs": [
    {
     "name": "stdout",
     "output_type": "stream",
     "text": [
      " set_properties(subset=None, **kwargs)\n",
      "\n",
      "Convience method for setting one or more non-data dependent\n",
      "properties or each cell.\n",
      "\n",
      ".. versionadded:: 0.17.1\n",
      "\n",
      "Parameters\n",
      "----------\n",
      "subset: IndexSlice\n",
      "    a valid slice for ``data`` to limit the style application to\n",
      "kwargs: dict\n",
      "    property: value pairs to be set for each cell\n",
      "\n",
      "Returns\n",
      "-------\n",
      "self : Styler\n",
      "\n",
      "Examples\n",
      "--------\n",
      ">>> df = pd.DataFrame(np.random.randn(10, 4))\n",
      ">>> df.style.set_properties(color=\"white\", align=\"right\")\n",
      ">>> df.style.set_properties(**{'background-color': 'yellow'})\n"
     ]
    }
   ],
   "source": [
    "df.style.set_properties(subset=['text'], **{'width': '800px'})\n",
    "np.info(df.style.set_properties)"
   ]
  },
  {
   "cell_type": "markdown",
   "metadata": {
    "collapsed": true
   },
   "source": [
    "# Saving and Loading Data"
   ]
  },
  {
   "cell_type": "code",
   "execution_count": 44,
   "metadata": {
    "collapsed": false
   },
   "outputs": [
    {
     "data": {
      "text/html": [
       "<div>\n",
       "<table border=\"1\" class=\"dataframe\">\n",
       "  <thead>\n",
       "    <tr style=\"text-align: right;\">\n",
       "      <th></th>\n",
       "      <th>learning_rate</th>\n",
       "      <th>loss</th>\n",
       "    </tr>\n",
       "  </thead>\n",
       "  <tbody>\n",
       "    <tr>\n",
       "      <th>0</th>\n",
       "      <td>0.5</td>\n",
       "      <td>0.120</td>\n",
       "    </tr>\n",
       "    <tr>\n",
       "      <th>1</th>\n",
       "      <td>0.1</td>\n",
       "      <td>0.165</td>\n",
       "    </tr>\n",
       "  </tbody>\n",
       "</table>\n",
       "</div>"
      ],
      "text/plain": [
       "   learning_rate   loss\n",
       "0            0.5  0.120\n",
       "1            0.1  0.165"
      ]
     },
     "execution_count": 44,
     "metadata": {},
     "output_type": "execute_result"
    }
   ],
   "source": [
    "import pandas as pd\n",
    "import numpy as np\n",
    "loss = [0.12, 0.165]\n",
    "learning_rate= [0.5, 0.1]\n",
    "df = pd.DataFrame({\"loss\": loss, \"learning_rate\": learning_rate})\n",
    "df.head()"
   ]
  },
  {
   "cell_type": "markdown",
   "metadata": {},
   "source": [
    "#### Creating/Appending and Saving DF to File\n",
    "Creates file if exists, else appends to existing one. Useful for repeated updates to data files."
   ]
  },
  {
   "cell_type": "code",
   "execution_count": 45,
   "metadata": {
    "collapsed": false
   },
   "outputs": [],
   "source": [
    "# When opening to new and/or empty file, do . . . \n",
    "with open('io_test.csv', 'a+') as f:\n",
    "    df.to_csv(f)\n",
    "# When you know the file already exists & isn't empty, do . . . \n",
    "with open('io_test.csv', 'a') as f:\n",
    "    # Don't include header in appended content.\n",
    "    df.to_csv(f, header=False)"
   ]
  },
  {
   "cell_type": "code",
   "execution_count": 46,
   "metadata": {
    "collapsed": false
   },
   "outputs": [
    {
     "name": "stdout",
     "output_type": "stream",
     "text": [
      ",learning_rate,loss\n",
      "0,0.5,0.12\n",
      "1,0.1,0.165\n"
     ]
    }
   ],
   "source": [
    "%%bash\n",
    "cat io_test.csv"
   ]
  },
  {
   "cell_type": "markdown",
   "metadata": {},
   "source": [
    "#### Loading From CSV Into DF"
   ]
  },
  {
   "cell_type": "code",
   "execution_count": 47,
   "metadata": {
    "collapsed": false
   },
   "outputs": [
    {
     "data": {
      "text/html": [
       "<div>\n",
       "<table border=\"1\" class=\"dataframe\">\n",
       "  <thead>\n",
       "    <tr style=\"text-align: right;\">\n",
       "      <th></th>\n",
       "      <th>learning_rate</th>\n",
       "      <th>loss</th>\n",
       "    </tr>\n",
       "  </thead>\n",
       "  <tbody>\n",
       "    <tr>\n",
       "      <th>0</th>\n",
       "      <td>0.5</td>\n",
       "      <td>0.120</td>\n",
       "    </tr>\n",
       "    <tr>\n",
       "      <th>1</th>\n",
       "      <td>0.1</td>\n",
       "      <td>0.165</td>\n",
       "    </tr>\n",
       "  </tbody>\n",
       "</table>\n",
       "</div>"
      ],
      "text/plain": [
       "   learning_rate   loss\n",
       "0            0.5  0.120\n",
       "1            0.1  0.165"
      ]
     },
     "execution_count": 47,
     "metadata": {},
     "output_type": "execute_result"
    }
   ],
   "source": [
    "df_load = pd.read_csv('io_test.csv', index_col=0)\n",
    "df_load.head()"
   ]
  },
  {
   "cell_type": "code",
   "execution_count": 48,
   "metadata": {
    "collapsed": false
   },
   "outputs": [
    {
     "data": {
      "text/html": [
       "<div>\n",
       "<table border=\"1\" class=\"dataframe\">\n",
       "  <thead>\n",
       "    <tr style=\"text-align: right;\">\n",
       "      <th></th>\n",
       "      <th>learning_rate</th>\n",
       "      <th>loss</th>\n",
       "    </tr>\n",
       "  </thead>\n",
       "  <tbody>\n",
       "    <tr>\n",
       "      <th>0</th>\n",
       "      <td>0.50</td>\n",
       "      <td>0.120</td>\n",
       "    </tr>\n",
       "    <tr>\n",
       "      <th>1</th>\n",
       "      <td>0.10</td>\n",
       "      <td>0.165</td>\n",
       "    </tr>\n",
       "    <tr>\n",
       "      <th>2</th>\n",
       "      <td>0.01</td>\n",
       "      <td>200.000</td>\n",
       "    </tr>\n",
       "  </tbody>\n",
       "</table>\n",
       "</div>"
      ],
      "text/plain": [
       "   learning_rate     loss\n",
       "0           0.50    0.120\n",
       "1           0.10    0.165\n",
       "2           0.01  200.000"
      ]
     },
     "execution_count": 48,
     "metadata": {},
     "output_type": "execute_result"
    }
   ],
   "source": [
    "df_load = df_load.append({\"loss\":200, \"learning_rate\":0.01}, ignore_index=True)\n",
    "df_load.head()"
   ]
  }
 ],
 "metadata": {
  "anaconda-cloud": {},
  "kernelspec": {
   "display_name": "Python 3",
   "language": "python",
   "name": "python3"
  },
  "language_info": {
   "codemirror_mode": {
    "name": "ipython",
    "version": 3
   },
   "file_extension": ".py",
   "mimetype": "text/x-python",
   "name": "python",
   "nbconvert_exporter": "python",
   "pygments_lexer": "ipython3",
   "version": "3.5.2"
  }
 },
 "nbformat": 4,
 "nbformat_minor": 2
}
